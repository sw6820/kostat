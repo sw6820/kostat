{
  "nbformat": 4,
  "nbformat_minor": 0,
  "metadata": {
    "colab": {
      "name": "one-to-one_model.ipynb",
      "provenance": [],
      "authorship_tag": "ABX9TyOYlIURSonUnwMUVYRmnNxC",
      "include_colab_link": true
    },
    "kernelspec": {
      "name": "python3",
      "display_name": "Python 3"
    },
    "language_info": {
      "name": "python"
    }
  },
  "cells": [
    {
      "cell_type": "markdown",
      "metadata": {
        "id": "view-in-github",
        "colab_type": "text"
      },
      "source": [
        "<a href=\"https://colab.research.google.com/github/sw6820/kostat/blob/main/model/one_to_one_model.ipynb\" target=\"_parent\"><img src=\"https://colab.research.google.com/assets/colab-badge.svg\" alt=\"Open In Colab\"/></a>"
      ]
    },
    {
      "cell_type": "markdown",
      "source": [
        "### Import"
      ],
      "metadata": {
        "id": "sEjQ58PIBNIK"
      }
    },
    {
      "cell_type": "code",
      "execution_count": null,
      "metadata": {
        "colab": {
          "base_uri": "https://localhost:8080/"
        },
        "id": "nBT_NKZfpC5k",
        "outputId": "e18f5981-69a9-4da7-df06-0e200aa7c0a9"
      },
      "outputs": [
        {
          "output_type": "stream",
          "name": "stdout",
          "text": [
            "Drive already mounted at /content/drive; to attempt to forcibly remount, call drive.mount(\"/content/drive\", force_remount=True).\n"
          ]
        }
      ],
      "source": [
        "from google.colab import drive\n",
        "drive.mount('/content/drive')"
      ]
    },
    {
      "cell_type": "code",
      "source": [
        "cd /content/drive/MyDrive/industry_classification"
      ],
      "metadata": {
        "colab": {
          "base_uri": "https://localhost:8080/"
        },
        "id": "ZsKnIIZgpDum",
        "outputId": "3bcdc626-f108-45a8-afd5-8d5040b65b75"
      },
      "execution_count": null,
      "outputs": [
        {
          "output_type": "stream",
          "name": "stdout",
          "text": [
            "/content/drive/MyDrive/industry_classification\n"
          ]
        }
      ]
    },
    {
      "cell_type": "code",
      "source": [
        "!pip install transformers -qq\n",
        "!pip install datasets -qq\n",
        "!pip install wandb -qq\n",
        "!pip install scikit-learn -qq"
      ],
      "metadata": {
        "id": "yb4C_a3_gAYp",
        "colab": {
          "base_uri": "https://localhost:8080/"
        },
        "outputId": "caab77c8-0d2b-437f-9d86-c53581bd1cab"
      },
      "execution_count": null,
      "outputs": [
        {
          "output_type": "stream",
          "name": "stdout",
          "text": [
            "\u001b[K     |████████████████████████████████| 3.8 MB 14.5 MB/s \n",
            "\u001b[K     |████████████████████████████████| 596 kB 68.1 MB/s \n",
            "\u001b[K     |████████████████████████████████| 6.5 MB 50.9 MB/s \n",
            "\u001b[K     |████████████████████████████████| 67 kB 4.9 MB/s \n",
            "\u001b[K     |████████████████████████████████| 895 kB 63.4 MB/s \n",
            "\u001b[K     |████████████████████████████████| 325 kB 13.7 MB/s \n",
            "\u001b[K     |████████████████████████████████| 134 kB 80.0 MB/s \n",
            "\u001b[K     |████████████████████████████████| 1.1 MB 69.3 MB/s \n",
            "\u001b[K     |████████████████████████████████| 212 kB 97.1 MB/s \n",
            "\u001b[K     |████████████████████████████████| 127 kB 73.6 MB/s \n",
            "\u001b[K     |████████████████████████████████| 94 kB 3.2 MB/s \n",
            "\u001b[K     |████████████████████████████████| 271 kB 74.6 MB/s \n",
            "\u001b[K     |████████████████████████████████| 144 kB 97.8 MB/s \n",
            "\u001b[31mERROR: pip's dependency resolver does not currently take into account all the packages that are installed. This behaviour is the source of the following dependency conflicts.\n",
            "datascience 0.10.6 requires folium==0.2.1, but you have folium 0.8.3 which is incompatible.\u001b[0m\n",
            "\u001b[K     |████████████████████████████████| 1.7 MB 15.8 MB/s \n",
            "\u001b[K     |████████████████████████████████| 144 kB 84.0 MB/s \n",
            "\u001b[K     |████████████████████████████████| 181 kB 75.7 MB/s \n",
            "\u001b[K     |████████████████████████████████| 63 kB 2.2 MB/s \n",
            "\u001b[?25h  Building wheel for pathtools (setup.py) ... \u001b[?25l\u001b[?25hdone\n"
          ]
        }
      ]
    },
    {
      "cell_type": "code",
      "source": [
        "import pandas as pd\n",
        "import random\n",
        "import numpy as np\n",
        "from tqdm import tqdm, tqdm_notebook\n",
        "import torch\n",
        "import torch.nn.functional as F\n",
        "import torch.nn as nn\n",
        "from torch.utils.data import DataLoader\n",
        "from torch.utils.data import Dataset\n",
        "from sklearn.model_selection import KFold, StratifiedKFold, GridSearchCV, train_test_split\n",
        "from sklearn.metrics import accuracy_score, recall_score, precision_score, f1_score\n",
        "\n",
        "from matplotlib import pyplot as plt\n",
        "import seaborn as sns\n",
        "\n",
        "from transformers import AutoModelForSequenceClassification, AutoConfig, AutoTokenizer\n",
        "from transformers import TrainingArguments, Trainer"
      ],
      "metadata": {
        "id": "mLoL4NC8pMEp"
      },
      "execution_count": null,
      "outputs": []
    },
    {
      "cell_type": "code",
      "source": [
        "def seed_everything(seed) :\n",
        "    torch.manual_seed(seed)\n",
        "    torch.cuda.manual_seed(seed)\n",
        "    torch.cuda.manual_seed_all(seed) # if use multi-GPU\n",
        "    torch.backends.cudnn.deterministic = True\n",
        "    torch.backends.cudnn.benchmark = False\n",
        "    np.random.seed(seed)\n",
        "    random.seed(seed)\n",
        "seed_everything(42)\n",
        "\n",
        "device = torch.device('cuda:0' if torch.cuda.is_available() else 'cpu')\n",
        "print(device)"
      ],
      "metadata": {
        "colab": {
          "base_uri": "https://localhost:8080/"
        },
        "id": "IBnKoGOBLalv",
        "outputId": "fd0a67de-614d-4b02-bb6c-8ad013673d6f"
      },
      "execution_count": null,
      "outputs": [
        {
          "output_type": "stream",
          "name": "stdout",
          "text": [
            "cuda:0\n"
          ]
        }
      ]
    },
    {
      "cell_type": "markdown",
      "source": [
        "### Prepare Data"
      ],
      "metadata": {
        "id": "ojl95jv-BV4S"
      }
    },
    {
      "cell_type": "code",
      "source": [
        "train = pd.read_csv('data/1. 실습용자료.txt', sep='|', encoding='cp949')\n",
        "test = pd.read_csv('data/2. 모델개발용자료.txt', sep='|', encoding='cp949')\n",
        "submission = pd.read_csv(\"data/답안 작성용 파일.csv\", encoding='cp949')"
      ],
      "metadata": {
        "id": "tubUf1YEq4lE"
      },
      "execution_count": null,
      "outputs": []
    },
    {
      "cell_type": "code",
      "source": [
        "# digit은 classification을 위한 것이므로 연속형 변수 dtype인 int, float를 범주형 변수를 위한 dtype인 str으로 변경\n",
        "\n",
        "train.loc[:,'digit_2'] = train.loc[:,'digit_2'].astype(str)\n",
        "train.loc[:,'digit_3'] = train.loc[:,'digit_3'].astype(str)\n",
        "test.loc[:,'digit_1'] = test.loc[:,'digit_1'].astype(str)\n",
        "test.loc[:,'digit_2'] = test.loc[:,'digit_2'].astype(str)\n",
        "test.loc[:,'digit_3'] = test.loc[:,'digit_3'].astype(str)"
      ],
      "metadata": {
        "id": "iaSxFEK5Aib9"
      },
      "execution_count": null,
      "outputs": []
    },
    {
      "cell_type": "code",
      "source": [
        "# NaN은 덧셈이 불가능하므로 빈 문자열로 교체\n",
        "\n",
        "train = train.fillna('')\n",
        "test = test.fillna('')"
      ],
      "metadata": {
        "id": "jlbF4h1F_LpB"
      },
      "execution_count": null,
      "outputs": []
    },
    {
      "cell_type": "code",
      "source": [
        "# 변수 합치기\n",
        "\n",
        "train.loc[:,\"label\"] = train.loc[:,\"digit_3\"]\n",
        "train.loc[:,\"text\"] = train.loc[:,\"text_obj\"] + train.loc[:,\"text_mthd\"] + train.loc[:,\"text_deal\"]\n",
        "test.loc[:,\"text\"] = test.loc[:,\"text_obj\"] + test.loc[:,\"text_mthd\"] + test.loc[:,\"text_deal\"]"
      ],
      "metadata": {
        "id": "FXO8pGCNN8fC"
      },
      "execution_count": null,
      "outputs": []
    },
    {
      "cell_type": "code",
      "source": [
        "columns = [\"AI_id\", \"text\", \"label\"]\n",
        "train = train.loc[:,columns]\n",
        "train.sample(5)"
      ],
      "metadata": {
        "colab": {
          "base_uri": "https://localhost:8080/",
          "height": 206
        },
        "id": "S5Djnv92eA_F",
        "outputId": "aca1a47a-a14c-4d87-f704-e110090f8f07"
      },
      "execution_count": null,
      "outputs": [
        {
          "output_type": "execute_result",
          "data": {
            "text/plain": [
              "             AI_id                     text label\n",
              "769808  id_0769809                  건설기계 대여   426\n",
              "896283  id_0896284        가게에서접객시설을갖추고소주,맥주   562\n",
              "889979  id_0889980    개인택시로일반인을 대상으로승객운송서비스   492\n",
              "341288  id_0341289   고객의 가정에서센터에서영유아및초등학생돌봄   872\n",
              "666328  id_0666329  대학교학생들 대상으로전문적 학문 교육서비스   853"
            ],
            "text/html": [
              "\n",
              "  <div id=\"df-90d24e58-fe7b-4f7c-a4a0-02b7361c4add\">\n",
              "    <div class=\"colab-df-container\">\n",
              "      <div>\n",
              "<style scoped>\n",
              "    .dataframe tbody tr th:only-of-type {\n",
              "        vertical-align: middle;\n",
              "    }\n",
              "\n",
              "    .dataframe tbody tr th {\n",
              "        vertical-align: top;\n",
              "    }\n",
              "\n",
              "    .dataframe thead th {\n",
              "        text-align: right;\n",
              "    }\n",
              "</style>\n",
              "<table border=\"1\" class=\"dataframe\">\n",
              "  <thead>\n",
              "    <tr style=\"text-align: right;\">\n",
              "      <th></th>\n",
              "      <th>AI_id</th>\n",
              "      <th>text</th>\n",
              "      <th>label</th>\n",
              "    </tr>\n",
              "  </thead>\n",
              "  <tbody>\n",
              "    <tr>\n",
              "      <th>769808</th>\n",
              "      <td>id_0769809</td>\n",
              "      <td>건설기계 대여</td>\n",
              "      <td>426</td>\n",
              "    </tr>\n",
              "    <tr>\n",
              "      <th>896283</th>\n",
              "      <td>id_0896284</td>\n",
              "      <td>가게에서접객시설을갖추고소주,맥주</td>\n",
              "      <td>562</td>\n",
              "    </tr>\n",
              "    <tr>\n",
              "      <th>889979</th>\n",
              "      <td>id_0889980</td>\n",
              "      <td>개인택시로일반인을 대상으로승객운송서비스</td>\n",
              "      <td>492</td>\n",
              "    </tr>\n",
              "    <tr>\n",
              "      <th>341288</th>\n",
              "      <td>id_0341289</td>\n",
              "      <td>고객의 가정에서센터에서영유아및초등학생돌봄</td>\n",
              "      <td>872</td>\n",
              "    </tr>\n",
              "    <tr>\n",
              "      <th>666328</th>\n",
              "      <td>id_0666329</td>\n",
              "      <td>대학교학생들 대상으로전문적 학문 교육서비스</td>\n",
              "      <td>853</td>\n",
              "    </tr>\n",
              "  </tbody>\n",
              "</table>\n",
              "</div>\n",
              "      <button class=\"colab-df-convert\" onclick=\"convertToInteractive('df-90d24e58-fe7b-4f7c-a4a0-02b7361c4add')\"\n",
              "              title=\"Convert this dataframe to an interactive table.\"\n",
              "              style=\"display:none;\">\n",
              "        \n",
              "  <svg xmlns=\"http://www.w3.org/2000/svg\" height=\"24px\"viewBox=\"0 0 24 24\"\n",
              "       width=\"24px\">\n",
              "    <path d=\"M0 0h24v24H0V0z\" fill=\"none\"/>\n",
              "    <path d=\"M18.56 5.44l.94 2.06.94-2.06 2.06-.94-2.06-.94-.94-2.06-.94 2.06-2.06.94zm-11 1L8.5 8.5l.94-2.06 2.06-.94-2.06-.94L8.5 2.5l-.94 2.06-2.06.94zm10 10l.94 2.06.94-2.06 2.06-.94-2.06-.94-.94-2.06-.94 2.06-2.06.94z\"/><path d=\"M17.41 7.96l-1.37-1.37c-.4-.4-.92-.59-1.43-.59-.52 0-1.04.2-1.43.59L10.3 9.45l-7.72 7.72c-.78.78-.78 2.05 0 2.83L4 21.41c.39.39.9.59 1.41.59.51 0 1.02-.2 1.41-.59l7.78-7.78 2.81-2.81c.8-.78.8-2.07 0-2.86zM5.41 20L4 18.59l7.72-7.72 1.47 1.35L5.41 20z\"/>\n",
              "  </svg>\n",
              "      </button>\n",
              "      \n",
              "  <style>\n",
              "    .colab-df-container {\n",
              "      display:flex;\n",
              "      flex-wrap:wrap;\n",
              "      gap: 12px;\n",
              "    }\n",
              "\n",
              "    .colab-df-convert {\n",
              "      background-color: #E8F0FE;\n",
              "      border: none;\n",
              "      border-radius: 50%;\n",
              "      cursor: pointer;\n",
              "      display: none;\n",
              "      fill: #1967D2;\n",
              "      height: 32px;\n",
              "      padding: 0 0 0 0;\n",
              "      width: 32px;\n",
              "    }\n",
              "\n",
              "    .colab-df-convert:hover {\n",
              "      background-color: #E2EBFA;\n",
              "      box-shadow: 0px 1px 2px rgba(60, 64, 67, 0.3), 0px 1px 3px 1px rgba(60, 64, 67, 0.15);\n",
              "      fill: #174EA6;\n",
              "    }\n",
              "\n",
              "    [theme=dark] .colab-df-convert {\n",
              "      background-color: #3B4455;\n",
              "      fill: #D2E3FC;\n",
              "    }\n",
              "\n",
              "    [theme=dark] .colab-df-convert:hover {\n",
              "      background-color: #434B5C;\n",
              "      box-shadow: 0px 1px 3px 1px rgba(0, 0, 0, 0.15);\n",
              "      filter: drop-shadow(0px 1px 2px rgba(0, 0, 0, 0.3));\n",
              "      fill: #FFFFFF;\n",
              "    }\n",
              "  </style>\n",
              "\n",
              "      <script>\n",
              "        const buttonEl =\n",
              "          document.querySelector('#df-90d24e58-fe7b-4f7c-a4a0-02b7361c4add button.colab-df-convert');\n",
              "        buttonEl.style.display =\n",
              "          google.colab.kernel.accessAllowed ? 'block' : 'none';\n",
              "\n",
              "        async function convertToInteractive(key) {\n",
              "          const element = document.querySelector('#df-90d24e58-fe7b-4f7c-a4a0-02b7361c4add');\n",
              "          const dataTable =\n",
              "            await google.colab.kernel.invokeFunction('convertToInteractive',\n",
              "                                                     [key], {});\n",
              "          if (!dataTable) return;\n",
              "\n",
              "          const docLinkHtml = 'Like what you see? Visit the ' +\n",
              "            '<a target=\"_blank\" href=https://colab.research.google.com/notebooks/data_table.ipynb>data table notebook</a>'\n",
              "            + ' to learn more about interactive tables.';\n",
              "          element.innerHTML = '';\n",
              "          dataTable['output_type'] = 'display_data';\n",
              "          await google.colab.output.renderOutput(dataTable, element);\n",
              "          const docLink = document.createElement('div');\n",
              "          docLink.innerHTML = docLinkHtml;\n",
              "          element.appendChild(docLink);\n",
              "        }\n",
              "      </script>\n",
              "    </div>\n",
              "  </div>\n",
              "  "
            ]
          },
          "metadata": {},
          "execution_count": 11
        }
      ]
    },
    {
      "cell_type": "code",
      "source": [
        "train_count = train.groupby(by=[\"label\"]).count()\n",
        "train_count[\"AI_id\"]"
      ],
      "metadata": {
        "colab": {
          "base_uri": "https://localhost:8080/"
        },
        "id": "np_2Q23-lEN4",
        "outputId": "5c7bc56f-665f-44dd-ca36-2dc90af10814"
      },
      "execution_count": null,
      "outputs": [
        {
          "output_type": "execute_result",
          "data": {
            "text/plain": [
              "label\n",
              "101      729\n",
              "102      985\n",
              "103     1177\n",
              "104      769\n",
              "105       64\n",
              "       ...  \n",
              "951     1508\n",
              "952    12142\n",
              "953     6911\n",
              "961    43040\n",
              "969    13170\n",
              "Name: AI_id, Length: 225, dtype: int64"
            ]
          },
          "metadata": {},
          "execution_count": 12
        }
      ]
    },
    {
      "cell_type": "code",
      "source": [
        "train['text'] = train['text'].str.replace(\"[^a-zA-Z가-힣]\",\"\", regex=True)"
      ],
      "metadata": {
        "id": "uUlVnnd-eWQ3"
      },
      "execution_count": null,
      "outputs": []
    },
    {
      "cell_type": "code",
      "source": [
        "train['text'] = train['text'].str.replace('^ +', \"\", regex=True)"
      ],
      "metadata": {
        "id": "ZysrF1J1fbvg"
      },
      "execution_count": null,
      "outputs": []
    },
    {
      "cell_type": "code",
      "source": [
        "# text는 합친 것이므로 text_obj, text_mthd, text_deal 중 하나라도 있으면 사용 가능\n",
        "# text_obj, text_mthd, text_deal가 모두 빈 문자열인 경우는 train dataset에 없었다.\n",
        "\n",
        "train[train[\"text\"]==\"\"]"
      ],
      "metadata": {
        "colab": {
          "base_uri": "https://localhost:8080/",
          "height": 50
        },
        "id": "x6nbcB6b3e7j",
        "outputId": "2f159cef-448c-480f-ecf0-56315a159248"
      },
      "execution_count": null,
      "outputs": [
        {
          "output_type": "execute_result",
          "data": {
            "text/plain": [
              "Empty DataFrame\n",
              "Columns: [AI_id, text, label]\n",
              "Index: []"
            ],
            "text/html": [
              "\n",
              "  <div id=\"df-518674e9-7792-493d-8d6a-7e3da1586e64\">\n",
              "    <div class=\"colab-df-container\">\n",
              "      <div>\n",
              "<style scoped>\n",
              "    .dataframe tbody tr th:only-of-type {\n",
              "        vertical-align: middle;\n",
              "    }\n",
              "\n",
              "    .dataframe tbody tr th {\n",
              "        vertical-align: top;\n",
              "    }\n",
              "\n",
              "    .dataframe thead th {\n",
              "        text-align: right;\n",
              "    }\n",
              "</style>\n",
              "<table border=\"1\" class=\"dataframe\">\n",
              "  <thead>\n",
              "    <tr style=\"text-align: right;\">\n",
              "      <th></th>\n",
              "      <th>AI_id</th>\n",
              "      <th>text</th>\n",
              "      <th>label</th>\n",
              "    </tr>\n",
              "  </thead>\n",
              "  <tbody>\n",
              "  </tbody>\n",
              "</table>\n",
              "</div>\n",
              "      <button class=\"colab-df-convert\" onclick=\"convertToInteractive('df-518674e9-7792-493d-8d6a-7e3da1586e64')\"\n",
              "              title=\"Convert this dataframe to an interactive table.\"\n",
              "              style=\"display:none;\">\n",
              "        \n",
              "  <svg xmlns=\"http://www.w3.org/2000/svg\" height=\"24px\"viewBox=\"0 0 24 24\"\n",
              "       width=\"24px\">\n",
              "    <path d=\"M0 0h24v24H0V0z\" fill=\"none\"/>\n",
              "    <path d=\"M18.56 5.44l.94 2.06.94-2.06 2.06-.94-2.06-.94-.94-2.06-.94 2.06-2.06.94zm-11 1L8.5 8.5l.94-2.06 2.06-.94-2.06-.94L8.5 2.5l-.94 2.06-2.06.94zm10 10l.94 2.06.94-2.06 2.06-.94-2.06-.94-.94-2.06-.94 2.06-2.06.94z\"/><path d=\"M17.41 7.96l-1.37-1.37c-.4-.4-.92-.59-1.43-.59-.52 0-1.04.2-1.43.59L10.3 9.45l-7.72 7.72c-.78.78-.78 2.05 0 2.83L4 21.41c.39.39.9.59 1.41.59.51 0 1.02-.2 1.41-.59l7.78-7.78 2.81-2.81c.8-.78.8-2.07 0-2.86zM5.41 20L4 18.59l7.72-7.72 1.47 1.35L5.41 20z\"/>\n",
              "  </svg>\n",
              "      </button>\n",
              "      \n",
              "  <style>\n",
              "    .colab-df-container {\n",
              "      display:flex;\n",
              "      flex-wrap:wrap;\n",
              "      gap: 12px;\n",
              "    }\n",
              "\n",
              "    .colab-df-convert {\n",
              "      background-color: #E8F0FE;\n",
              "      border: none;\n",
              "      border-radius: 50%;\n",
              "      cursor: pointer;\n",
              "      display: none;\n",
              "      fill: #1967D2;\n",
              "      height: 32px;\n",
              "      padding: 0 0 0 0;\n",
              "      width: 32px;\n",
              "    }\n",
              "\n",
              "    .colab-df-convert:hover {\n",
              "      background-color: #E2EBFA;\n",
              "      box-shadow: 0px 1px 2px rgba(60, 64, 67, 0.3), 0px 1px 3px 1px rgba(60, 64, 67, 0.15);\n",
              "      fill: #174EA6;\n",
              "    }\n",
              "\n",
              "    [theme=dark] .colab-df-convert {\n",
              "      background-color: #3B4455;\n",
              "      fill: #D2E3FC;\n",
              "    }\n",
              "\n",
              "    [theme=dark] .colab-df-convert:hover {\n",
              "      background-color: #434B5C;\n",
              "      box-shadow: 0px 1px 3px 1px rgba(0, 0, 0, 0.15);\n",
              "      filter: drop-shadow(0px 1px 2px rgba(0, 0, 0, 0.3));\n",
              "      fill: #FFFFFF;\n",
              "    }\n",
              "  </style>\n",
              "\n",
              "      <script>\n",
              "        const buttonEl =\n",
              "          document.querySelector('#df-518674e9-7792-493d-8d6a-7e3da1586e64 button.colab-df-convert');\n",
              "        buttonEl.style.display =\n",
              "          google.colab.kernel.accessAllowed ? 'block' : 'none';\n",
              "\n",
              "        async function convertToInteractive(key) {\n",
              "          const element = document.querySelector('#df-518674e9-7792-493d-8d6a-7e3da1586e64');\n",
              "          const dataTable =\n",
              "            await google.colab.kernel.invokeFunction('convertToInteractive',\n",
              "                                                     [key], {});\n",
              "          if (!dataTable) return;\n",
              "\n",
              "          const docLinkHtml = 'Like what you see? Visit the ' +\n",
              "            '<a target=\"_blank\" href=https://colab.research.google.com/notebooks/data_table.ipynb>data table notebook</a>'\n",
              "            + ' to learn more about interactive tables.';\n",
              "          element.innerHTML = '';\n",
              "          dataTable['output_type'] = 'display_data';\n",
              "          await google.colab.output.renderOutput(dataTable, element);\n",
              "          const docLink = document.createElement('div');\n",
              "          docLink.innerHTML = docLinkHtml;\n",
              "          element.appendChild(docLink);\n",
              "        }\n",
              "      </script>\n",
              "    </div>\n",
              "  </div>\n",
              "  "
            ]
          },
          "metadata": {},
          "execution_count": 15
        }
      ]
    },
    {
      "cell_type": "code",
      "source": [
        "len(train)"
      ],
      "metadata": {
        "colab": {
          "base_uri": "https://localhost:8080/"
        },
        "id": "VIt35PAlfg36",
        "outputId": "9b70ae1b-8825-4800-b641-d5b508827f51"
      },
      "execution_count": null,
      "outputs": [
        {
          "output_type": "execute_result",
          "data": {
            "text/plain": [
              "1000000"
            ]
          },
          "metadata": {},
          "execution_count": 16
        }
      ]
    },
    {
      "cell_type": "code",
      "source": [
        "len(train[\"label\"].unique())"
      ],
      "metadata": {
        "colab": {
          "base_uri": "https://localhost:8080/"
        },
        "id": "8-46Fqifgipo",
        "outputId": "8332fab7-8d79-4a8b-91dc-cbb77999ade2"
      },
      "execution_count": null,
      "outputs": [
        {
          "output_type": "execute_result",
          "data": {
            "text/plain": [
              "225"
            ]
          },
          "metadata": {},
          "execution_count": 17
        }
      ]
    },
    {
      "cell_type": "code",
      "source": [
        "train_dataset, eval_dataset = train_test_split(train, test_size=0.2, shuffle=True)\n",
        "train_dataset = train_dataset.reset_index(drop=True)\n",
        "eval_dataset = eval_dataset.reset_index(drop=True)"
      ],
      "metadata": {
        "id": "AWvbDuj-GMMn"
      },
      "execution_count": null,
      "outputs": []
    },
    {
      "cell_type": "code",
      "source": [
        "len(max(train[\"text\"], key=len))"
      ],
      "metadata": {
        "colab": {
          "base_uri": "https://localhost:8080/"
        },
        "id": "ak4RomdTJktp",
        "outputId": "4e24f625-e889-488f-a104-48d3ab768359"
      },
      "execution_count": null,
      "outputs": [
        {
          "output_type": "execute_result",
          "data": {
            "text/plain": [
              "69"
            ]
          },
          "metadata": {},
          "execution_count": 19
        }
      ]
    },
    {
      "cell_type": "code",
      "source": [
        "len(max(test[\"text\"], key=len))"
      ],
      "metadata": {
        "colab": {
          "base_uri": "https://localhost:8080/"
        },
        "id": "KzckmCskJ7TZ",
        "outputId": "a7c6ff4f-4a8a-4c13-a725-e88270e3527e"
      },
      "execution_count": null,
      "outputs": [
        {
          "output_type": "execute_result",
          "data": {
            "text/plain": [
              "82"
            ]
          },
          "metadata": {},
          "execution_count": 20
        }
      ]
    },
    {
      "cell_type": "markdown",
      "source": [
        "### Label Encoding"
      ],
      "metadata": {
        "id": "l0-8tK53_vLb"
      }
    },
    {
      "cell_type": "code",
      "source": [
        "ctd = pd.read_csv(\"data/class_table_chunk_kor.csv\")\n",
        "ctd"
      ],
      "metadata": {
        "colab": {
          "base_uri": "https://localhost:8080/",
          "height": 423
        },
        "id": "KJx7KbEfG41R",
        "outputId": "5caab3b3-328a-4503-86e3-c3ad9b8809b3"
      },
      "execution_count": null,
      "outputs": [
        {
          "output_type": "execute_result",
          "data": {
            "text/plain": [
              "     code                                         chunk_text\n",
              "0      11  채소작물 재배업 채소, 화훼작물 및 종묘 재배업 과실작물 재배업 시설작물 재배업 화...\n",
              "1      12  양계업 기타 축산업 소 사육업 축산업 양돈업 육우 사육업 가금류 및 조류 사육업 농...\n",
              "2      13                                  작물재배 및 축산 복합농업 농업\n",
              "3      14  작물재배 관련 서비스업 작물재배 및 축산 관련 서비스업 농업 농산물 건조, 선별 및...\n",
              "4      15                                    수렵 및 관련 서비스업 농업\n",
              "..    ...                                                ...\n",
              "227   969  세탁업 기타 개인 서비스업 가정용 세탁업 산업용 세탁업 개인 간병 및 유사 서비스업...\n",
              "228   970                                          가구 내 고용활동\n",
              "229   981  자가 소비를 위한 가사 생산 활동 달리 분류되지 않은 자가소비를 위한 가구의 재화 ...\n",
              "230   982  달리 분류되지 않은 자가소비를 위한 가구의 재화 및 서비스 생산활동 자가 소비를 위...\n",
              "231   990                     주한 외국공관 국제 및 외국기관 기타 국제 및 외국기관\n",
              "\n",
              "[232 rows x 2 columns]"
            ],
            "text/html": [
              "\n",
              "  <div id=\"df-4c77a4f8-a31f-4eb0-a4a0-62e3f715f80b\">\n",
              "    <div class=\"colab-df-container\">\n",
              "      <div>\n",
              "<style scoped>\n",
              "    .dataframe tbody tr th:only-of-type {\n",
              "        vertical-align: middle;\n",
              "    }\n",
              "\n",
              "    .dataframe tbody tr th {\n",
              "        vertical-align: top;\n",
              "    }\n",
              "\n",
              "    .dataframe thead th {\n",
              "        text-align: right;\n",
              "    }\n",
              "</style>\n",
              "<table border=\"1\" class=\"dataframe\">\n",
              "  <thead>\n",
              "    <tr style=\"text-align: right;\">\n",
              "      <th></th>\n",
              "      <th>code</th>\n",
              "      <th>chunk_text</th>\n",
              "    </tr>\n",
              "  </thead>\n",
              "  <tbody>\n",
              "    <tr>\n",
              "      <th>0</th>\n",
              "      <td>11</td>\n",
              "      <td>채소작물 재배업 채소, 화훼작물 및 종묘 재배업 과실작물 재배업 시설작물 재배업 화...</td>\n",
              "    </tr>\n",
              "    <tr>\n",
              "      <th>1</th>\n",
              "      <td>12</td>\n",
              "      <td>양계업 기타 축산업 소 사육업 축산업 양돈업 육우 사육업 가금류 및 조류 사육업 농...</td>\n",
              "    </tr>\n",
              "    <tr>\n",
              "      <th>2</th>\n",
              "      <td>13</td>\n",
              "      <td>작물재배 및 축산 복합농업 농업</td>\n",
              "    </tr>\n",
              "    <tr>\n",
              "      <th>3</th>\n",
              "      <td>14</td>\n",
              "      <td>작물재배 관련 서비스업 작물재배 및 축산 관련 서비스업 농업 농산물 건조, 선별 및...</td>\n",
              "    </tr>\n",
              "    <tr>\n",
              "      <th>4</th>\n",
              "      <td>15</td>\n",
              "      <td>수렵 및 관련 서비스업 농업</td>\n",
              "    </tr>\n",
              "    <tr>\n",
              "      <th>...</th>\n",
              "      <td>...</td>\n",
              "      <td>...</td>\n",
              "    </tr>\n",
              "    <tr>\n",
              "      <th>227</th>\n",
              "      <td>969</td>\n",
              "      <td>세탁업 기타 개인 서비스업 가정용 세탁업 산업용 세탁업 개인 간병 및 유사 서비스업...</td>\n",
              "    </tr>\n",
              "    <tr>\n",
              "      <th>228</th>\n",
              "      <td>970</td>\n",
              "      <td>가구 내 고용활동</td>\n",
              "    </tr>\n",
              "    <tr>\n",
              "      <th>229</th>\n",
              "      <td>981</td>\n",
              "      <td>자가 소비를 위한 가사 생산 활동 달리 분류되지 않은 자가소비를 위한 가구의 재화 ...</td>\n",
              "    </tr>\n",
              "    <tr>\n",
              "      <th>230</th>\n",
              "      <td>982</td>\n",
              "      <td>달리 분류되지 않은 자가소비를 위한 가구의 재화 및 서비스 생산활동 자가 소비를 위...</td>\n",
              "    </tr>\n",
              "    <tr>\n",
              "      <th>231</th>\n",
              "      <td>990</td>\n",
              "      <td>주한 외국공관 국제 및 외국기관 기타 국제 및 외국기관</td>\n",
              "    </tr>\n",
              "  </tbody>\n",
              "</table>\n",
              "<p>232 rows × 2 columns</p>\n",
              "</div>\n",
              "      <button class=\"colab-df-convert\" onclick=\"convertToInteractive('df-4c77a4f8-a31f-4eb0-a4a0-62e3f715f80b')\"\n",
              "              title=\"Convert this dataframe to an interactive table.\"\n",
              "              style=\"display:none;\">\n",
              "        \n",
              "  <svg xmlns=\"http://www.w3.org/2000/svg\" height=\"24px\"viewBox=\"0 0 24 24\"\n",
              "       width=\"24px\">\n",
              "    <path d=\"M0 0h24v24H0V0z\" fill=\"none\"/>\n",
              "    <path d=\"M18.56 5.44l.94 2.06.94-2.06 2.06-.94-2.06-.94-.94-2.06-.94 2.06-2.06.94zm-11 1L8.5 8.5l.94-2.06 2.06-.94-2.06-.94L8.5 2.5l-.94 2.06-2.06.94zm10 10l.94 2.06.94-2.06 2.06-.94-2.06-.94-.94-2.06-.94 2.06-2.06.94z\"/><path d=\"M17.41 7.96l-1.37-1.37c-.4-.4-.92-.59-1.43-.59-.52 0-1.04.2-1.43.59L10.3 9.45l-7.72 7.72c-.78.78-.78 2.05 0 2.83L4 21.41c.39.39.9.59 1.41.59.51 0 1.02-.2 1.41-.59l7.78-7.78 2.81-2.81c.8-.78.8-2.07 0-2.86zM5.41 20L4 18.59l7.72-7.72 1.47 1.35L5.41 20z\"/>\n",
              "  </svg>\n",
              "      </button>\n",
              "      \n",
              "  <style>\n",
              "    .colab-df-container {\n",
              "      display:flex;\n",
              "      flex-wrap:wrap;\n",
              "      gap: 12px;\n",
              "    }\n",
              "\n",
              "    .colab-df-convert {\n",
              "      background-color: #E8F0FE;\n",
              "      border: none;\n",
              "      border-radius: 50%;\n",
              "      cursor: pointer;\n",
              "      display: none;\n",
              "      fill: #1967D2;\n",
              "      height: 32px;\n",
              "      padding: 0 0 0 0;\n",
              "      width: 32px;\n",
              "    }\n",
              "\n",
              "    .colab-df-convert:hover {\n",
              "      background-color: #E2EBFA;\n",
              "      box-shadow: 0px 1px 2px rgba(60, 64, 67, 0.3), 0px 1px 3px 1px rgba(60, 64, 67, 0.15);\n",
              "      fill: #174EA6;\n",
              "    }\n",
              "\n",
              "    [theme=dark] .colab-df-convert {\n",
              "      background-color: #3B4455;\n",
              "      fill: #D2E3FC;\n",
              "    }\n",
              "\n",
              "    [theme=dark] .colab-df-convert:hover {\n",
              "      background-color: #434B5C;\n",
              "      box-shadow: 0px 1px 3px 1px rgba(0, 0, 0, 0.15);\n",
              "      filter: drop-shadow(0px 1px 2px rgba(0, 0, 0, 0.3));\n",
              "      fill: #FFFFFF;\n",
              "    }\n",
              "  </style>\n",
              "\n",
              "      <script>\n",
              "        const buttonEl =\n",
              "          document.querySelector('#df-4c77a4f8-a31f-4eb0-a4a0-62e3f715f80b button.colab-df-convert');\n",
              "        buttonEl.style.display =\n",
              "          google.colab.kernel.accessAllowed ? 'block' : 'none';\n",
              "\n",
              "        async function convertToInteractive(key) {\n",
              "          const element = document.querySelector('#df-4c77a4f8-a31f-4eb0-a4a0-62e3f715f80b');\n",
              "          const dataTable =\n",
              "            await google.colab.kernel.invokeFunction('convertToInteractive',\n",
              "                                                     [key], {});\n",
              "          if (!dataTable) return;\n",
              "\n",
              "          const docLinkHtml = 'Like what you see? Visit the ' +\n",
              "            '<a target=\"_blank\" href=https://colab.research.google.com/notebooks/data_table.ipynb>data table notebook</a>'\n",
              "            + ' to learn more about interactive tables.';\n",
              "          element.innerHTML = '';\n",
              "          dataTable['output_type'] = 'display_data';\n",
              "          await google.colab.output.renderOutput(dataTable, element);\n",
              "          const docLink = document.createElement('div');\n",
              "          docLink.innerHTML = docLinkHtml;\n",
              "          element.appendChild(docLink);\n",
              "        }\n",
              "      </script>\n",
              "    </div>\n",
              "  </div>\n",
              "  "
            ]
          },
          "metadata": {},
          "execution_count": 21
        }
      ]
    },
    {
      "cell_type": "code",
      "source": [
        "ctd.loc[:,\"code\"] = ctd.loc[:,\"code\"].astype(str)"
      ],
      "metadata": {
        "id": "BNHUfuCdHdoH"
      },
      "execution_count": null,
      "outputs": []
    },
    {
      "cell_type": "code",
      "source": [
        "from sklearn.preprocessing import LabelEncoder\n",
        "\n",
        "label_encoder = LabelEncoder()\n",
        "label_encoder.fit(ctd[\"code\"])\n",
        "train_encoded = label_encoder.transform(train[\"label\"])\n",
        "train_encoded"
      ],
      "metadata": {
        "colab": {
          "base_uri": "https://localhost:8080/"
        },
        "id": "kMqi0HmxGZkQ",
        "outputId": "28341d97-ae5b-44dc-c7f6-e3dc27ffc5e6"
      },
      "execution_count": null,
      "outputs": [
        {
          "output_type": "execute_result",
          "data": {
            "text/plain": [
              "array([224, 122, 119, ..., 124, 208, 145])"
            ]
          },
          "metadata": {},
          "execution_count": 23
        }
      ]
    },
    {
      "cell_type": "code",
      "source": [
        ""
      ],
      "metadata": {
        "id": "vjMYPXWECAPU"
      },
      "execution_count": null,
      "outputs": []
    },
    {
      "cell_type": "markdown",
      "source": [
        "### Load Pretrained Model, Tokenizer"
      ],
      "metadata": {
        "id": "f30B2NVK_zGN"
      }
    },
    {
      "cell_type": "code",
      "source": [
        "model_name = \"klue/roberta-base\"\n",
        "tokenizer = AutoTokenizer.from_pretrained(model_name)\n",
        "\n",
        "config = AutoConfig.from_pretrained(model_name)\n",
        "config.num_labels = len(ctd[\"code\"].unique())\n",
        "model = AutoModelForSequenceClassification.from_pretrained(model_name, config=config).to(device)"
      ],
      "metadata": {
        "colab": {
          "base_uri": "https://localhost:8080/",
          "height": 321,
          "referenced_widgets": [
            "fad712606f474703a8d3d9bd75ec38fc",
            "ce559516645d4695a7d1e167eb81a067",
            "6405a99c329f48249f722ec5c104e679",
            "fdbf39f610474ef79139695f5d448b96",
            "7fe1dcb993584e6bacf2ec7cb7a0ac20",
            "f61ad589bae54d3083d88cacd51b9ca6",
            "d4b1cc21addb4d789b5e8e107e864b6c",
            "bbb6b7c546544abc848a79b27fd5713e",
            "7aa174a549bd41abb57f4ccf18c1deb6",
            "2a65a9a2d78a4e2ab9390ed484443180",
            "8633ff0783e5493fba0d8be39d68bd51",
            "00f93fcf1b974c8aaa3c31e0f95c18de",
            "fc086edf08444075bc87f36a7a96980a",
            "0e469b2cb8e74ecdb1e656e4191b36a3",
            "ace41976492143cb964ce8051fbc7358",
            "a84947a636cd4aae8bb8d7fe41c9c0f6",
            "54703179fe684607af963539b5d736d3",
            "5ac2cefd76a94f449e6a057e2424561f",
            "865a5085c5c749f0b278b9a4f2d02da5",
            "15fab239466d4c0dad1775c8f50b2585",
            "255cc537506e4256b8826e3d8b443766",
            "b9e3ef012d134cdd904378b3fab6caa6",
            "1b95ceafc52640fc9f5573d8e1792de2",
            "096d7ac96d6f4097800a8507689becc4",
            "2ab9ea66182e4513b657a6c8db92c66b",
            "c896989649184916b4c3937c1f0190df",
            "91ad9788cb0749a89f7304607c443bb9",
            "3743b3723cf84c5eb90e7647c28065e0",
            "d91b0f472bb64788842b8d36b82d1d4e",
            "325edc9c45ba4a51acf3ba97050fbeb3",
            "3a986d9be8c745e8bbae013aeb6d8ab3",
            "1ce5ce82f0a14ab69d73098346ccc387",
            "5e077e90fbb94fb4bfad44ed0629a0b1",
            "31382106d3554cf0bba87cef965587a8",
            "c77267b3b20845ef801146c1414f6120",
            "481308a002c0425dac35acfc2b7cea40",
            "0c761555dc34413e9a2f6af2c73a3a50",
            "2515abe8a6f24521955c9dbfb27772d3",
            "1f8d77df3ff1412c9bb5d63cce4bfa10",
            "5810e0170db248be8b1fa34452c176f9",
            "696064254a9e4c6baf3ca965866f6328",
            "fa28d1e72a4f4b4cbbc5832c6f6cf9d9",
            "2630183ff5e842849404a10b40a645b5",
            "4aafe8d310994ee08cd38100182d06b6",
            "db5ae9d57c664f9fa3a6876dcc0e2806",
            "c53d9b56b11d4d52abc6952075bc5b09",
            "b88ba9d634e9402b9af3936544940c76",
            "80caab58f9b046f3b551a2561d5894b6",
            "1705a1820d07484da1a28b457149b650",
            "a4494a9bbbfc42c39c8141693cd38561",
            "c8317cd0cfbf4da2a746ae581df80126",
            "720d19db52fb40cb8e6281f8851572a7",
            "90763ec6d7a54574927599c67b54cb6e",
            "1ed5a53cb3234c25a3410b7ac454cb0f",
            "bb7f6559e8824351acb98cc0f91860d4",
            "b17e6636ddec48948fefdcafc250132c",
            "dae0f724bf0f419b961f1a29166d7cb8",
            "02c15663fa094cae9cfa1550f4fe1d0f",
            "53d4c789dd6b4e97a0f362472ea5627d",
            "dba6998296704ed586c423580e418368",
            "eefb38f0d92a4a61a2c9872193f1b0bc",
            "92a1dbf1378f4690b4bff69ba38ad03d",
            "4b9d7d79a3434dbcb7d61831c2c89e9d",
            "4cebc2ab7cdf4f9eaf87746da04da59c",
            "e0cf0774bd944a1fa44049d72edc0d71",
            "b9b9202e5ec24bc78e7b1f83193bc4a8"
          ]
        },
        "id": "-1UDOXq6LAxv",
        "outputId": "df171f9d-2440-4851-8c9d-7b4f6b7e6c9f"
      },
      "execution_count": null,
      "outputs": [
        {
          "output_type": "display_data",
          "data": {
            "text/plain": [
              "Downloading:   0%|          | 0.00/375 [00:00<?, ?B/s]"
            ],
            "application/vnd.jupyter.widget-view+json": {
              "version_major": 2,
              "version_minor": 0,
              "model_id": "fad712606f474703a8d3d9bd75ec38fc"
            }
          },
          "metadata": {}
        },
        {
          "output_type": "display_data",
          "data": {
            "text/plain": [
              "Downloading:   0%|          | 0.00/243k [00:00<?, ?B/s]"
            ],
            "application/vnd.jupyter.widget-view+json": {
              "version_major": 2,
              "version_minor": 0,
              "model_id": "00f93fcf1b974c8aaa3c31e0f95c18de"
            }
          },
          "metadata": {}
        },
        {
          "output_type": "display_data",
          "data": {
            "text/plain": [
              "Downloading:   0%|          | 0.00/734k [00:00<?, ?B/s]"
            ],
            "application/vnd.jupyter.widget-view+json": {
              "version_major": 2,
              "version_minor": 0,
              "model_id": "1b95ceafc52640fc9f5573d8e1792de2"
            }
          },
          "metadata": {}
        },
        {
          "output_type": "display_data",
          "data": {
            "text/plain": [
              "Downloading:   0%|          | 0.00/173 [00:00<?, ?B/s]"
            ],
            "application/vnd.jupyter.widget-view+json": {
              "version_major": 2,
              "version_minor": 0,
              "model_id": "31382106d3554cf0bba87cef965587a8"
            }
          },
          "metadata": {}
        },
        {
          "output_type": "display_data",
          "data": {
            "text/plain": [
              "Downloading:   0%|          | 0.00/546 [00:00<?, ?B/s]"
            ],
            "application/vnd.jupyter.widget-view+json": {
              "version_major": 2,
              "version_minor": 0,
              "model_id": "db5ae9d57c664f9fa3a6876dcc0e2806"
            }
          },
          "metadata": {}
        },
        {
          "output_type": "display_data",
          "data": {
            "text/plain": [
              "Downloading:   0%|          | 0.00/422M [00:00<?, ?B/s]"
            ],
            "application/vnd.jupyter.widget-view+json": {
              "version_major": 2,
              "version_minor": 0,
              "model_id": "b17e6636ddec48948fefdcafc250132c"
            }
          },
          "metadata": {}
        },
        {
          "output_type": "stream",
          "name": "stderr",
          "text": [
            "Some weights of the model checkpoint at klue/roberta-base were not used when initializing RobertaForSequenceClassification: ['lm_head.dense.weight', 'lm_head.decoder.weight', 'lm_head.dense.bias', 'lm_head.layer_norm.weight', 'lm_head.decoder.bias', 'lm_head.layer_norm.bias', 'lm_head.bias']\n",
            "- This IS expected if you are initializing RobertaForSequenceClassification from the checkpoint of a model trained on another task or with another architecture (e.g. initializing a BertForSequenceClassification model from a BertForPreTraining model).\n",
            "- This IS NOT expected if you are initializing RobertaForSequenceClassification from the checkpoint of a model that you expect to be exactly identical (initializing a BertForSequenceClassification model from a BertForSequenceClassification model).\n",
            "Some weights of RobertaForSequenceClassification were not initialized from the model checkpoint at klue/roberta-base and are newly initialized: ['classifier.dense.weight', 'classifier.dense.bias', 'classifier.out_proj.bias', 'classifier.out_proj.weight']\n",
            "You should probably TRAIN this model on a down-stream task to be able to use it for predictions and inference.\n"
          ]
        }
      ]
    },
    {
      "cell_type": "markdown",
      "source": [
        "### Dataset"
      ],
      "metadata": {
        "id": "Kbrbmz_o_9Jb"
      }
    },
    {
      "cell_type": "code",
      "source": [
        " train_dataset[\"label\"] = label_encoder.transform(train_dataset[\"label\"])\n",
        " eval_dataset[\"label\"] = label_encoder.transform(eval_dataset[\"label\"])"
      ],
      "metadata": {
        "id": "8tC2Hr5WISxK"
      },
      "execution_count": null,
      "outputs": []
    },
    {
      "cell_type": "code",
      "source": [
        "class IndustryDataset(torch.utils.data.Dataset):\n",
        "  def __init__(self, dataset, is_train=True):\n",
        "    self.dataset = dataset\n",
        "    self.text = self.dataset[\"text\"]\n",
        "    self.is_train = is_train\n",
        "    if is_train:\n",
        "      self.labels = self.dataset[\"label\"]\n",
        "\n",
        "  def __getitem__(self, idx):\n",
        "    text = self.text[idx]\n",
        "    item = tokenizer(\n",
        "        text,\n",
        "        max_length = 100,\n",
        "        padding = \"max_length\",\n",
        "        truncation=True,\n",
        "        return_tensors = \"pt\",\n",
        "        add_special_tokens=True,\n",
        "        return_token_type_ids=False\n",
        "        )\n",
        "    if self.is_train:\n",
        "      labels = self.labels[idx]\n",
        "      item['labels'] = torch.tensor(labels)\n",
        "    item[\"input_ids\"] = item[\"input_ids\"].squeeze(0)\n",
        "    item[\"attention_mask\"] = item[\"attention_mask\"].squeeze(0)\n",
        "    return item\n",
        "\n",
        "  def __len__(self):\n",
        "    return len(self.dataset)"
      ],
      "metadata": {
        "id": "ArUQ9EbSoAHr"
      },
      "execution_count": null,
      "outputs": []
    },
    {
      "cell_type": "code",
      "source": [
        "train_dataset = IndustryDataset(train_dataset)\n",
        "eval_dataset = IndustryDataset(eval_dataset)"
      ],
      "metadata": {
        "id": "Cg9FwIRSJcPX"
      },
      "execution_count": null,
      "outputs": []
    },
    {
      "cell_type": "code",
      "source": [
        "train_dataset[0]"
      ],
      "metadata": {
        "colab": {
          "base_uri": "https://localhost:8080/"
        },
        "id": "qJJqclfEJg1R",
        "outputId": "72f61ab9-7cde-46d2-936e-ae44e2d21f64"
      },
      "execution_count": null,
      "outputs": [
        {
          "output_type": "execute_result",
          "data": {
            "text/plain": [
              "{'input_ids': tensor([    0,  7103,  2373,  2286, 20446,  2700,  2144,  2425,     2,     1,\n",
              "            1,     1,     1,     1,     1,     1,     1,     1,     1,     1,\n",
              "            1,     1,     1,     1,     1,     1,     1,     1,     1,     1,\n",
              "            1,     1,     1,     1,     1,     1,     1,     1,     1,     1,\n",
              "            1,     1,     1,     1,     1,     1,     1,     1,     1,     1,\n",
              "            1,     1,     1,     1,     1,     1,     1,     1,     1,     1,\n",
              "            1,     1,     1,     1,     1,     1,     1,     1,     1,     1,\n",
              "            1,     1,     1,     1,     1,     1,     1,     1,     1,     1,\n",
              "            1,     1,     1,     1,     1,     1,     1,     1,     1,     1,\n",
              "            1,     1,     1,     1,     1,     1,     1,     1,     1,     1]), 'attention_mask': tensor([1, 1, 1, 1, 1, 1, 1, 1, 1, 0, 0, 0, 0, 0, 0, 0, 0, 0, 0, 0, 0, 0, 0, 0,\n",
              "        0, 0, 0, 0, 0, 0, 0, 0, 0, 0, 0, 0, 0, 0, 0, 0, 0, 0, 0, 0, 0, 0, 0, 0,\n",
              "        0, 0, 0, 0, 0, 0, 0, 0, 0, 0, 0, 0, 0, 0, 0, 0, 0, 0, 0, 0, 0, 0, 0, 0,\n",
              "        0, 0, 0, 0, 0, 0, 0, 0, 0, 0, 0, 0, 0, 0, 0, 0, 0, 0, 0, 0, 0, 0, 0, 0,\n",
              "        0, 0, 0, 0]), 'labels': tensor(74)}"
            ]
          },
          "metadata": {},
          "execution_count": 28
        }
      ]
    },
    {
      "cell_type": "markdown",
      "source": [
        "### Train"
      ],
      "metadata": {
        "id": "FDdu0UNKABm6"
      }
    },
    {
      "cell_type": "code",
      "source": [
        "from datasets import load_metric\n",
        "\n",
        "metric = load_metric(\"accuracy\")\n",
        "\n",
        "def compute_metrics(eval_pred):\n",
        "    logits = eval_pred.predictions\n",
        "    labels = eval_pred.label_ids\n",
        "    predictions = np.argmax(logits, axis=-1)\n",
        "    accuracy = metric.compute(predictions=predictions, references=labels)\n",
        "    return accuracy"
      ],
      "metadata": {
        "id": "kD_fzeV2KZyX"
      },
      "execution_count": null,
      "outputs": []
    },
    {
      "cell_type": "code",
      "source": [
        "torch.cuda.empty_cache()"
      ],
      "metadata": {
        "id": "A52jiQfPKhYf"
      },
      "execution_count": null,
      "outputs": []
    },
    {
      "cell_type": "code",
      "source": [
        "# 중간 학습을 위한 model load\n",
        "# model_name = \"./checkpoint-12000\"\n",
        "# config = AutoConfig.from_pretrained(model_name)\n",
        "# model = AutoModelForSequenceClassification.from_pretrained(model_name, config=config).to(device)"
      ],
      "metadata": {
        "id": "G8XSwpL7hu7V"
      },
      "execution_count": null,
      "outputs": []
    },
    {
      "cell_type": "code",
      "source": [
        "import wandb\n",
        "wandb.login()\n",
        "\n",
        "training_args=TrainingArguments(output_dir=\"./roberta\",\n",
        "                                num_train_epochs=3,\n",
        "                                learning_rate=5e-5,\n",
        "                                save_total_limit=3,\n",
        "                                save_steps=3000,\n",
        "                                per_device_train_batch_size=128,\n",
        "                                per_device_eval_batch_size=128,\n",
        "                                evaluation_strategy='steps',\n",
        "                                eval_steps = 3000,\n",
        "                                weight_decay=0.01,\n",
        "                                load_best_model_at_end = True,\n",
        "                                # metric_for_best_model = \"f1\",\n",
        "                                # greater_is_better = True,    \n",
        "                                report_to=\"wandb\",\n",
        "                                run_name=\"bert-base\")\n",
        "trainer = Trainer(model=model,\n",
        "                  args=training_args,\n",
        "                  train_dataset=train_dataset,\n",
        "                  eval_dataset=eval_dataset,\n",
        "                  tokenizer=tokenizer,\n",
        "                  compute_metrics=compute_metrics)"
      ],
      "metadata": {
        "colab": {
          "base_uri": "https://localhost:8080/"
        },
        "id": "q3IBwyJWK2Iv",
        "outputId": "f54ee86f-cd31-405b-9a36-2d61450c26b8"
      },
      "execution_count": null,
      "outputs": [
        {
          "output_type": "stream",
          "name": "stderr",
          "text": [
            "\u001b[34m\u001b[1mwandb\u001b[0m: Currently logged in as: \u001b[33mjdg4661\u001b[0m (use `wandb login --relogin` to force relogin)\n"
          ]
        }
      ]
    },
    {
      "cell_type": "code",
      "source": [
        "torch.cuda.empty_cache()"
      ],
      "metadata": {
        "id": "qE3u0soxM8Mg"
      },
      "execution_count": null,
      "outputs": []
    },
    {
      "cell_type": "code",
      "source": [
        "trainer.train()\n",
        "model.save_pretrained('./roberta/result/best_model')"
      ],
      "metadata": {
        "colab": {
          "base_uri": "https://localhost:8080/",
          "height": 1000
        },
        "id": "K-mj5LhzM6SW",
        "outputId": "f65a92f9-ce10-4f41-abde-841ee23b47fa"
      },
      "execution_count": null,
      "outputs": [
        {
          "metadata": {
            "tags": null
          },
          "name": "stderr",
          "output_type": "stream",
          "text": [
            "/usr/local/lib/python3.7/dist-packages/transformers/optimization.py:309: FutureWarning: This implementation of AdamW is deprecated and will be removed in a future version. Use the PyTorch implementation torch.optim.AdamW instead, or set `no_deprecation_warning=True` to disable this warning\n",
            "  FutureWarning,\n",
            "***** Running training *****\n",
            "  Num examples = 800000\n",
            "  Num Epochs = 3\n",
            "  Instantaneous batch size per device = 128\n",
            "  Total train batch size (w. parallel, distributed & accumulation) = 128\n",
            "  Gradient Accumulation steps = 1\n",
            "  Total optimization steps = 18750\n",
            "Automatic Weights & Biases logging enabled, to disable set os.environ[\"WANDB_DISABLED\"] = \"true\"\n"
          ]
        },
        {
          "data": {
            "text/html": [
              "Tracking run with wandb version 0.12.11"
            ],
            "text/plain": [
              "<IPython.core.display.HTML object>"
            ]
          },
          "metadata": {},
          "output_type": "display_data"
        },
        {
          "data": {
            "text/html": [
              "Run data is saved locally in <code>/content/drive/MyDrive/industry_classification/wandb/run-20220323_022023-2koncy33</code>"
            ],
            "text/plain": [
              "<IPython.core.display.HTML object>"
            ]
          },
          "metadata": {},
          "output_type": "display_data"
        },
        {
          "data": {
            "text/html": [
              "Syncing run <strong><a href=\"https://wandb.ai/jdg4661/huggingface/runs/2koncy33\" target=\"_blank\">bert-base</a></strong> to <a href=\"https://wandb.ai/jdg4661/huggingface\" target=\"_blank\">Weights & Biases</a> (<a href=\"https://wandb.me/run\" target=\"_blank\">docs</a>)<br/>"
            ],
            "text/plain": [
              "<IPython.core.display.HTML object>"
            ]
          },
          "metadata": {},
          "output_type": "display_data"
        },
        {
          "data": {
            "text/html": [
              "\n",
              "    <div>\n",
              "      \n",
              "      <progress value='18001' max='18750' style='width:300px; height:20px; vertical-align: middle;'></progress>\n",
              "      [18001/18750 6:32:05 < 16:18, 0.77 it/s, Epoch 2.88/3]\n",
              "    </div>\n",
              "    <table border=\"1\" class=\"dataframe\">\n",
              "  <thead>\n",
              " <tr style=\"text-align: left;\">\n",
              "      <th>Step</th>\n",
              "      <th>Training Loss</th>\n",
              "      <th>Validation Loss</th>\n",
              "      <th>Accuracy</th>\n",
              "    </tr>\n",
              "  </thead>\n",
              "  <tbody>\n",
              "    <tr>\n",
              "      <td>3000</td>\n",
              "      <td>0.443900</td>\n",
              "      <td>0.412586</td>\n",
              "      <td>0.897280</td>\n",
              "    </tr>\n",
              "    <tr>\n",
              "      <td>6000</td>\n",
              "      <td>0.374900</td>\n",
              "      <td>0.351092</td>\n",
              "      <td>0.909455</td>\n",
              "    </tr>\n",
              "    <tr>\n",
              "      <td>9000</td>\n",
              "      <td>0.318200</td>\n",
              "      <td>0.331955</td>\n",
              "      <td>0.915010</td>\n",
              "    </tr>\n",
              "    <tr>\n",
              "      <td>12000</td>\n",
              "      <td>0.295400</td>\n",
              "      <td>0.312545</td>\n",
              "      <td>0.917915</td>\n",
              "    </tr>\n",
              "    <tr>\n",
              "      <td>15000</td>\n",
              "      <td>0.245900</td>\n",
              "      <td>0.305876</td>\n",
              "      <td>0.920790</td>\n",
              "    </tr>\n",
              "  </tbody>\n",
              "</table><p>\n",
              "    <div>\n",
              "      \n",
              "      <progress value='1316' max='1563' style='width:300px; height:20px; vertical-align: middle;'></progress>\n",
              "      [1316/1563 08:48 < 01:39, 2.49 it/s]\n",
              "    </div>\n",
              "    "
            ],
            "text/plain": [
              "<IPython.core.display.HTML object>"
            ]
          },
          "metadata": {},
          "output_type": "display_data"
        },
        {
          "metadata": {
            "tags": null
          },
          "name": "stderr",
          "output_type": "stream",
          "text": [
            "***** Running Evaluation *****\n",
            "  Num examples = 200000\n",
            "  Batch size = 128\n",
            "Saving model checkpoint to ./roberta/checkpoint-3000\n",
            "Configuration saved in ./roberta/checkpoint-3000/config.json\n",
            "Model weights saved in ./roberta/checkpoint-3000/pytorch_model.bin\n",
            "tokenizer config file saved in ./roberta/checkpoint-3000/tokenizer_config.json\n",
            "Special tokens file saved in ./roberta/checkpoint-3000/special_tokens_map.json\n",
            "***** Running Evaluation *****\n",
            "  Num examples = 200000\n",
            "  Batch size = 128\n",
            "Saving model checkpoint to ./roberta/checkpoint-6000\n",
            "Configuration saved in ./roberta/checkpoint-6000/config.json\n",
            "Model weights saved in ./roberta/checkpoint-6000/pytorch_model.bin\n",
            "tokenizer config file saved in ./roberta/checkpoint-6000/tokenizer_config.json\n",
            "Special tokens file saved in ./roberta/checkpoint-6000/special_tokens_map.json\n",
            "***** Running Evaluation *****\n",
            "  Num examples = 200000\n",
            "  Batch size = 128\n",
            "Saving model checkpoint to ./roberta/checkpoint-9000\n",
            "Configuration saved in ./roberta/checkpoint-9000/config.json\n",
            "Model weights saved in ./roberta/checkpoint-9000/pytorch_model.bin\n",
            "tokenizer config file saved in ./roberta/checkpoint-9000/tokenizer_config.json\n",
            "Special tokens file saved in ./roberta/checkpoint-9000/special_tokens_map.json\n",
            "***** Running Evaluation *****\n",
            "  Num examples = 200000\n",
            "  Batch size = 128\n",
            "Saving model checkpoint to ./roberta/checkpoint-12000\n",
            "Configuration saved in ./roberta/checkpoint-12000/config.json\n",
            "Model weights saved in ./roberta/checkpoint-12000/pytorch_model.bin\n",
            "tokenizer config file saved in ./roberta/checkpoint-12000/tokenizer_config.json\n",
            "Special tokens file saved in ./roberta/checkpoint-12000/special_tokens_map.json\n",
            "Deleting older checkpoint [roberta/checkpoint-3000] due to args.save_total_limit\n",
            "***** Running Evaluation *****\n",
            "  Num examples = 200000\n",
            "  Batch size = 128\n",
            "Saving model checkpoint to ./roberta/checkpoint-15000\n",
            "Configuration saved in ./roberta/checkpoint-15000/config.json\n",
            "Model weights saved in ./roberta/checkpoint-15000/pytorch_model.bin\n",
            "tokenizer config file saved in ./roberta/checkpoint-15000/tokenizer_config.json\n",
            "Special tokens file saved in ./roberta/checkpoint-15000/special_tokens_map.json\n",
            "Deleting older checkpoint [roberta/checkpoint-6000] due to args.save_total_limit\n",
            "***** Running Evaluation *****\n",
            "  Num examples = 200000\n",
            "  Batch size = 128\n"
          ]
        },
        {
          "output_type": "display_data",
          "data": {
            "text/plain": [
              "<IPython.core.display.HTML object>"
            ],
            "text/html": [
              "\n",
              "    <div>\n",
              "      \n",
              "      <progress value='18750' max='18750' style='width:300px; height:20px; vertical-align: middle;'></progress>\n",
              "      [18750/18750 6:56:51, Epoch 3/3]\n",
              "    </div>\n",
              "    <table border=\"1\" class=\"dataframe\">\n",
              "  <thead>\n",
              " <tr style=\"text-align: left;\">\n",
              "      <th>Step</th>\n",
              "      <th>Training Loss</th>\n",
              "      <th>Validation Loss</th>\n",
              "      <th>Accuracy</th>\n",
              "    </tr>\n",
              "  </thead>\n",
              "  <tbody>\n",
              "    <tr>\n",
              "      <td>3000</td>\n",
              "      <td>0.443900</td>\n",
              "      <td>0.412586</td>\n",
              "      <td>0.897280</td>\n",
              "    </tr>\n",
              "    <tr>\n",
              "      <td>6000</td>\n",
              "      <td>0.374900</td>\n",
              "      <td>0.351092</td>\n",
              "      <td>0.909455</td>\n",
              "    </tr>\n",
              "    <tr>\n",
              "      <td>9000</td>\n",
              "      <td>0.318200</td>\n",
              "      <td>0.331955</td>\n",
              "      <td>0.915010</td>\n",
              "    </tr>\n",
              "    <tr>\n",
              "      <td>12000</td>\n",
              "      <td>0.295400</td>\n",
              "      <td>0.312545</td>\n",
              "      <td>0.917915</td>\n",
              "    </tr>\n",
              "    <tr>\n",
              "      <td>15000</td>\n",
              "      <td>0.245900</td>\n",
              "      <td>0.305876</td>\n",
              "      <td>0.920790</td>\n",
              "    </tr>\n",
              "    <tr>\n",
              "      <td>18000</td>\n",
              "      <td>0.242200</td>\n",
              "      <td>0.295553</td>\n",
              "      <td>0.922535</td>\n",
              "    </tr>\n",
              "  </tbody>\n",
              "</table><p>"
            ]
          },
          "metadata": {}
        },
        {
          "output_type": "stream",
          "name": "stderr",
          "text": [
            "Saving model checkpoint to ./roberta/checkpoint-18000\n",
            "Configuration saved in ./roberta/checkpoint-18000/config.json\n",
            "Model weights saved in ./roberta/checkpoint-18000/pytorch_model.bin\n",
            "tokenizer config file saved in ./roberta/checkpoint-18000/tokenizer_config.json\n",
            "Special tokens file saved in ./roberta/checkpoint-18000/special_tokens_map.json\n",
            "Deleting older checkpoint [roberta/checkpoint-9000] due to args.save_total_limit\n",
            "\n",
            "\n",
            "Training completed. Do not forget to share your model on huggingface.co/models =)\n",
            "\n",
            "\n",
            "Loading best model from ./roberta/checkpoint-18000 (score: 0.29555314779281616).\n",
            "Configuration saved in ./roberta/result/best_model/config.json\n",
            "Model weights saved in ./roberta/result/best_model/pytorch_model.bin\n"
          ]
        }
      ]
    },
    {
      "cell_type": "markdown",
      "source": [
        "### Inference"
      ],
      "metadata": {
        "id": "QaUn3_HqAEtz"
      }
    },
    {
      "cell_type": "code",
      "source": [
        "test_dataset = IndustryDataset(test, is_train=False)\n",
        "outputs = trainer.predict(test_dataset)"
      ],
      "metadata": {
        "colab": {
          "base_uri": "https://localhost:8080/",
          "height": 93
        },
        "id": "B0lG9-m2wsMO",
        "outputId": "14e010f1-bc2b-4fc7-b0fe-6b90a2e2a0ce"
      },
      "execution_count": null,
      "outputs": [
        {
          "output_type": "stream",
          "name": "stderr",
          "text": [
            "***** Running Prediction *****\n",
            "  Num examples = 100000\n",
            "  Batch size = 128\n"
          ]
        },
        {
          "output_type": "display_data",
          "data": {
            "text/plain": [
              "<IPython.core.display.HTML object>"
            ],
            "text/html": [
              "\n",
              "    <div>\n",
              "      \n",
              "      <progress value='782' max='782' style='width:300px; height:20px; vertical-align: middle;'></progress>\n",
              "      [782/782 05:12]\n",
              "    </div>\n",
              "    "
            ]
          },
          "metadata": {}
        }
      ]
    },
    {
      "cell_type": "code",
      "source": [
        "outputs = np.argmax(outputs[0], axis=-1)\n",
        "outputs = label_encoder.inverse_transform(outputs)"
      ],
      "metadata": {
        "id": "I_H7S05mxcsu"
      },
      "execution_count": null,
      "outputs": []
    },
    {
      "cell_type": "code",
      "source": [
        "test[\"label\"] = outputs"
      ],
      "metadata": {
        "id": "5SInNkUpizLu"
      },
      "execution_count": null,
      "outputs": []
    },
    {
      "cell_type": "code",
      "source": [
        "test"
      ],
      "metadata": {
        "id": "m2tjA9FqHGzZ",
        "outputId": "acb3ca69-90de-460a-d258-312862dc9383",
        "colab": {
          "base_uri": "https://localhost:8080/",
          "height": 423
        }
      },
      "execution_count": null,
      "outputs": [
        {
          "output_type": "execute_result",
          "data": {
            "text/plain": [
              "           AI_id digit_1 digit_2 digit_3  text_obj   text_mthd text_deal  \\\n",
              "0      id_000001     nan     nan     nan   치킨전문점에서    고객의주문에의해      치킨판매   \n",
              "1      id_000002     nan     nan     nan      산업공구   다른 소매업자에게    철물 수공구   \n",
              "2      id_000003     nan     nan     nan       절에서    신도을 대상으로    불교단체운영   \n",
              "3      id_000004     nan     nan     nan     영업장에서       고객요구로     자동차튜닝   \n",
              "4      id_000005     nan     nan     nan  실내포장마차에서   접객시설을 갖추고   소주,맥주제공   \n",
              "...          ...     ...     ...     ...       ...         ...       ...   \n",
              "99995  id_099996     nan     nan     nan     사업장에서     일반인대상으로      버섯농장   \n",
              "99996  id_099997     nan     nan     nan     한의원에서     외래환자위주고        치료   \n",
              "99997  id_099998     nan     nan     nan    일반점포에서       소비자에게      그림판매   \n",
              "99998  id_099999     nan     nan     nan     사업장에서  일반인.학생대상으로    학습공간제공   \n",
              "99999  id_100000     nan     nan     nan     사업장에서    대리현대아파트를        관리   \n",
              "\n",
              "                           text label  \n",
              "0           치킨전문점에서고객의주문에의해치킨판매   561  \n",
              "1           산업공구다른 소매업자에게철물 수공구   466  \n",
              "2             절에서신도을 대상으로불교단체운영   949  \n",
              "3               영업장에서고객요구로자동차튜닝   952  \n",
              "4      실내포장마차에서접객시설을 갖추고소주,맥주제공   562  \n",
              "...                         ...   ...  \n",
              "99995          사업장에서일반인대상으로버섯농장   472  \n",
              "99996            한의원에서외래환자위주고치료   862  \n",
              "99997           일반점포에서소비자에게그림판매   478  \n",
              "99998     사업장에서일반인.학생대상으로학습공간제공   902  \n",
              "99999           사업장에서대리현대아파트를관리   682  \n",
              "\n",
              "[100000 rows x 9 columns]"
            ],
            "text/html": [
              "\n",
              "  <div id=\"df-678e781b-f0c1-47a6-8fd1-773551bc8767\">\n",
              "    <div class=\"colab-df-container\">\n",
              "      <div>\n",
              "<style scoped>\n",
              "    .dataframe tbody tr th:only-of-type {\n",
              "        vertical-align: middle;\n",
              "    }\n",
              "\n",
              "    .dataframe tbody tr th {\n",
              "        vertical-align: top;\n",
              "    }\n",
              "\n",
              "    .dataframe thead th {\n",
              "        text-align: right;\n",
              "    }\n",
              "</style>\n",
              "<table border=\"1\" class=\"dataframe\">\n",
              "  <thead>\n",
              "    <tr style=\"text-align: right;\">\n",
              "      <th></th>\n",
              "      <th>AI_id</th>\n",
              "      <th>digit_1</th>\n",
              "      <th>digit_2</th>\n",
              "      <th>digit_3</th>\n",
              "      <th>text_obj</th>\n",
              "      <th>text_mthd</th>\n",
              "      <th>text_deal</th>\n",
              "      <th>text</th>\n",
              "      <th>label</th>\n",
              "    </tr>\n",
              "  </thead>\n",
              "  <tbody>\n",
              "    <tr>\n",
              "      <th>0</th>\n",
              "      <td>id_000001</td>\n",
              "      <td>nan</td>\n",
              "      <td>nan</td>\n",
              "      <td>nan</td>\n",
              "      <td>치킨전문점에서</td>\n",
              "      <td>고객의주문에의해</td>\n",
              "      <td>치킨판매</td>\n",
              "      <td>치킨전문점에서고객의주문에의해치킨판매</td>\n",
              "      <td>561</td>\n",
              "    </tr>\n",
              "    <tr>\n",
              "      <th>1</th>\n",
              "      <td>id_000002</td>\n",
              "      <td>nan</td>\n",
              "      <td>nan</td>\n",
              "      <td>nan</td>\n",
              "      <td>산업공구</td>\n",
              "      <td>다른 소매업자에게</td>\n",
              "      <td>철물 수공구</td>\n",
              "      <td>산업공구다른 소매업자에게철물 수공구</td>\n",
              "      <td>466</td>\n",
              "    </tr>\n",
              "    <tr>\n",
              "      <th>2</th>\n",
              "      <td>id_000003</td>\n",
              "      <td>nan</td>\n",
              "      <td>nan</td>\n",
              "      <td>nan</td>\n",
              "      <td>절에서</td>\n",
              "      <td>신도을 대상으로</td>\n",
              "      <td>불교단체운영</td>\n",
              "      <td>절에서신도을 대상으로불교단체운영</td>\n",
              "      <td>949</td>\n",
              "    </tr>\n",
              "    <tr>\n",
              "      <th>3</th>\n",
              "      <td>id_000004</td>\n",
              "      <td>nan</td>\n",
              "      <td>nan</td>\n",
              "      <td>nan</td>\n",
              "      <td>영업장에서</td>\n",
              "      <td>고객요구로</td>\n",
              "      <td>자동차튜닝</td>\n",
              "      <td>영업장에서고객요구로자동차튜닝</td>\n",
              "      <td>952</td>\n",
              "    </tr>\n",
              "    <tr>\n",
              "      <th>4</th>\n",
              "      <td>id_000005</td>\n",
              "      <td>nan</td>\n",
              "      <td>nan</td>\n",
              "      <td>nan</td>\n",
              "      <td>실내포장마차에서</td>\n",
              "      <td>접객시설을 갖추고</td>\n",
              "      <td>소주,맥주제공</td>\n",
              "      <td>실내포장마차에서접객시설을 갖추고소주,맥주제공</td>\n",
              "      <td>562</td>\n",
              "    </tr>\n",
              "    <tr>\n",
              "      <th>...</th>\n",
              "      <td>...</td>\n",
              "      <td>...</td>\n",
              "      <td>...</td>\n",
              "      <td>...</td>\n",
              "      <td>...</td>\n",
              "      <td>...</td>\n",
              "      <td>...</td>\n",
              "      <td>...</td>\n",
              "      <td>...</td>\n",
              "    </tr>\n",
              "    <tr>\n",
              "      <th>99995</th>\n",
              "      <td>id_099996</td>\n",
              "      <td>nan</td>\n",
              "      <td>nan</td>\n",
              "      <td>nan</td>\n",
              "      <td>사업장에서</td>\n",
              "      <td>일반인대상으로</td>\n",
              "      <td>버섯농장</td>\n",
              "      <td>사업장에서일반인대상으로버섯농장</td>\n",
              "      <td>472</td>\n",
              "    </tr>\n",
              "    <tr>\n",
              "      <th>99996</th>\n",
              "      <td>id_099997</td>\n",
              "      <td>nan</td>\n",
              "      <td>nan</td>\n",
              "      <td>nan</td>\n",
              "      <td>한의원에서</td>\n",
              "      <td>외래환자위주고</td>\n",
              "      <td>치료</td>\n",
              "      <td>한의원에서외래환자위주고치료</td>\n",
              "      <td>862</td>\n",
              "    </tr>\n",
              "    <tr>\n",
              "      <th>99997</th>\n",
              "      <td>id_099998</td>\n",
              "      <td>nan</td>\n",
              "      <td>nan</td>\n",
              "      <td>nan</td>\n",
              "      <td>일반점포에서</td>\n",
              "      <td>소비자에게</td>\n",
              "      <td>그림판매</td>\n",
              "      <td>일반점포에서소비자에게그림판매</td>\n",
              "      <td>478</td>\n",
              "    </tr>\n",
              "    <tr>\n",
              "      <th>99998</th>\n",
              "      <td>id_099999</td>\n",
              "      <td>nan</td>\n",
              "      <td>nan</td>\n",
              "      <td>nan</td>\n",
              "      <td>사업장에서</td>\n",
              "      <td>일반인.학생대상으로</td>\n",
              "      <td>학습공간제공</td>\n",
              "      <td>사업장에서일반인.학생대상으로학습공간제공</td>\n",
              "      <td>902</td>\n",
              "    </tr>\n",
              "    <tr>\n",
              "      <th>99999</th>\n",
              "      <td>id_100000</td>\n",
              "      <td>nan</td>\n",
              "      <td>nan</td>\n",
              "      <td>nan</td>\n",
              "      <td>사업장에서</td>\n",
              "      <td>대리현대아파트를</td>\n",
              "      <td>관리</td>\n",
              "      <td>사업장에서대리현대아파트를관리</td>\n",
              "      <td>682</td>\n",
              "    </tr>\n",
              "  </tbody>\n",
              "</table>\n",
              "<p>100000 rows × 9 columns</p>\n",
              "</div>\n",
              "      <button class=\"colab-df-convert\" onclick=\"convertToInteractive('df-678e781b-f0c1-47a6-8fd1-773551bc8767')\"\n",
              "              title=\"Convert this dataframe to an interactive table.\"\n",
              "              style=\"display:none;\">\n",
              "        \n",
              "  <svg xmlns=\"http://www.w3.org/2000/svg\" height=\"24px\"viewBox=\"0 0 24 24\"\n",
              "       width=\"24px\">\n",
              "    <path d=\"M0 0h24v24H0V0z\" fill=\"none\"/>\n",
              "    <path d=\"M18.56 5.44l.94 2.06.94-2.06 2.06-.94-2.06-.94-.94-2.06-.94 2.06-2.06.94zm-11 1L8.5 8.5l.94-2.06 2.06-.94-2.06-.94L8.5 2.5l-.94 2.06-2.06.94zm10 10l.94 2.06.94-2.06 2.06-.94-2.06-.94-.94-2.06-.94 2.06-2.06.94z\"/><path d=\"M17.41 7.96l-1.37-1.37c-.4-.4-.92-.59-1.43-.59-.52 0-1.04.2-1.43.59L10.3 9.45l-7.72 7.72c-.78.78-.78 2.05 0 2.83L4 21.41c.39.39.9.59 1.41.59.51 0 1.02-.2 1.41-.59l7.78-7.78 2.81-2.81c.8-.78.8-2.07 0-2.86zM5.41 20L4 18.59l7.72-7.72 1.47 1.35L5.41 20z\"/>\n",
              "  </svg>\n",
              "      </button>\n",
              "      \n",
              "  <style>\n",
              "    .colab-df-container {\n",
              "      display:flex;\n",
              "      flex-wrap:wrap;\n",
              "      gap: 12px;\n",
              "    }\n",
              "\n",
              "    .colab-df-convert {\n",
              "      background-color: #E8F0FE;\n",
              "      border: none;\n",
              "      border-radius: 50%;\n",
              "      cursor: pointer;\n",
              "      display: none;\n",
              "      fill: #1967D2;\n",
              "      height: 32px;\n",
              "      padding: 0 0 0 0;\n",
              "      width: 32px;\n",
              "    }\n",
              "\n",
              "    .colab-df-convert:hover {\n",
              "      background-color: #E2EBFA;\n",
              "      box-shadow: 0px 1px 2px rgba(60, 64, 67, 0.3), 0px 1px 3px 1px rgba(60, 64, 67, 0.15);\n",
              "      fill: #174EA6;\n",
              "    }\n",
              "\n",
              "    [theme=dark] .colab-df-convert {\n",
              "      background-color: #3B4455;\n",
              "      fill: #D2E3FC;\n",
              "    }\n",
              "\n",
              "    [theme=dark] .colab-df-convert:hover {\n",
              "      background-color: #434B5C;\n",
              "      box-shadow: 0px 1px 3px 1px rgba(0, 0, 0, 0.15);\n",
              "      filter: drop-shadow(0px 1px 2px rgba(0, 0, 0, 0.3));\n",
              "      fill: #FFFFFF;\n",
              "    }\n",
              "  </style>\n",
              "\n",
              "      <script>\n",
              "        const buttonEl =\n",
              "          document.querySelector('#df-678e781b-f0c1-47a6-8fd1-773551bc8767 button.colab-df-convert');\n",
              "        buttonEl.style.display =\n",
              "          google.colab.kernel.accessAllowed ? 'block' : 'none';\n",
              "\n",
              "        async function convertToInteractive(key) {\n",
              "          const element = document.querySelector('#df-678e781b-f0c1-47a6-8fd1-773551bc8767');\n",
              "          const dataTable =\n",
              "            await google.colab.kernel.invokeFunction('convertToInteractive',\n",
              "                                                     [key], {});\n",
              "          if (!dataTable) return;\n",
              "\n",
              "          const docLinkHtml = 'Like what you see? Visit the ' +\n",
              "            '<a target=\"_blank\" href=https://colab.research.google.com/notebooks/data_table.ipynb>data table notebook</a>'\n",
              "            + ' to learn more about interactive tables.';\n",
              "          element.innerHTML = '';\n",
              "          dataTable['output_type'] = 'display_data';\n",
              "          await google.colab.output.renderOutput(dataTable, element);\n",
              "          const docLink = document.createElement('div');\n",
              "          docLink.innerHTML = docLinkHtml;\n",
              "          element.appendChild(docLink);\n",
              "        }\n",
              "      </script>\n",
              "    </div>\n",
              "  </div>\n",
              "  "
            ]
          },
          "metadata": {},
          "execution_count": 37
        }
      ]
    },
    {
      "cell_type": "code",
      "source": [
        "test.to_csv(\"roberta_submission.csv\", index=False)"
      ],
      "metadata": {
        "id": "YlmfaHOKjbHE"
      },
      "execution_count": null,
      "outputs": []
    },
    {
      "cell_type": "code",
      "source": [
        "test = pd.read_csv(\"tmp_submission.csv\")"
      ],
      "metadata": {
        "id": "0EzEtLvqs3YD"
      },
      "execution_count": null,
      "outputs": []
    },
    {
      "cell_type": "code",
      "source": [
        "# 중분류 코드를 대분류 코드(alphabet)으로 매핑\n",
        "\n",
        "categories = {}\n",
        "def set_keys(alpha, code_start, code_end):\n",
        "  global categories\n",
        "  for i in range(code_start, code_end+1):\n",
        "    categories[i] = alpha"
      ],
      "metadata": {
        "id": "FMDicHMhqHST"
      },
      "execution_count": null,
      "outputs": []
    },
    {
      "cell_type": "code",
      "source": [
        "set_keys(\"A\", 1,3)\n",
        "set_keys(\"B\", 5,8)\n",
        "set_keys(\"C\", 10,34)\n",
        "set_keys(\"D\", 35,35)\n",
        "set_keys(\"E\", 36,39)\n",
        "set_keys(\"F\", 41,42)\n",
        "set_keys(\"G\", 45,47)\n",
        "set_keys(\"H\", 49,52)\n",
        "set_keys(\"I\", 55,56)\n",
        "set_keys(\"J\", 58,63)\n",
        "set_keys(\"K\", 64,66)\n",
        "set_keys(\"L\", 68,68)\n",
        "set_keys(\"M\", 70,73)\n",
        "set_keys(\"N\", 74,76)\n",
        "set_keys(\"O\", 84,84)\n",
        "set_keys(\"P\", 85,85)\n",
        "set_keys(\"Q\", 86,87)\n",
        "set_keys(\"R\", 90,91)\n",
        "set_keys(\"S\", 94,96)\n",
        "set_keys(\"T\", 97,98)\n",
        "set_keys(\"U\", 99,99)"
      ],
      "metadata": {
        "id": "sYwsVBx4rJAT"
      },
      "execution_count": null,
      "outputs": []
    },
    {
      "cell_type": "code",
      "source": [
        "submission[\"digit_3\"] = test[\"label\"]\n",
        "submission[\"digit_2\"] = submission[\"digit_3\"] // 10"
      ],
      "metadata": {
        "id": "Sr9AG9jptZMt"
      },
      "execution_count": null,
      "outputs": []
    },
    {
      "cell_type": "code",
      "source": [
        "for i in range(len(submission)):\n",
        "  submission.loc[i,\"digit_1\"] = categories[submission.loc[i,\"digit_2\"]]\n",
        "submission"
      ],
      "metadata": {
        "colab": {
          "base_uri": "https://localhost:8080/"
        },
        "id": "AM-N3N-ptu99",
        "outputId": "18b18549-9957-4f90-d077-b4a6b2ea90e6"
      },
      "execution_count": null,
      "outputs": [
        {
          "output_type": "execute_result",
          "data": {
            "text/plain": [
              "           AI_id digit_1  digit_2  digit_3  text_obj   text_mthd text_deal\n",
              "0      id_000001       I       56      561   치킨전문점에서    고객의주문에의해      치킨판매\n",
              "1      id_000002       G       46      466      산업공구   다른 소매업자에게    철물 수공구\n",
              "2      id_000003       S       94      949       절에서    신도을 대상으로    불교단체운영\n",
              "3      id_000004       S       95      952     영업장에서       고객요구로     자동차튜닝\n",
              "4      id_000005       I       56      562  실내포장마차에서   접객시설을 갖추고   소주,맥주제공\n",
              "...          ...     ...      ...      ...       ...         ...       ...\n",
              "99995  id_099996       G       47      472     사업장에서     일반인대상으로      버섯농장\n",
              "99996  id_099997       Q       86      862     한의원에서     외래환자위주고        치료\n",
              "99997  id_099998       G       47      478    일반점포에서       소비자에게      그림판매\n",
              "99998  id_099999       R       90      902     사업장에서  일반인.학생대상으로    학습공간제공\n",
              "99999  id_100000       L       68      682     사업장에서    대리현대아파트를        관리\n",
              "\n",
              "[100000 rows x 7 columns]"
            ],
            "text/html": [
              "\n",
              "  <div id=\"df-004f09d3-cca5-46e0-8132-37d5998c4380\">\n",
              "    <div class=\"colab-df-container\">\n",
              "      <div>\n",
              "<style scoped>\n",
              "    .dataframe tbody tr th:only-of-type {\n",
              "        vertical-align: middle;\n",
              "    }\n",
              "\n",
              "    .dataframe tbody tr th {\n",
              "        vertical-align: top;\n",
              "    }\n",
              "\n",
              "    .dataframe thead th {\n",
              "        text-align: right;\n",
              "    }\n",
              "</style>\n",
              "<table border=\"1\" class=\"dataframe\">\n",
              "  <thead>\n",
              "    <tr style=\"text-align: right;\">\n",
              "      <th></th>\n",
              "      <th>AI_id</th>\n",
              "      <th>digit_1</th>\n",
              "      <th>digit_2</th>\n",
              "      <th>digit_3</th>\n",
              "      <th>text_obj</th>\n",
              "      <th>text_mthd</th>\n",
              "      <th>text_deal</th>\n",
              "    </tr>\n",
              "  </thead>\n",
              "  <tbody>\n",
              "    <tr>\n",
              "      <th>0</th>\n",
              "      <td>id_000001</td>\n",
              "      <td>I</td>\n",
              "      <td>56</td>\n",
              "      <td>561</td>\n",
              "      <td>치킨전문점에서</td>\n",
              "      <td>고객의주문에의해</td>\n",
              "      <td>치킨판매</td>\n",
              "    </tr>\n",
              "    <tr>\n",
              "      <th>1</th>\n",
              "      <td>id_000002</td>\n",
              "      <td>G</td>\n",
              "      <td>46</td>\n",
              "      <td>466</td>\n",
              "      <td>산업공구</td>\n",
              "      <td>다른 소매업자에게</td>\n",
              "      <td>철물 수공구</td>\n",
              "    </tr>\n",
              "    <tr>\n",
              "      <th>2</th>\n",
              "      <td>id_000003</td>\n",
              "      <td>S</td>\n",
              "      <td>94</td>\n",
              "      <td>949</td>\n",
              "      <td>절에서</td>\n",
              "      <td>신도을 대상으로</td>\n",
              "      <td>불교단체운영</td>\n",
              "    </tr>\n",
              "    <tr>\n",
              "      <th>3</th>\n",
              "      <td>id_000004</td>\n",
              "      <td>S</td>\n",
              "      <td>95</td>\n",
              "      <td>952</td>\n",
              "      <td>영업장에서</td>\n",
              "      <td>고객요구로</td>\n",
              "      <td>자동차튜닝</td>\n",
              "    </tr>\n",
              "    <tr>\n",
              "      <th>4</th>\n",
              "      <td>id_000005</td>\n",
              "      <td>I</td>\n",
              "      <td>56</td>\n",
              "      <td>562</td>\n",
              "      <td>실내포장마차에서</td>\n",
              "      <td>접객시설을 갖추고</td>\n",
              "      <td>소주,맥주제공</td>\n",
              "    </tr>\n",
              "    <tr>\n",
              "      <th>...</th>\n",
              "      <td>...</td>\n",
              "      <td>...</td>\n",
              "      <td>...</td>\n",
              "      <td>...</td>\n",
              "      <td>...</td>\n",
              "      <td>...</td>\n",
              "      <td>...</td>\n",
              "    </tr>\n",
              "    <tr>\n",
              "      <th>99995</th>\n",
              "      <td>id_099996</td>\n",
              "      <td>G</td>\n",
              "      <td>47</td>\n",
              "      <td>472</td>\n",
              "      <td>사업장에서</td>\n",
              "      <td>일반인대상으로</td>\n",
              "      <td>버섯농장</td>\n",
              "    </tr>\n",
              "    <tr>\n",
              "      <th>99996</th>\n",
              "      <td>id_099997</td>\n",
              "      <td>Q</td>\n",
              "      <td>86</td>\n",
              "      <td>862</td>\n",
              "      <td>한의원에서</td>\n",
              "      <td>외래환자위주고</td>\n",
              "      <td>치료</td>\n",
              "    </tr>\n",
              "    <tr>\n",
              "      <th>99997</th>\n",
              "      <td>id_099998</td>\n",
              "      <td>G</td>\n",
              "      <td>47</td>\n",
              "      <td>478</td>\n",
              "      <td>일반점포에서</td>\n",
              "      <td>소비자에게</td>\n",
              "      <td>그림판매</td>\n",
              "    </tr>\n",
              "    <tr>\n",
              "      <th>99998</th>\n",
              "      <td>id_099999</td>\n",
              "      <td>R</td>\n",
              "      <td>90</td>\n",
              "      <td>902</td>\n",
              "      <td>사업장에서</td>\n",
              "      <td>일반인.학생대상으로</td>\n",
              "      <td>학습공간제공</td>\n",
              "    </tr>\n",
              "    <tr>\n",
              "      <th>99999</th>\n",
              "      <td>id_100000</td>\n",
              "      <td>L</td>\n",
              "      <td>68</td>\n",
              "      <td>682</td>\n",
              "      <td>사업장에서</td>\n",
              "      <td>대리현대아파트를</td>\n",
              "      <td>관리</td>\n",
              "    </tr>\n",
              "  </tbody>\n",
              "</table>\n",
              "<p>100000 rows × 7 columns</p>\n",
              "</div>\n",
              "      <button class=\"colab-df-convert\" onclick=\"convertToInteractive('df-004f09d3-cca5-46e0-8132-37d5998c4380')\"\n",
              "              title=\"Convert this dataframe to an interactive table.\"\n",
              "              style=\"display:none;\">\n",
              "        \n",
              "  <svg xmlns=\"http://www.w3.org/2000/svg\" height=\"24px\"viewBox=\"0 0 24 24\"\n",
              "       width=\"24px\">\n",
              "    <path d=\"M0 0h24v24H0V0z\" fill=\"none\"/>\n",
              "    <path d=\"M18.56 5.44l.94 2.06.94-2.06 2.06-.94-2.06-.94-.94-2.06-.94 2.06-2.06.94zm-11 1L8.5 8.5l.94-2.06 2.06-.94-2.06-.94L8.5 2.5l-.94 2.06-2.06.94zm10 10l.94 2.06.94-2.06 2.06-.94-2.06-.94-.94-2.06-.94 2.06-2.06.94z\"/><path d=\"M17.41 7.96l-1.37-1.37c-.4-.4-.92-.59-1.43-.59-.52 0-1.04.2-1.43.59L10.3 9.45l-7.72 7.72c-.78.78-.78 2.05 0 2.83L4 21.41c.39.39.9.59 1.41.59.51 0 1.02-.2 1.41-.59l7.78-7.78 2.81-2.81c.8-.78.8-2.07 0-2.86zM5.41 20L4 18.59l7.72-7.72 1.47 1.35L5.41 20z\"/>\n",
              "  </svg>\n",
              "      </button>\n",
              "      \n",
              "  <style>\n",
              "    .colab-df-container {\n",
              "      display:flex;\n",
              "      flex-wrap:wrap;\n",
              "      gap: 12px;\n",
              "    }\n",
              "\n",
              "    .colab-df-convert {\n",
              "      background-color: #E8F0FE;\n",
              "      border: none;\n",
              "      border-radius: 50%;\n",
              "      cursor: pointer;\n",
              "      display: none;\n",
              "      fill: #1967D2;\n",
              "      height: 32px;\n",
              "      padding: 0 0 0 0;\n",
              "      width: 32px;\n",
              "    }\n",
              "\n",
              "    .colab-df-convert:hover {\n",
              "      background-color: #E2EBFA;\n",
              "      box-shadow: 0px 1px 2px rgba(60, 64, 67, 0.3), 0px 1px 3px 1px rgba(60, 64, 67, 0.15);\n",
              "      fill: #174EA6;\n",
              "    }\n",
              "\n",
              "    [theme=dark] .colab-df-convert {\n",
              "      background-color: #3B4455;\n",
              "      fill: #D2E3FC;\n",
              "    }\n",
              "\n",
              "    [theme=dark] .colab-df-convert:hover {\n",
              "      background-color: #434B5C;\n",
              "      box-shadow: 0px 1px 3px 1px rgba(0, 0, 0, 0.15);\n",
              "      filter: drop-shadow(0px 1px 2px rgba(0, 0, 0, 0.3));\n",
              "      fill: #FFFFFF;\n",
              "    }\n",
              "  </style>\n",
              "\n",
              "      <script>\n",
              "        const buttonEl =\n",
              "          document.querySelector('#df-004f09d3-cca5-46e0-8132-37d5998c4380 button.colab-df-convert');\n",
              "        buttonEl.style.display =\n",
              "          google.colab.kernel.accessAllowed ? 'block' : 'none';\n",
              "\n",
              "        async function convertToInteractive(key) {\n",
              "          const element = document.querySelector('#df-004f09d3-cca5-46e0-8132-37d5998c4380');\n",
              "          const dataTable =\n",
              "            await google.colab.kernel.invokeFunction('convertToInteractive',\n",
              "                                                     [key], {});\n",
              "          if (!dataTable) return;\n",
              "\n",
              "          const docLinkHtml = 'Like what you see? Visit the ' +\n",
              "            '<a target=\"_blank\" href=https://colab.research.google.com/notebooks/data_table.ipynb>data table notebook</a>'\n",
              "            + ' to learn more about interactive tables.';\n",
              "          element.innerHTML = '';\n",
              "          dataTable['output_type'] = 'display_data';\n",
              "          await google.colab.output.renderOutput(dataTable, element);\n",
              "          const docLink = document.createElement('div');\n",
              "          docLink.innerHTML = docLinkHtml;\n",
              "          element.appendChild(docLink);\n",
              "        }\n",
              "      </script>\n",
              "    </div>\n",
              "  </div>\n",
              "  "
            ]
          },
          "metadata": {},
          "execution_count": 36
        }
      ]
    },
    {
      "cell_type": "code",
      "source": [
        "submission.to_csv(\"bert_base_epoch2.csv\", index=False)"
      ],
      "metadata": {
        "id": "tkBF5yMJwL4y"
      },
      "execution_count": null,
      "outputs": []
    }
  ]
}