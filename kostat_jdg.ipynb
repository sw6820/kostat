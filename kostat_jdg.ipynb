{
  "nbformat": 4,
  "nbformat_minor": 0,
  "metadata": {
    "colab": {
      "name": "kostat_jdg.ipynb",
      "provenance": []
    },
    "kernelspec": {
      "name": "python3",
      "display_name": "Python 3"
    },
    "language_info": {
      "name": "python"
    }
  },
  "cells": [
    {
      "cell_type": "markdown",
      "source": [
        "# 0. Import"
      ],
      "metadata": {
        "id": "2j7atc2BitHK"
      }
    },
    {
      "cell_type": "code",
      "execution_count": null,
      "metadata": {
        "colab": {
          "base_uri": "https://localhost:8080/"
        },
        "id": "nBT_NKZfpC5k",
        "outputId": "ed16493b-ea96-4986-98a9-24b4d549cd6f"
      },
      "outputs": [
        {
          "output_type": "stream",
          "name": "stdout",
          "text": [
            "Drive already mounted at /content/drive; to attempt to forcibly remount, call drive.mount(\"/content/drive\", force_remount=True).\n"
          ]
        }
      ],
      "source": [
        "from google.colab import drive\n",
        "drive.mount('/content/drive')"
      ]
    },
    {
      "cell_type": "code",
      "source": [
        "cd /content/drive/MyDrive/industry_classification"
      ],
      "metadata": {
        "colab": {
          "base_uri": "https://localhost:8080/"
        },
        "id": "ZsKnIIZgpDum",
        "outputId": "5e4b7b6f-e44c-436a-ed0f-b823907d5d02"
      },
      "execution_count": null,
      "outputs": [
        {
          "output_type": "stream",
          "name": "stdout",
          "text": [
            "/content/drive/MyDrive/industry_classification\n"
          ]
        }
      ]
    },
    {
      "cell_type": "code",
      "source": [
        "!pip install transformers -qq\n",
        "!pip install datasets -qq\n",
        "!pip install wandb -qq\n",
        "!pip install scikit-learn -qq"
      ],
      "metadata": {
        "id": "yb4C_a3_gAYp"
      },
      "execution_count": null,
      "outputs": []
    },
    {
      "cell_type": "code",
      "source": [
        "import pandas as pd\n",
        "import random\n",
        "import numpy as np\n",
        "from tqdm import tqdm, tqdm_notebook\n",
        "import torch\n",
        "import torch.nn.functional as F\n",
        "import torch.nn as nn\n",
        "from torch.utils.data import DataLoader\n",
        "from torch.utils.data import Dataset\n",
        "from sklearn.model_selection import KFold, StratifiedKFold, GridSearchCV, train_test_split\n",
        "from sklearn.metrics import accuracy_score, recall_score, precision_score, f1_score\n",
        "\n",
        "from matplotlib import pyplot as plt\n",
        "import seaborn as sns\n",
        "\n",
        "from transformers import AutoModelForSequenceClassification, AutoConfig, AutoTokenizer\n",
        "from transformers import TrainingArguments, Trainer"
      ],
      "metadata": {
        "id": "mLoL4NC8pMEp"
      },
      "execution_count": null,
      "outputs": []
    },
    {
      "cell_type": "markdown",
      "source": [
        "# 1. Prepare the Data"
      ],
      "metadata": {
        "id": "tR0cMbhwiz5h"
      }
    },
    {
      "cell_type": "markdown",
      "source": [
        "### 1-1. Take text chunk from class table by subcategories"
      ],
      "metadata": {
        "id": "XAX9nzZwHt22"
      }
    },
    {
      "cell_type": "code",
      "source": [
        "df_eng = pd.read_excel('data/한국표준산업분류(10차)_영문.xlsx')"
      ],
      "metadata": {
        "id": "Wpauf3qH9m-m"
      },
      "execution_count": null,
      "outputs": []
    },
    {
      "cell_type": "code",
      "source": [
        "df_eng"
      ],
      "metadata": {
        "colab": {
          "base_uri": "https://localhost:8080/",
          "height": 423
        },
        "id": "n58x5gFYDpUI",
        "outputId": "cfe7215d-8ded-4536-9fab-8268512ecddb"
      },
      "execution_count": null,
      "outputs": [
        {
          "output_type": "execute_result",
          "data": {
            "text/plain": [
              "                   A 농업, 임업 및 어업(01~03)        Unnamed: 1  \\\n",
              "0     Agriculture, forestry and fishing               NaN   \n",
              "1                                    01                농업   \n",
              "2                                   011            작물 재배업   \n",
              "3                                  0111  곡물 및 기타 식량작물 재배업   \n",
              "4                                 01110  곡물 및 기타 식량작물 재배업   \n",
              "...                                 ...               ...   \n",
              "2068                                 99         국제 및 외국기관   \n",
              "2069                                990         국제 및 외국기관   \n",
              "2070                               9900         국제 및 외국기관   \n",
              "2071                              99001           주한 외국공관   \n",
              "2072                              99009      기타 국제 및 외국기관   \n",
              "\n",
              "                                             Unnamed: 2  \n",
              "0                                                   NaN  \n",
              "1                                           Agriculture  \n",
              "2                                      Growing of crops  \n",
              "3      Growing of cereal crops and other crops for food  \n",
              "4      Growing of cereal crops and other crops for food  \n",
              "...                                                 ...  \n",
              "2068  Activities of extraterritorial organizations a...  \n",
              "2069  Activities of extraterritorial organizations a...  \n",
              "2070  Activities of extraterritorial organizations a...  \n",
              "2071                         Foreign officail residence  \n",
              "2072  Other extraterritorial organizations and bodie...  \n",
              "\n",
              "[2073 rows x 3 columns]"
            ],
            "text/html": [
              "\n",
              "  <div id=\"df-a3db1288-8d38-437c-8510-ea3da6434e72\">\n",
              "    <div class=\"colab-df-container\">\n",
              "      <div>\n",
              "<style scoped>\n",
              "    .dataframe tbody tr th:only-of-type {\n",
              "        vertical-align: middle;\n",
              "    }\n",
              "\n",
              "    .dataframe tbody tr th {\n",
              "        vertical-align: top;\n",
              "    }\n",
              "\n",
              "    .dataframe thead th {\n",
              "        text-align: right;\n",
              "    }\n",
              "</style>\n",
              "<table border=\"1\" class=\"dataframe\">\n",
              "  <thead>\n",
              "    <tr style=\"text-align: right;\">\n",
              "      <th></th>\n",
              "      <th>A 농업, 임업 및 어업(01~03)</th>\n",
              "      <th>Unnamed: 1</th>\n",
              "      <th>Unnamed: 2</th>\n",
              "    </tr>\n",
              "  </thead>\n",
              "  <tbody>\n",
              "    <tr>\n",
              "      <th>0</th>\n",
              "      <td>Agriculture, forestry and fishing</td>\n",
              "      <td>NaN</td>\n",
              "      <td>NaN</td>\n",
              "    </tr>\n",
              "    <tr>\n",
              "      <th>1</th>\n",
              "      <td>01</td>\n",
              "      <td>농업</td>\n",
              "      <td>Agriculture</td>\n",
              "    </tr>\n",
              "    <tr>\n",
              "      <th>2</th>\n",
              "      <td>011</td>\n",
              "      <td>작물 재배업</td>\n",
              "      <td>Growing of crops</td>\n",
              "    </tr>\n",
              "    <tr>\n",
              "      <th>3</th>\n",
              "      <td>0111</td>\n",
              "      <td>곡물 및 기타 식량작물 재배업</td>\n",
              "      <td>Growing of cereal crops and other crops for food</td>\n",
              "    </tr>\n",
              "    <tr>\n",
              "      <th>4</th>\n",
              "      <td>01110</td>\n",
              "      <td>곡물 및 기타 식량작물 재배업</td>\n",
              "      <td>Growing of cereal crops and other crops for food</td>\n",
              "    </tr>\n",
              "    <tr>\n",
              "      <th>...</th>\n",
              "      <td>...</td>\n",
              "      <td>...</td>\n",
              "      <td>...</td>\n",
              "    </tr>\n",
              "    <tr>\n",
              "      <th>2068</th>\n",
              "      <td>99</td>\n",
              "      <td>국제 및 외국기관</td>\n",
              "      <td>Activities of extraterritorial organizations a...</td>\n",
              "    </tr>\n",
              "    <tr>\n",
              "      <th>2069</th>\n",
              "      <td>990</td>\n",
              "      <td>국제 및 외국기관</td>\n",
              "      <td>Activities of extraterritorial organizations a...</td>\n",
              "    </tr>\n",
              "    <tr>\n",
              "      <th>2070</th>\n",
              "      <td>9900</td>\n",
              "      <td>국제 및 외국기관</td>\n",
              "      <td>Activities of extraterritorial organizations a...</td>\n",
              "    </tr>\n",
              "    <tr>\n",
              "      <th>2071</th>\n",
              "      <td>99001</td>\n",
              "      <td>주한 외국공관</td>\n",
              "      <td>Foreign officail residence</td>\n",
              "    </tr>\n",
              "    <tr>\n",
              "      <th>2072</th>\n",
              "      <td>99009</td>\n",
              "      <td>기타 국제 및 외국기관</td>\n",
              "      <td>Other extraterritorial organizations and bodie...</td>\n",
              "    </tr>\n",
              "  </tbody>\n",
              "</table>\n",
              "<p>2073 rows × 3 columns</p>\n",
              "</div>\n",
              "      <button class=\"colab-df-convert\" onclick=\"convertToInteractive('df-a3db1288-8d38-437c-8510-ea3da6434e72')\"\n",
              "              title=\"Convert this dataframe to an interactive table.\"\n",
              "              style=\"display:none;\">\n",
              "        \n",
              "  <svg xmlns=\"http://www.w3.org/2000/svg\" height=\"24px\"viewBox=\"0 0 24 24\"\n",
              "       width=\"24px\">\n",
              "    <path d=\"M0 0h24v24H0V0z\" fill=\"none\"/>\n",
              "    <path d=\"M18.56 5.44l.94 2.06.94-2.06 2.06-.94-2.06-.94-.94-2.06-.94 2.06-2.06.94zm-11 1L8.5 8.5l.94-2.06 2.06-.94-2.06-.94L8.5 2.5l-.94 2.06-2.06.94zm10 10l.94 2.06.94-2.06 2.06-.94-2.06-.94-.94-2.06-.94 2.06-2.06.94z\"/><path d=\"M17.41 7.96l-1.37-1.37c-.4-.4-.92-.59-1.43-.59-.52 0-1.04.2-1.43.59L10.3 9.45l-7.72 7.72c-.78.78-.78 2.05 0 2.83L4 21.41c.39.39.9.59 1.41.59.51 0 1.02-.2 1.41-.59l7.78-7.78 2.81-2.81c.8-.78.8-2.07 0-2.86zM5.41 20L4 18.59l7.72-7.72 1.47 1.35L5.41 20z\"/>\n",
              "  </svg>\n",
              "      </button>\n",
              "      \n",
              "  <style>\n",
              "    .colab-df-container {\n",
              "      display:flex;\n",
              "      flex-wrap:wrap;\n",
              "      gap: 12px;\n",
              "    }\n",
              "\n",
              "    .colab-df-convert {\n",
              "      background-color: #E8F0FE;\n",
              "      border: none;\n",
              "      border-radius: 50%;\n",
              "      cursor: pointer;\n",
              "      display: none;\n",
              "      fill: #1967D2;\n",
              "      height: 32px;\n",
              "      padding: 0 0 0 0;\n",
              "      width: 32px;\n",
              "    }\n",
              "\n",
              "    .colab-df-convert:hover {\n",
              "      background-color: #E2EBFA;\n",
              "      box-shadow: 0px 1px 2px rgba(60, 64, 67, 0.3), 0px 1px 3px 1px rgba(60, 64, 67, 0.15);\n",
              "      fill: #174EA6;\n",
              "    }\n",
              "\n",
              "    [theme=dark] .colab-df-convert {\n",
              "      background-color: #3B4455;\n",
              "      fill: #D2E3FC;\n",
              "    }\n",
              "\n",
              "    [theme=dark] .colab-df-convert:hover {\n",
              "      background-color: #434B5C;\n",
              "      box-shadow: 0px 1px 3px 1px rgba(0, 0, 0, 0.15);\n",
              "      filter: drop-shadow(0px 1px 2px rgba(0, 0, 0, 0.3));\n",
              "      fill: #FFFFFF;\n",
              "    }\n",
              "  </style>\n",
              "\n",
              "      <script>\n",
              "        const buttonEl =\n",
              "          document.querySelector('#df-a3db1288-8d38-437c-8510-ea3da6434e72 button.colab-df-convert');\n",
              "        buttonEl.style.display =\n",
              "          google.colab.kernel.accessAllowed ? 'block' : 'none';\n",
              "\n",
              "        async function convertToInteractive(key) {\n",
              "          const element = document.querySelector('#df-a3db1288-8d38-437c-8510-ea3da6434e72');\n",
              "          const dataTable =\n",
              "            await google.colab.kernel.invokeFunction('convertToInteractive',\n",
              "                                                     [key], {});\n",
              "          if (!dataTable) return;\n",
              "\n",
              "          const docLinkHtml = 'Like what you see? Visit the ' +\n",
              "            '<a target=\"_blank\" href=https://colab.research.google.com/notebooks/data_table.ipynb>data table notebook</a>'\n",
              "            + ' to learn more about interactive tables.';\n",
              "          element.innerHTML = '';\n",
              "          dataTable['output_type'] = 'display_data';\n",
              "          await google.colab.output.renderOutput(dataTable, element);\n",
              "          const docLink = document.createElement('div');\n",
              "          docLink.innerHTML = docLinkHtml;\n",
              "          element.appendChild(docLink);\n",
              "        }\n",
              "      </script>\n",
              "    </div>\n",
              "  </div>\n",
              "  "
            ]
          },
          "metadata": {},
          "execution_count": 71
        }
      ]
    },
    {
      "cell_type": "code",
      "source": [
        "df_eng = df_eng.rename(columns={'A 농업, 임업 및 어업(01~03)':'code', 'Unnamed: 1':'korean_name', 'Unnamed: 2':'english_name'})"
      ],
      "metadata": {
        "id": "W-TrO_Cb-wpu"
      },
      "execution_count": null,
      "outputs": []
    },
    {
      "cell_type": "code",
      "source": [
        "df_eng = df_eng.dropna(how='any')"
      ],
      "metadata": {
        "id": "InB5R4l7_gOA"
      },
      "execution_count": null,
      "outputs": []
    },
    {
      "cell_type": "code",
      "source": [
        "low_dict = {}\n",
        "low_dict_eng = {}\n",
        "tmp = []\n",
        "tmp_eng = []\n",
        "for code, kor_txt, eng_txt in zip(df_eng.loc[:,'code'], df_eng.loc[:,'korean_name'], df_eng.loc[:,'english_name']):\n",
        "  if len(str(code)) == 2:\n",
        "    mid_level = kor_txt\n",
        "    mid_level_eng = eng_txt\n",
        "\n",
        "  if len(str(code)) == 3:\n",
        "    tmp = [mid_level]\n",
        "    tmp.append(kor_txt)\n",
        "    low_dict[code] = tmp\n",
        "\n",
        "    tmp_code = code\n",
        "\n",
        "    tmp_eng = [mid_level_eng]\n",
        "    tmp_eng.append(eng_txt)\n",
        "    low_dict_eng[code] = tmp_eng\n",
        "\n",
        "  if len(str(code)) == 4:\n",
        "    low_dict[tmp_code].append(kor_txt)\n",
        "    low_dict_eng[tmp_code].append(eng_txt)\n",
        "\n",
        "  if len(str(code)) == 5:\n",
        "    low_dict[tmp_code].append(kor_txt)\n",
        "    low_dict_eng[tmp_code].append(eng_txt)"
      ],
      "metadata": {
        "id": "4QfOLa-eAFEf"
      },
      "execution_count": null,
      "outputs": []
    },
    {
      "cell_type": "code",
      "source": [
        "for key, value in low_dict.items():\n",
        "  low_dict[key] = ' '.join(list(set(value))) # 중복 제거 후 문자열 변환\n",
        "list(low_dict.items())[:10]"
      ],
      "metadata": {
        "colab": {
          "base_uri": "https://localhost:8080/"
        },
        "id": "Wi2992x3DyH-",
        "outputId": "d67ff21c-bcf0-4c87-b00d-98da1dbe523f"
      },
      "execution_count": null,
      "outputs": [
        {
          "output_type": "execute_result",
          "data": {
            "text/plain": [
              "[('011',\n",
              "  '채소작물 재배업 채소, 화훼작물 및 종묘 재배업 과실작물 재배업 시설작물 재배업 화훼작물 재배업 과실, 음료용 및 향신용 작물 재배업 기타 작물 재배업 곡물 및 기타 식량작물 재배업 농업 기타 시설작물 재배업 음료용 및 향신용 작물 재배업 작물 재배업 종자 및 묘목 생산업 채소, 화훼 및 과실작물 시설 재배업 콩나물 재배업'),\n",
              " ('012',\n",
              "  '양계업 기타 축산업 소 사육업 축산업 양돈업 육우 사육업 가금류 및 조류 사육업 농업 젖소 사육업 기타 가금류 및 조류 사육업 그 외 기타 축산업 말 및 양 사육업'),\n",
              " ('013', '작물재배 및 축산 복합농업 농업'),\n",
              " ('014',\n",
              "  '작물재배 관련 서비스업 작물재배 및 축산 관련 서비스업 농업 농산물 건조, 선별 및 기타 수확 후 서비스업 축산 관련 서비스업 작물재배 지원 서비스업'),\n",
              " ('015', '수렵 및 관련 서비스업 농업'),\n",
              " ('020', '임업용 종묘 생산업 영림업 벌목업 육림업 임업 관련 서비스업 임업 임산물 채취업'),\n",
              " ('031', '해수면 어업 원양 어업 연근해 어업 어업 내수면 어업 어로 어업'),\n",
              " ('032',\n",
              "  '해수면 양식 어업 수산물 부화 및 수산종자 생산업 어업 내수면 양식 어업 양식어업 및 어업관련 서비스업 어업 관련 서비스업 양식 어업'),\n",
              " ('051', '석탄, 원유 및 천연가스 광업 석탄 광업'),\n",
              " ('052', '석탄, 원유 및 천연가스 광업 원유 및 천연가스 채굴업')]"
            ]
          },
          "metadata": {},
          "execution_count": 85
        }
      ]
    },
    {
      "cell_type": "code",
      "source": [
        "for key, value in low_dict_eng.items():\n",
        "  low_dict_eng[key] = ' '.join(list(set(value))) # 중복 제거 후 문자열 변환\n",
        "list(low_dict_eng.items())[:10]"
      ],
      "metadata": {
        "colab": {
          "base_uri": "https://localhost:8080/"
        },
        "id": "tU-FGKtvHJZO",
        "outputId": "c6539284-437f-4685-973a-ee9cd67482d4"
      },
      "execution_count": null,
      "outputs": [
        {
          "output_type": "execute_result",
          "data": {
            "text/plain": [
              "[('011',\n",
              "  'Growing of beverage and spice crops Growing of crops Growing of cereal crops and other crops for food Agriculture Growing of vegetable crops, horticultural and nursery products Growing of horticultural products Growing of seed crops and nursery products Growing of vegetable crops Growing of vegetable, fruit crops and horticultural products under cover Growing of bean sprouts Growing of other crops Growing of other crops under cover Growing of fruit Growing of crops under cover  Growing of fruit, beverage and spice crops'),\n",
              " ('012',\n",
              "  'Raising of dairy cattle Raising of pigs Raising of other poultry and birds Raising of poultry and other birds Agriculture Raising of horses, sheep and goats Raising of other animals n.e.c. Raising of cattle Raising of chickens Raising of beef cattle Animal production Raising of other animals'),\n",
              " ('013',\n",
              "  'Agriculture Growing of crops combined with rasinging of animals : mixed farming'),\n",
              " ('014',\n",
              "  'Drying, sorting, grading of agricultural products and other post-harvest crop activities Services incidental to growing of crops and raising of animals Agriculture Support activities for crop production Services incidental to growing of crops Support activities for animal production'),\n",
              " ('015', 'Agriculture Hunting, trapping and related service activities'),\n",
              " ('020',\n",
              "  'Silviculture activities Operation of forest tree nurseries Forestry Logging Support services to forestry Afforestation Gathering of non-wood forest products'),\n",
              " ('031',\n",
              "  'Marine fishing Fishing Deep see fishing Littoral fishing Fishing and aquaculture Freshwater fishing'),\n",
              " ('032',\n",
              "  'Aquaculture and services incidental to fishing and aquaculture Aquaculture Inland aquaculture Services incidental to fishing and aquaculture Hatching and seeding of aquatic animals and seaweeds Fishing and aquaculture Marine aquaculture'),\n",
              " ('051',\n",
              "  'Mining of coal, crude petroleum and natural gas Mining of coal and lignite'),\n",
              " ('052',\n",
              "  'Mining of coal, crude petroleum and natural gas Extraction of crude petroleum and natural gas')]"
            ]
          },
          "metadata": {},
          "execution_count": 86
        }
      ]
    },
    {
      "cell_type": "code",
      "source": [
        "print(len(low_dict),len(low_dict_eng))"
      ],
      "metadata": {
        "colab": {
          "base_uri": "https://localhost:8080/"
        },
        "id": "PMxMsT1iHajN",
        "outputId": "3708d88e-d170-49c6-ff84-fc3332ef4658"
      },
      "execution_count": null,
      "outputs": [
        {
          "output_type": "stream",
          "name": "stdout",
          "text": [
            "232 232\n"
          ]
        }
      ]
    },
    {
      "cell_type": "code",
      "source": [
        "pd.DataFrame(list(low_dict.items()), columns = [\"code\", \"chunk_text\"]).to_csv(\"class_table_chunk_kor.csv\", index=False)\n",
        "pd.DataFrame(list(low_dict_eng.items()), columns = [\"code\", \"chunk_text\"]).to_csv(\"class_table_chunk_eng.csv\", index=False)"
      ],
      "metadata": {
        "id": "jfygy6txI93Q"
      },
      "execution_count": null,
      "outputs": []
    },
    {
      "cell_type": "markdown",
      "source": [
        "### 1-2. Load Train and Test Data & EDA"
      ],
      "metadata": {
        "id": "bDg7APX9InhH"
      }
    },
    {
      "cell_type": "code",
      "source": [
        "train = pd.read_csv('data/1. 실습용자료.txt', sep='|', encoding='cp949')\n",
        "test = pd.read_csv('data/2. 모델개발용자료.txt', sep='|', encoding='cp949')\n",
        "submission = pd.read_csv(\"data/답안 작성용 파일.csv\", encoding='cp949')"
      ],
      "metadata": {
        "id": "tubUf1YEq4lE"
      },
      "execution_count": null,
      "outputs": []
    },
    {
      "cell_type": "code",
      "source": [
        "train.sample(5)"
      ],
      "metadata": {
        "colab": {
          "base_uri": "https://localhost:8080/",
          "height": 206
        },
        "id": "1o4O_EReq57-",
        "outputId": "d0011aa9-ad8d-4117-a4f0-40783ea71e60"
      },
      "execution_count": null,
      "outputs": [
        {
          "output_type": "execute_result",
          "data": {
            "text/plain": [
              "             AI_id digit_1  digit_2  digit_3   text_obj text_mthd    text_deal\n",
              "895826  id_0895827       P       85      856     복싱학원에서      원생에게       무에타이강습\n",
              "209867  id_0209868       I       56      561  숙박 및 음식점업       NaN      기관구내식당업\n",
              "37922   id_0037923       C       25      259          철      밀링가공          반제품\n",
              "822864  id_0822865       I       56      561      음식점에서    접객시설없이   삼겹,목살,배달전문\n",
              "76458   id_0076459       L       68      682      사업장에서     일반인대상  전,월세 임대, 매매"
            ],
            "text/html": [
              "\n",
              "  <div id=\"df-a8655398-2b5a-4cc6-ba8d-9e1d17cb8807\">\n",
              "    <div class=\"colab-df-container\">\n",
              "      <div>\n",
              "<style scoped>\n",
              "    .dataframe tbody tr th:only-of-type {\n",
              "        vertical-align: middle;\n",
              "    }\n",
              "\n",
              "    .dataframe tbody tr th {\n",
              "        vertical-align: top;\n",
              "    }\n",
              "\n",
              "    .dataframe thead th {\n",
              "        text-align: right;\n",
              "    }\n",
              "</style>\n",
              "<table border=\"1\" class=\"dataframe\">\n",
              "  <thead>\n",
              "    <tr style=\"text-align: right;\">\n",
              "      <th></th>\n",
              "      <th>AI_id</th>\n",
              "      <th>digit_1</th>\n",
              "      <th>digit_2</th>\n",
              "      <th>digit_3</th>\n",
              "      <th>text_obj</th>\n",
              "      <th>text_mthd</th>\n",
              "      <th>text_deal</th>\n",
              "    </tr>\n",
              "  </thead>\n",
              "  <tbody>\n",
              "    <tr>\n",
              "      <th>895826</th>\n",
              "      <td>id_0895827</td>\n",
              "      <td>P</td>\n",
              "      <td>85</td>\n",
              "      <td>856</td>\n",
              "      <td>복싱학원에서</td>\n",
              "      <td>원생에게</td>\n",
              "      <td>무에타이강습</td>\n",
              "    </tr>\n",
              "    <tr>\n",
              "      <th>209867</th>\n",
              "      <td>id_0209868</td>\n",
              "      <td>I</td>\n",
              "      <td>56</td>\n",
              "      <td>561</td>\n",
              "      <td>숙박 및 음식점업</td>\n",
              "      <td>NaN</td>\n",
              "      <td>기관구내식당업</td>\n",
              "    </tr>\n",
              "    <tr>\n",
              "      <th>37922</th>\n",
              "      <td>id_0037923</td>\n",
              "      <td>C</td>\n",
              "      <td>25</td>\n",
              "      <td>259</td>\n",
              "      <td>철</td>\n",
              "      <td>밀링가공</td>\n",
              "      <td>반제품</td>\n",
              "    </tr>\n",
              "    <tr>\n",
              "      <th>822864</th>\n",
              "      <td>id_0822865</td>\n",
              "      <td>I</td>\n",
              "      <td>56</td>\n",
              "      <td>561</td>\n",
              "      <td>음식점에서</td>\n",
              "      <td>접객시설없이</td>\n",
              "      <td>삼겹,목살,배달전문</td>\n",
              "    </tr>\n",
              "    <tr>\n",
              "      <th>76458</th>\n",
              "      <td>id_0076459</td>\n",
              "      <td>L</td>\n",
              "      <td>68</td>\n",
              "      <td>682</td>\n",
              "      <td>사업장에서</td>\n",
              "      <td>일반인대상</td>\n",
              "      <td>전,월세 임대, 매매</td>\n",
              "    </tr>\n",
              "  </tbody>\n",
              "</table>\n",
              "</div>\n",
              "      <button class=\"colab-df-convert\" onclick=\"convertToInteractive('df-a8655398-2b5a-4cc6-ba8d-9e1d17cb8807')\"\n",
              "              title=\"Convert this dataframe to an interactive table.\"\n",
              "              style=\"display:none;\">\n",
              "        \n",
              "  <svg xmlns=\"http://www.w3.org/2000/svg\" height=\"24px\"viewBox=\"0 0 24 24\"\n",
              "       width=\"24px\">\n",
              "    <path d=\"M0 0h24v24H0V0z\" fill=\"none\"/>\n",
              "    <path d=\"M18.56 5.44l.94 2.06.94-2.06 2.06-.94-2.06-.94-.94-2.06-.94 2.06-2.06.94zm-11 1L8.5 8.5l.94-2.06 2.06-.94-2.06-.94L8.5 2.5l-.94 2.06-2.06.94zm10 10l.94 2.06.94-2.06 2.06-.94-2.06-.94-.94-2.06-.94 2.06-2.06.94z\"/><path d=\"M17.41 7.96l-1.37-1.37c-.4-.4-.92-.59-1.43-.59-.52 0-1.04.2-1.43.59L10.3 9.45l-7.72 7.72c-.78.78-.78 2.05 0 2.83L4 21.41c.39.39.9.59 1.41.59.51 0 1.02-.2 1.41-.59l7.78-7.78 2.81-2.81c.8-.78.8-2.07 0-2.86zM5.41 20L4 18.59l7.72-7.72 1.47 1.35L5.41 20z\"/>\n",
              "  </svg>\n",
              "      </button>\n",
              "      \n",
              "  <style>\n",
              "    .colab-df-container {\n",
              "      display:flex;\n",
              "      flex-wrap:wrap;\n",
              "      gap: 12px;\n",
              "    }\n",
              "\n",
              "    .colab-df-convert {\n",
              "      background-color: #E8F0FE;\n",
              "      border: none;\n",
              "      border-radius: 50%;\n",
              "      cursor: pointer;\n",
              "      display: none;\n",
              "      fill: #1967D2;\n",
              "      height: 32px;\n",
              "      padding: 0 0 0 0;\n",
              "      width: 32px;\n",
              "    }\n",
              "\n",
              "    .colab-df-convert:hover {\n",
              "      background-color: #E2EBFA;\n",
              "      box-shadow: 0px 1px 2px rgba(60, 64, 67, 0.3), 0px 1px 3px 1px rgba(60, 64, 67, 0.15);\n",
              "      fill: #174EA6;\n",
              "    }\n",
              "\n",
              "    [theme=dark] .colab-df-convert {\n",
              "      background-color: #3B4455;\n",
              "      fill: #D2E3FC;\n",
              "    }\n",
              "\n",
              "    [theme=dark] .colab-df-convert:hover {\n",
              "      background-color: #434B5C;\n",
              "      box-shadow: 0px 1px 3px 1px rgba(0, 0, 0, 0.15);\n",
              "      filter: drop-shadow(0px 1px 2px rgba(0, 0, 0, 0.3));\n",
              "      fill: #FFFFFF;\n",
              "    }\n",
              "  </style>\n",
              "\n",
              "      <script>\n",
              "        const buttonEl =\n",
              "          document.querySelector('#df-a8655398-2b5a-4cc6-ba8d-9e1d17cb8807 button.colab-df-convert');\n",
              "        buttonEl.style.display =\n",
              "          google.colab.kernel.accessAllowed ? 'block' : 'none';\n",
              "\n",
              "        async function convertToInteractive(key) {\n",
              "          const element = document.querySelector('#df-a8655398-2b5a-4cc6-ba8d-9e1d17cb8807');\n",
              "          const dataTable =\n",
              "            await google.colab.kernel.invokeFunction('convertToInteractive',\n",
              "                                                     [key], {});\n",
              "          if (!dataTable) return;\n",
              "\n",
              "          const docLinkHtml = 'Like what you see? Visit the ' +\n",
              "            '<a target=\"_blank\" href=https://colab.research.google.com/notebooks/data_table.ipynb>data table notebook</a>'\n",
              "            + ' to learn more about interactive tables.';\n",
              "          element.innerHTML = '';\n",
              "          dataTable['output_type'] = 'display_data';\n",
              "          await google.colab.output.renderOutput(dataTable, element);\n",
              "          const docLink = document.createElement('div');\n",
              "          docLink.innerHTML = docLinkHtml;\n",
              "          element.appendChild(docLink);\n",
              "        }\n",
              "      </script>\n",
              "    </div>\n",
              "  </div>\n",
              "  "
            ]
          },
          "metadata": {},
          "execution_count": 9
        }
      ]
    },
    {
      "cell_type": "code",
      "source": [
        "# 산업분류표 표기는 01~08이지만 digit_2는 1~8(int형 변수)\n",
        "train[train['digit_2']<10].sample(5)"
      ],
      "metadata": {
        "colab": {
          "base_uri": "https://localhost:8080/",
          "height": 206
        },
        "id": "KEm0b8JJgInx",
        "outputId": "a4c2d039-68d9-47c9-90ba-71ab27edad7c"
      },
      "execution_count": null,
      "outputs": [
        {
          "output_type": "execute_result",
          "data": {
            "text/plain": [
              "             AI_id digit_1  digit_2  digit_3 text_obj  text_mthd text_deal\n",
              "63931   id_0063932       B        7       72       해수  염전시설을 갖추고     천일염생산\n",
              "395496  id_0395497       B        7       72       해수      해수 증발     천일염생산\n",
              "438830  id_0438831       A        1       11   육묘시설에서   농가를 대상으로      모종판매\n",
              "981227  id_0981228       B        7       71       원석     발파, 분쇄       NaN\n",
              "528362  id_0528363       B        7       71    채석장에서         채굴     토사석채취"
            ],
            "text/html": [
              "\n",
              "  <div id=\"df-0249e545-9dd6-475e-8f8a-e90b2f04f9fd\">\n",
              "    <div class=\"colab-df-container\">\n",
              "      <div>\n",
              "<style scoped>\n",
              "    .dataframe tbody tr th:only-of-type {\n",
              "        vertical-align: middle;\n",
              "    }\n",
              "\n",
              "    .dataframe tbody tr th {\n",
              "        vertical-align: top;\n",
              "    }\n",
              "\n",
              "    .dataframe thead th {\n",
              "        text-align: right;\n",
              "    }\n",
              "</style>\n",
              "<table border=\"1\" class=\"dataframe\">\n",
              "  <thead>\n",
              "    <tr style=\"text-align: right;\">\n",
              "      <th></th>\n",
              "      <th>AI_id</th>\n",
              "      <th>digit_1</th>\n",
              "      <th>digit_2</th>\n",
              "      <th>digit_3</th>\n",
              "      <th>text_obj</th>\n",
              "      <th>text_mthd</th>\n",
              "      <th>text_deal</th>\n",
              "    </tr>\n",
              "  </thead>\n",
              "  <tbody>\n",
              "    <tr>\n",
              "      <th>63931</th>\n",
              "      <td>id_0063932</td>\n",
              "      <td>B</td>\n",
              "      <td>7</td>\n",
              "      <td>72</td>\n",
              "      <td>해수</td>\n",
              "      <td>염전시설을 갖추고</td>\n",
              "      <td>천일염생산</td>\n",
              "    </tr>\n",
              "    <tr>\n",
              "      <th>395496</th>\n",
              "      <td>id_0395497</td>\n",
              "      <td>B</td>\n",
              "      <td>7</td>\n",
              "      <td>72</td>\n",
              "      <td>해수</td>\n",
              "      <td>해수 증발</td>\n",
              "      <td>천일염생산</td>\n",
              "    </tr>\n",
              "    <tr>\n",
              "      <th>438830</th>\n",
              "      <td>id_0438831</td>\n",
              "      <td>A</td>\n",
              "      <td>1</td>\n",
              "      <td>11</td>\n",
              "      <td>육묘시설에서</td>\n",
              "      <td>농가를 대상으로</td>\n",
              "      <td>모종판매</td>\n",
              "    </tr>\n",
              "    <tr>\n",
              "      <th>981227</th>\n",
              "      <td>id_0981228</td>\n",
              "      <td>B</td>\n",
              "      <td>7</td>\n",
              "      <td>71</td>\n",
              "      <td>원석</td>\n",
              "      <td>발파, 분쇄</td>\n",
              "      <td>NaN</td>\n",
              "    </tr>\n",
              "    <tr>\n",
              "      <th>528362</th>\n",
              "      <td>id_0528363</td>\n",
              "      <td>B</td>\n",
              "      <td>7</td>\n",
              "      <td>71</td>\n",
              "      <td>채석장에서</td>\n",
              "      <td>채굴</td>\n",
              "      <td>토사석채취</td>\n",
              "    </tr>\n",
              "  </tbody>\n",
              "</table>\n",
              "</div>\n",
              "      <button class=\"colab-df-convert\" onclick=\"convertToInteractive('df-0249e545-9dd6-475e-8f8a-e90b2f04f9fd')\"\n",
              "              title=\"Convert this dataframe to an interactive table.\"\n",
              "              style=\"display:none;\">\n",
              "        \n",
              "  <svg xmlns=\"http://www.w3.org/2000/svg\" height=\"24px\"viewBox=\"0 0 24 24\"\n",
              "       width=\"24px\">\n",
              "    <path d=\"M0 0h24v24H0V0z\" fill=\"none\"/>\n",
              "    <path d=\"M18.56 5.44l.94 2.06.94-2.06 2.06-.94-2.06-.94-.94-2.06-.94 2.06-2.06.94zm-11 1L8.5 8.5l.94-2.06 2.06-.94-2.06-.94L8.5 2.5l-.94 2.06-2.06.94zm10 10l.94 2.06.94-2.06 2.06-.94-2.06-.94-.94-2.06-.94 2.06-2.06.94z\"/><path d=\"M17.41 7.96l-1.37-1.37c-.4-.4-.92-.59-1.43-.59-.52 0-1.04.2-1.43.59L10.3 9.45l-7.72 7.72c-.78.78-.78 2.05 0 2.83L4 21.41c.39.39.9.59 1.41.59.51 0 1.02-.2 1.41-.59l7.78-7.78 2.81-2.81c.8-.78.8-2.07 0-2.86zM5.41 20L4 18.59l7.72-7.72 1.47 1.35L5.41 20z\"/>\n",
              "  </svg>\n",
              "      </button>\n",
              "      \n",
              "  <style>\n",
              "    .colab-df-container {\n",
              "      display:flex;\n",
              "      flex-wrap:wrap;\n",
              "      gap: 12px;\n",
              "    }\n",
              "\n",
              "    .colab-df-convert {\n",
              "      background-color: #E8F0FE;\n",
              "      border: none;\n",
              "      border-radius: 50%;\n",
              "      cursor: pointer;\n",
              "      display: none;\n",
              "      fill: #1967D2;\n",
              "      height: 32px;\n",
              "      padding: 0 0 0 0;\n",
              "      width: 32px;\n",
              "    }\n",
              "\n",
              "    .colab-df-convert:hover {\n",
              "      background-color: #E2EBFA;\n",
              "      box-shadow: 0px 1px 2px rgba(60, 64, 67, 0.3), 0px 1px 3px 1px rgba(60, 64, 67, 0.15);\n",
              "      fill: #174EA6;\n",
              "    }\n",
              "\n",
              "    [theme=dark] .colab-df-convert {\n",
              "      background-color: #3B4455;\n",
              "      fill: #D2E3FC;\n",
              "    }\n",
              "\n",
              "    [theme=dark] .colab-df-convert:hover {\n",
              "      background-color: #434B5C;\n",
              "      box-shadow: 0px 1px 3px 1px rgba(0, 0, 0, 0.15);\n",
              "      filter: drop-shadow(0px 1px 2px rgba(0, 0, 0, 0.3));\n",
              "      fill: #FFFFFF;\n",
              "    }\n",
              "  </style>\n",
              "\n",
              "      <script>\n",
              "        const buttonEl =\n",
              "          document.querySelector('#df-0249e545-9dd6-475e-8f8a-e90b2f04f9fd button.colab-df-convert');\n",
              "        buttonEl.style.display =\n",
              "          google.colab.kernel.accessAllowed ? 'block' : 'none';\n",
              "\n",
              "        async function convertToInteractive(key) {\n",
              "          const element = document.querySelector('#df-0249e545-9dd6-475e-8f8a-e90b2f04f9fd');\n",
              "          const dataTable =\n",
              "            await google.colab.kernel.invokeFunction('convertToInteractive',\n",
              "                                                     [key], {});\n",
              "          if (!dataTable) return;\n",
              "\n",
              "          const docLinkHtml = 'Like what you see? Visit the ' +\n",
              "            '<a target=\"_blank\" href=https://colab.research.google.com/notebooks/data_table.ipynb>data table notebook</a>'\n",
              "            + ' to learn more about interactive tables.';\n",
              "          element.innerHTML = '';\n",
              "          dataTable['output_type'] = 'display_data';\n",
              "          await google.colab.output.renderOutput(dataTable, element);\n",
              "          const docLink = document.createElement('div');\n",
              "          docLink.innerHTML = docLinkHtml;\n",
              "          element.appendChild(docLink);\n",
              "        }\n",
              "      </script>\n",
              "    </div>\n",
              "  </div>\n",
              "  "
            ]
          },
          "metadata": {},
          "execution_count": 77
        }
      ]
    },
    {
      "cell_type": "code",
      "source": [
        "test.sample(5)"
      ],
      "metadata": {
        "colab": {
          "base_uri": "https://localhost:8080/",
          "height": 206
        },
        "id": "qfV4ST_xs76u",
        "outputId": "adb7e7b7-a2d7-4673-8b60-d281e57aab03"
      },
      "execution_count": null,
      "outputs": [
        {
          "output_type": "execute_result",
          "data": {
            "text/plain": [
              "           AI_id  digit_1  digit_2  digit_3 text_obj    text_mthd    text_deal\n",
              "46701  id_046702      NaN      NaN      NaN    사무실에서  화물차 지입주들 대상         업무지원\n",
              "18221  id_018222      NaN      NaN      NaN      유치원         아동대상     유아교육 서비스\n",
              "90957  id_090958      NaN      NaN      NaN    사업징에서         고객의뢰       인테리어공사\n",
              "80727  id_080728      NaN      NaN      NaN  피자전문점에서   고객의 주문에 따라        피자 제공\n",
              "69704  id_069705      NaN      NaN      NaN       환봉        CNC가공  중장비부품(기어부품)"
            ],
            "text/html": [
              "\n",
              "  <div id=\"df-1bd55178-387c-493b-bdd8-0d6d42ab0591\">\n",
              "    <div class=\"colab-df-container\">\n",
              "      <div>\n",
              "<style scoped>\n",
              "    .dataframe tbody tr th:only-of-type {\n",
              "        vertical-align: middle;\n",
              "    }\n",
              "\n",
              "    .dataframe tbody tr th {\n",
              "        vertical-align: top;\n",
              "    }\n",
              "\n",
              "    .dataframe thead th {\n",
              "        text-align: right;\n",
              "    }\n",
              "</style>\n",
              "<table border=\"1\" class=\"dataframe\">\n",
              "  <thead>\n",
              "    <tr style=\"text-align: right;\">\n",
              "      <th></th>\n",
              "      <th>AI_id</th>\n",
              "      <th>digit_1</th>\n",
              "      <th>digit_2</th>\n",
              "      <th>digit_3</th>\n",
              "      <th>text_obj</th>\n",
              "      <th>text_mthd</th>\n",
              "      <th>text_deal</th>\n",
              "    </tr>\n",
              "  </thead>\n",
              "  <tbody>\n",
              "    <tr>\n",
              "      <th>46701</th>\n",
              "      <td>id_046702</td>\n",
              "      <td>NaN</td>\n",
              "      <td>NaN</td>\n",
              "      <td>NaN</td>\n",
              "      <td>사무실에서</td>\n",
              "      <td>화물차 지입주들 대상</td>\n",
              "      <td>업무지원</td>\n",
              "    </tr>\n",
              "    <tr>\n",
              "      <th>18221</th>\n",
              "      <td>id_018222</td>\n",
              "      <td>NaN</td>\n",
              "      <td>NaN</td>\n",
              "      <td>NaN</td>\n",
              "      <td>유치원</td>\n",
              "      <td>아동대상</td>\n",
              "      <td>유아교육 서비스</td>\n",
              "    </tr>\n",
              "    <tr>\n",
              "      <th>90957</th>\n",
              "      <td>id_090958</td>\n",
              "      <td>NaN</td>\n",
              "      <td>NaN</td>\n",
              "      <td>NaN</td>\n",
              "      <td>사업징에서</td>\n",
              "      <td>고객의뢰</td>\n",
              "      <td>인테리어공사</td>\n",
              "    </tr>\n",
              "    <tr>\n",
              "      <th>80727</th>\n",
              "      <td>id_080728</td>\n",
              "      <td>NaN</td>\n",
              "      <td>NaN</td>\n",
              "      <td>NaN</td>\n",
              "      <td>피자전문점에서</td>\n",
              "      <td>고객의 주문에 따라</td>\n",
              "      <td>피자 제공</td>\n",
              "    </tr>\n",
              "    <tr>\n",
              "      <th>69704</th>\n",
              "      <td>id_069705</td>\n",
              "      <td>NaN</td>\n",
              "      <td>NaN</td>\n",
              "      <td>NaN</td>\n",
              "      <td>환봉</td>\n",
              "      <td>CNC가공</td>\n",
              "      <td>중장비부품(기어부품)</td>\n",
              "    </tr>\n",
              "  </tbody>\n",
              "</table>\n",
              "</div>\n",
              "      <button class=\"colab-df-convert\" onclick=\"convertToInteractive('df-1bd55178-387c-493b-bdd8-0d6d42ab0591')\"\n",
              "              title=\"Convert this dataframe to an interactive table.\"\n",
              "              style=\"display:none;\">\n",
              "        \n",
              "  <svg xmlns=\"http://www.w3.org/2000/svg\" height=\"24px\"viewBox=\"0 0 24 24\"\n",
              "       width=\"24px\">\n",
              "    <path d=\"M0 0h24v24H0V0z\" fill=\"none\"/>\n",
              "    <path d=\"M18.56 5.44l.94 2.06.94-2.06 2.06-.94-2.06-.94-.94-2.06-.94 2.06-2.06.94zm-11 1L8.5 8.5l.94-2.06 2.06-.94-2.06-.94L8.5 2.5l-.94 2.06-2.06.94zm10 10l.94 2.06.94-2.06 2.06-.94-2.06-.94-.94-2.06-.94 2.06-2.06.94z\"/><path d=\"M17.41 7.96l-1.37-1.37c-.4-.4-.92-.59-1.43-.59-.52 0-1.04.2-1.43.59L10.3 9.45l-7.72 7.72c-.78.78-.78 2.05 0 2.83L4 21.41c.39.39.9.59 1.41.59.51 0 1.02-.2 1.41-.59l7.78-7.78 2.81-2.81c.8-.78.8-2.07 0-2.86zM5.41 20L4 18.59l7.72-7.72 1.47 1.35L5.41 20z\"/>\n",
              "  </svg>\n",
              "      </button>\n",
              "      \n",
              "  <style>\n",
              "    .colab-df-container {\n",
              "      display:flex;\n",
              "      flex-wrap:wrap;\n",
              "      gap: 12px;\n",
              "    }\n",
              "\n",
              "    .colab-df-convert {\n",
              "      background-color: #E8F0FE;\n",
              "      border: none;\n",
              "      border-radius: 50%;\n",
              "      cursor: pointer;\n",
              "      display: none;\n",
              "      fill: #1967D2;\n",
              "      height: 32px;\n",
              "      padding: 0 0 0 0;\n",
              "      width: 32px;\n",
              "    }\n",
              "\n",
              "    .colab-df-convert:hover {\n",
              "      background-color: #E2EBFA;\n",
              "      box-shadow: 0px 1px 2px rgba(60, 64, 67, 0.3), 0px 1px 3px 1px rgba(60, 64, 67, 0.15);\n",
              "      fill: #174EA6;\n",
              "    }\n",
              "\n",
              "    [theme=dark] .colab-df-convert {\n",
              "      background-color: #3B4455;\n",
              "      fill: #D2E3FC;\n",
              "    }\n",
              "\n",
              "    [theme=dark] .colab-df-convert:hover {\n",
              "      background-color: #434B5C;\n",
              "      box-shadow: 0px 1px 3px 1px rgba(0, 0, 0, 0.15);\n",
              "      filter: drop-shadow(0px 1px 2px rgba(0, 0, 0, 0.3));\n",
              "      fill: #FFFFFF;\n",
              "    }\n",
              "  </style>\n",
              "\n",
              "      <script>\n",
              "        const buttonEl =\n",
              "          document.querySelector('#df-1bd55178-387c-493b-bdd8-0d6d42ab0591 button.colab-df-convert');\n",
              "        buttonEl.style.display =\n",
              "          google.colab.kernel.accessAllowed ? 'block' : 'none';\n",
              "\n",
              "        async function convertToInteractive(key) {\n",
              "          const element = document.querySelector('#df-1bd55178-387c-493b-bdd8-0d6d42ab0591');\n",
              "          const dataTable =\n",
              "            await google.colab.kernel.invokeFunction('convertToInteractive',\n",
              "                                                     [key], {});\n",
              "          if (!dataTable) return;\n",
              "\n",
              "          const docLinkHtml = 'Like what you see? Visit the ' +\n",
              "            '<a target=\"_blank\" href=https://colab.research.google.com/notebooks/data_table.ipynb>data table notebook</a>'\n",
              "            + ' to learn more about interactive tables.';\n",
              "          element.innerHTML = '';\n",
              "          dataTable['output_type'] = 'display_data';\n",
              "          await google.colab.output.renderOutput(dataTable, element);\n",
              "          const docLink = document.createElement('div');\n",
              "          docLink.innerHTML = docLinkHtml;\n",
              "          element.appendChild(docLink);\n",
              "        }\n",
              "      </script>\n",
              "    </div>\n",
              "  </div>\n",
              "  "
            ]
          },
          "metadata": {},
          "execution_count": 11
        }
      ]
    },
    {
      "cell_type": "code",
      "source": [
        "submission.sample(5)"
      ],
      "metadata": {
        "id": "iY9ebk0-s90r",
        "colab": {
          "base_uri": "https://localhost:8080/",
          "height": 206
        },
        "outputId": "80240eb6-d852-4486-df4a-4f425ed3a13c"
      },
      "execution_count": null,
      "outputs": [
        {
          "output_type": "execute_result",
          "data": {
            "text/plain": [
              "           AI_id  digit_1  digit_2  digit_3 text_obj    text_mthd  \\\n",
              "33532  id_033533      NaN      NaN      NaN    음식점에서     접객시설을갖우고   \n",
              "98342  id_098343      NaN      NaN      NaN    영업점에서  고객의 주문에 의하여   \n",
              "36524  id_036525      NaN      NaN      NaN    지상철에서        일반인대상   \n",
              "71544  id_071545      NaN      NaN      NaN  세라믹, 금속       재료, 조립   \n",
              "28800  id_028801      NaN      NaN      NaN    사업장에서     고객의요구에따라   \n",
              "\n",
              "                 text_deal  \n",
              "33532                삼겹살구이  \n",
              "98342  출장으로 도배 마루 실내장식 서비스  \n",
              "36524                 승객운송  \n",
              "71544                  NaN  \n",
              "28800         자동차부품및 내장품소매  "
            ],
            "text/html": [
              "\n",
              "  <div id=\"df-946ccb0f-fa25-429d-b7d1-f4837a1e6599\">\n",
              "    <div class=\"colab-df-container\">\n",
              "      <div>\n",
              "<style scoped>\n",
              "    .dataframe tbody tr th:only-of-type {\n",
              "        vertical-align: middle;\n",
              "    }\n",
              "\n",
              "    .dataframe tbody tr th {\n",
              "        vertical-align: top;\n",
              "    }\n",
              "\n",
              "    .dataframe thead th {\n",
              "        text-align: right;\n",
              "    }\n",
              "</style>\n",
              "<table border=\"1\" class=\"dataframe\">\n",
              "  <thead>\n",
              "    <tr style=\"text-align: right;\">\n",
              "      <th></th>\n",
              "      <th>AI_id</th>\n",
              "      <th>digit_1</th>\n",
              "      <th>digit_2</th>\n",
              "      <th>digit_3</th>\n",
              "      <th>text_obj</th>\n",
              "      <th>text_mthd</th>\n",
              "      <th>text_deal</th>\n",
              "    </tr>\n",
              "  </thead>\n",
              "  <tbody>\n",
              "    <tr>\n",
              "      <th>33532</th>\n",
              "      <td>id_033533</td>\n",
              "      <td>NaN</td>\n",
              "      <td>NaN</td>\n",
              "      <td>NaN</td>\n",
              "      <td>음식점에서</td>\n",
              "      <td>접객시설을갖우고</td>\n",
              "      <td>삼겹살구이</td>\n",
              "    </tr>\n",
              "    <tr>\n",
              "      <th>98342</th>\n",
              "      <td>id_098343</td>\n",
              "      <td>NaN</td>\n",
              "      <td>NaN</td>\n",
              "      <td>NaN</td>\n",
              "      <td>영업점에서</td>\n",
              "      <td>고객의 주문에 의하여</td>\n",
              "      <td>출장으로 도배 마루 실내장식 서비스</td>\n",
              "    </tr>\n",
              "    <tr>\n",
              "      <th>36524</th>\n",
              "      <td>id_036525</td>\n",
              "      <td>NaN</td>\n",
              "      <td>NaN</td>\n",
              "      <td>NaN</td>\n",
              "      <td>지상철에서</td>\n",
              "      <td>일반인대상</td>\n",
              "      <td>승객운송</td>\n",
              "    </tr>\n",
              "    <tr>\n",
              "      <th>71544</th>\n",
              "      <td>id_071545</td>\n",
              "      <td>NaN</td>\n",
              "      <td>NaN</td>\n",
              "      <td>NaN</td>\n",
              "      <td>세라믹, 금속</td>\n",
              "      <td>재료, 조립</td>\n",
              "      <td>NaN</td>\n",
              "    </tr>\n",
              "    <tr>\n",
              "      <th>28800</th>\n",
              "      <td>id_028801</td>\n",
              "      <td>NaN</td>\n",
              "      <td>NaN</td>\n",
              "      <td>NaN</td>\n",
              "      <td>사업장에서</td>\n",
              "      <td>고객의요구에따라</td>\n",
              "      <td>자동차부품및 내장품소매</td>\n",
              "    </tr>\n",
              "  </tbody>\n",
              "</table>\n",
              "</div>\n",
              "      <button class=\"colab-df-convert\" onclick=\"convertToInteractive('df-946ccb0f-fa25-429d-b7d1-f4837a1e6599')\"\n",
              "              title=\"Convert this dataframe to an interactive table.\"\n",
              "              style=\"display:none;\">\n",
              "        \n",
              "  <svg xmlns=\"http://www.w3.org/2000/svg\" height=\"24px\"viewBox=\"0 0 24 24\"\n",
              "       width=\"24px\">\n",
              "    <path d=\"M0 0h24v24H0V0z\" fill=\"none\"/>\n",
              "    <path d=\"M18.56 5.44l.94 2.06.94-2.06 2.06-.94-2.06-.94-.94-2.06-.94 2.06-2.06.94zm-11 1L8.5 8.5l.94-2.06 2.06-.94-2.06-.94L8.5 2.5l-.94 2.06-2.06.94zm10 10l.94 2.06.94-2.06 2.06-.94-2.06-.94-.94-2.06-.94 2.06-2.06.94z\"/><path d=\"M17.41 7.96l-1.37-1.37c-.4-.4-.92-.59-1.43-.59-.52 0-1.04.2-1.43.59L10.3 9.45l-7.72 7.72c-.78.78-.78 2.05 0 2.83L4 21.41c.39.39.9.59 1.41.59.51 0 1.02-.2 1.41-.59l7.78-7.78 2.81-2.81c.8-.78.8-2.07 0-2.86zM5.41 20L4 18.59l7.72-7.72 1.47 1.35L5.41 20z\"/>\n",
              "  </svg>\n",
              "      </button>\n",
              "      \n",
              "  <style>\n",
              "    .colab-df-container {\n",
              "      display:flex;\n",
              "      flex-wrap:wrap;\n",
              "      gap: 12px;\n",
              "    }\n",
              "\n",
              "    .colab-df-convert {\n",
              "      background-color: #E8F0FE;\n",
              "      border: none;\n",
              "      border-radius: 50%;\n",
              "      cursor: pointer;\n",
              "      display: none;\n",
              "      fill: #1967D2;\n",
              "      height: 32px;\n",
              "      padding: 0 0 0 0;\n",
              "      width: 32px;\n",
              "    }\n",
              "\n",
              "    .colab-df-convert:hover {\n",
              "      background-color: #E2EBFA;\n",
              "      box-shadow: 0px 1px 2px rgba(60, 64, 67, 0.3), 0px 1px 3px 1px rgba(60, 64, 67, 0.15);\n",
              "      fill: #174EA6;\n",
              "    }\n",
              "\n",
              "    [theme=dark] .colab-df-convert {\n",
              "      background-color: #3B4455;\n",
              "      fill: #D2E3FC;\n",
              "    }\n",
              "\n",
              "    [theme=dark] .colab-df-convert:hover {\n",
              "      background-color: #434B5C;\n",
              "      box-shadow: 0px 1px 3px 1px rgba(0, 0, 0, 0.15);\n",
              "      filter: drop-shadow(0px 1px 2px rgba(0, 0, 0, 0.3));\n",
              "      fill: #FFFFFF;\n",
              "    }\n",
              "  </style>\n",
              "\n",
              "      <script>\n",
              "        const buttonEl =\n",
              "          document.querySelector('#df-946ccb0f-fa25-429d-b7d1-f4837a1e6599 button.colab-df-convert');\n",
              "        buttonEl.style.display =\n",
              "          google.colab.kernel.accessAllowed ? 'block' : 'none';\n",
              "\n",
              "        async function convertToInteractive(key) {\n",
              "          const element = document.querySelector('#df-946ccb0f-fa25-429d-b7d1-f4837a1e6599');\n",
              "          const dataTable =\n",
              "            await google.colab.kernel.invokeFunction('convertToInteractive',\n",
              "                                                     [key], {});\n",
              "          if (!dataTable) return;\n",
              "\n",
              "          const docLinkHtml = 'Like what you see? Visit the ' +\n",
              "            '<a target=\"_blank\" href=https://colab.research.google.com/notebooks/data_table.ipynb>data table notebook</a>'\n",
              "            + ' to learn more about interactive tables.';\n",
              "          element.innerHTML = '';\n",
              "          dataTable['output_type'] = 'display_data';\n",
              "          await google.colab.output.renderOutput(dataTable, element);\n",
              "          const docLink = document.createElement('div');\n",
              "          docLink.innerHTML = docLinkHtml;\n",
              "          element.appendChild(docLink);\n",
              "        }\n",
              "      </script>\n",
              "    </div>\n",
              "  </div>\n",
              "  "
            ]
          },
          "metadata": {},
          "execution_count": 12
        }
      ]
    },
    {
      "cell_type": "code",
      "source": [
        "pd.DataFrame(data=train.isnull().sum()/len(train), columns=['nan_ratio'])"
      ],
      "metadata": {
        "colab": {
          "base_uri": "https://localhost:8080/",
          "height": 268
        },
        "id": "fcXuO6Y4_wX1",
        "outputId": "d3f301da-e515-4a06-b2b4-6aea2a3c2fd0"
      },
      "execution_count": null,
      "outputs": [
        {
          "output_type": "execute_result",
          "data": {
            "text/plain": [
              "           nan_ratio\n",
              "AI_id       0.000000\n",
              "digit_1     0.000000\n",
              "digit_2     0.000000\n",
              "digit_3     0.000000\n",
              "text_obj    0.016677\n",
              "text_mthd   0.043619\n",
              "text_deal   0.067652"
            ],
            "text/html": [
              "\n",
              "  <div id=\"df-8f7c2dc3-eb0d-44e0-8e56-577f1d50e0ee\">\n",
              "    <div class=\"colab-df-container\">\n",
              "      <div>\n",
              "<style scoped>\n",
              "    .dataframe tbody tr th:only-of-type {\n",
              "        vertical-align: middle;\n",
              "    }\n",
              "\n",
              "    .dataframe tbody tr th {\n",
              "        vertical-align: top;\n",
              "    }\n",
              "\n",
              "    .dataframe thead th {\n",
              "        text-align: right;\n",
              "    }\n",
              "</style>\n",
              "<table border=\"1\" class=\"dataframe\">\n",
              "  <thead>\n",
              "    <tr style=\"text-align: right;\">\n",
              "      <th></th>\n",
              "      <th>nan_ratio</th>\n",
              "    </tr>\n",
              "  </thead>\n",
              "  <tbody>\n",
              "    <tr>\n",
              "      <th>AI_id</th>\n",
              "      <td>0.000000</td>\n",
              "    </tr>\n",
              "    <tr>\n",
              "      <th>digit_1</th>\n",
              "      <td>0.000000</td>\n",
              "    </tr>\n",
              "    <tr>\n",
              "      <th>digit_2</th>\n",
              "      <td>0.000000</td>\n",
              "    </tr>\n",
              "    <tr>\n",
              "      <th>digit_3</th>\n",
              "      <td>0.000000</td>\n",
              "    </tr>\n",
              "    <tr>\n",
              "      <th>text_obj</th>\n",
              "      <td>0.016677</td>\n",
              "    </tr>\n",
              "    <tr>\n",
              "      <th>text_mthd</th>\n",
              "      <td>0.043619</td>\n",
              "    </tr>\n",
              "    <tr>\n",
              "      <th>text_deal</th>\n",
              "      <td>0.067652</td>\n",
              "    </tr>\n",
              "  </tbody>\n",
              "</table>\n",
              "</div>\n",
              "      <button class=\"colab-df-convert\" onclick=\"convertToInteractive('df-8f7c2dc3-eb0d-44e0-8e56-577f1d50e0ee')\"\n",
              "              title=\"Convert this dataframe to an interactive table.\"\n",
              "              style=\"display:none;\">\n",
              "        \n",
              "  <svg xmlns=\"http://www.w3.org/2000/svg\" height=\"24px\"viewBox=\"0 0 24 24\"\n",
              "       width=\"24px\">\n",
              "    <path d=\"M0 0h24v24H0V0z\" fill=\"none\"/>\n",
              "    <path d=\"M18.56 5.44l.94 2.06.94-2.06 2.06-.94-2.06-.94-.94-2.06-.94 2.06-2.06.94zm-11 1L8.5 8.5l.94-2.06 2.06-.94-2.06-.94L8.5 2.5l-.94 2.06-2.06.94zm10 10l.94 2.06.94-2.06 2.06-.94-2.06-.94-.94-2.06-.94 2.06-2.06.94z\"/><path d=\"M17.41 7.96l-1.37-1.37c-.4-.4-.92-.59-1.43-.59-.52 0-1.04.2-1.43.59L10.3 9.45l-7.72 7.72c-.78.78-.78 2.05 0 2.83L4 21.41c.39.39.9.59 1.41.59.51 0 1.02-.2 1.41-.59l7.78-7.78 2.81-2.81c.8-.78.8-2.07 0-2.86zM5.41 20L4 18.59l7.72-7.72 1.47 1.35L5.41 20z\"/>\n",
              "  </svg>\n",
              "      </button>\n",
              "      \n",
              "  <style>\n",
              "    .colab-df-container {\n",
              "      display:flex;\n",
              "      flex-wrap:wrap;\n",
              "      gap: 12px;\n",
              "    }\n",
              "\n",
              "    .colab-df-convert {\n",
              "      background-color: #E8F0FE;\n",
              "      border: none;\n",
              "      border-radius: 50%;\n",
              "      cursor: pointer;\n",
              "      display: none;\n",
              "      fill: #1967D2;\n",
              "      height: 32px;\n",
              "      padding: 0 0 0 0;\n",
              "      width: 32px;\n",
              "    }\n",
              "\n",
              "    .colab-df-convert:hover {\n",
              "      background-color: #E2EBFA;\n",
              "      box-shadow: 0px 1px 2px rgba(60, 64, 67, 0.3), 0px 1px 3px 1px rgba(60, 64, 67, 0.15);\n",
              "      fill: #174EA6;\n",
              "    }\n",
              "\n",
              "    [theme=dark] .colab-df-convert {\n",
              "      background-color: #3B4455;\n",
              "      fill: #D2E3FC;\n",
              "    }\n",
              "\n",
              "    [theme=dark] .colab-df-convert:hover {\n",
              "      background-color: #434B5C;\n",
              "      box-shadow: 0px 1px 3px 1px rgba(0, 0, 0, 0.15);\n",
              "      filter: drop-shadow(0px 1px 2px rgba(0, 0, 0, 0.3));\n",
              "      fill: #FFFFFF;\n",
              "    }\n",
              "  </style>\n",
              "\n",
              "      <script>\n",
              "        const buttonEl =\n",
              "          document.querySelector('#df-8f7c2dc3-eb0d-44e0-8e56-577f1d50e0ee button.colab-df-convert');\n",
              "        buttonEl.style.display =\n",
              "          google.colab.kernel.accessAllowed ? 'block' : 'none';\n",
              "\n",
              "        async function convertToInteractive(key) {\n",
              "          const element = document.querySelector('#df-8f7c2dc3-eb0d-44e0-8e56-577f1d50e0ee');\n",
              "          const dataTable =\n",
              "            await google.colab.kernel.invokeFunction('convertToInteractive',\n",
              "                                                     [key], {});\n",
              "          if (!dataTable) return;\n",
              "\n",
              "          const docLinkHtml = 'Like what you see? Visit the ' +\n",
              "            '<a target=\"_blank\" href=https://colab.research.google.com/notebooks/data_table.ipynb>data table notebook</a>'\n",
              "            + ' to learn more about interactive tables.';\n",
              "          element.innerHTML = '';\n",
              "          dataTable['output_type'] = 'display_data';\n",
              "          await google.colab.output.renderOutput(dataTable, element);\n",
              "          const docLink = document.createElement('div');\n",
              "          docLink.innerHTML = docLinkHtml;\n",
              "          element.appendChild(docLink);\n",
              "        }\n",
              "      </script>\n",
              "    </div>\n",
              "  </div>\n",
              "  "
            ]
          },
          "metadata": {},
          "execution_count": 80
        }
      ]
    },
    {
      "cell_type": "code",
      "source": [
        "pd.DataFrame(data=test.isnull().sum()/len(test), columns=['nan_ratio'])"
      ],
      "metadata": {
        "colab": {
          "base_uri": "https://localhost:8080/",
          "height": 268
        },
        "id": "Wf9wr1i1_zl3",
        "outputId": "4d5243a9-e180-4070-fea0-c2032171770d"
      },
      "execution_count": null,
      "outputs": [
        {
          "output_type": "execute_result",
          "data": {
            "text/plain": [
              "           nan_ratio\n",
              "AI_id        0.00000\n",
              "digit_1      1.00000\n",
              "digit_2      1.00000\n",
              "digit_3      1.00000\n",
              "text_obj     0.01811\n",
              "text_mthd    0.02968\n",
              "text_deal    0.06161"
            ],
            "text/html": [
              "\n",
              "  <div id=\"df-0f8eab5b-b6ae-4a31-8b4b-f8d970205745\">\n",
              "    <div class=\"colab-df-container\">\n",
              "      <div>\n",
              "<style scoped>\n",
              "    .dataframe tbody tr th:only-of-type {\n",
              "        vertical-align: middle;\n",
              "    }\n",
              "\n",
              "    .dataframe tbody tr th {\n",
              "        vertical-align: top;\n",
              "    }\n",
              "\n",
              "    .dataframe thead th {\n",
              "        text-align: right;\n",
              "    }\n",
              "</style>\n",
              "<table border=\"1\" class=\"dataframe\">\n",
              "  <thead>\n",
              "    <tr style=\"text-align: right;\">\n",
              "      <th></th>\n",
              "      <th>nan_ratio</th>\n",
              "    </tr>\n",
              "  </thead>\n",
              "  <tbody>\n",
              "    <tr>\n",
              "      <th>AI_id</th>\n",
              "      <td>0.00000</td>\n",
              "    </tr>\n",
              "    <tr>\n",
              "      <th>digit_1</th>\n",
              "      <td>1.00000</td>\n",
              "    </tr>\n",
              "    <tr>\n",
              "      <th>digit_2</th>\n",
              "      <td>1.00000</td>\n",
              "    </tr>\n",
              "    <tr>\n",
              "      <th>digit_3</th>\n",
              "      <td>1.00000</td>\n",
              "    </tr>\n",
              "    <tr>\n",
              "      <th>text_obj</th>\n",
              "      <td>0.01811</td>\n",
              "    </tr>\n",
              "    <tr>\n",
              "      <th>text_mthd</th>\n",
              "      <td>0.02968</td>\n",
              "    </tr>\n",
              "    <tr>\n",
              "      <th>text_deal</th>\n",
              "      <td>0.06161</td>\n",
              "    </tr>\n",
              "  </tbody>\n",
              "</table>\n",
              "</div>\n",
              "      <button class=\"colab-df-convert\" onclick=\"convertToInteractive('df-0f8eab5b-b6ae-4a31-8b4b-f8d970205745')\"\n",
              "              title=\"Convert this dataframe to an interactive table.\"\n",
              "              style=\"display:none;\">\n",
              "        \n",
              "  <svg xmlns=\"http://www.w3.org/2000/svg\" height=\"24px\"viewBox=\"0 0 24 24\"\n",
              "       width=\"24px\">\n",
              "    <path d=\"M0 0h24v24H0V0z\" fill=\"none\"/>\n",
              "    <path d=\"M18.56 5.44l.94 2.06.94-2.06 2.06-.94-2.06-.94-.94-2.06-.94 2.06-2.06.94zm-11 1L8.5 8.5l.94-2.06 2.06-.94-2.06-.94L8.5 2.5l-.94 2.06-2.06.94zm10 10l.94 2.06.94-2.06 2.06-.94-2.06-.94-.94-2.06-.94 2.06-2.06.94z\"/><path d=\"M17.41 7.96l-1.37-1.37c-.4-.4-.92-.59-1.43-.59-.52 0-1.04.2-1.43.59L10.3 9.45l-7.72 7.72c-.78.78-.78 2.05 0 2.83L4 21.41c.39.39.9.59 1.41.59.51 0 1.02-.2 1.41-.59l7.78-7.78 2.81-2.81c.8-.78.8-2.07 0-2.86zM5.41 20L4 18.59l7.72-7.72 1.47 1.35L5.41 20z\"/>\n",
              "  </svg>\n",
              "      </button>\n",
              "      \n",
              "  <style>\n",
              "    .colab-df-container {\n",
              "      display:flex;\n",
              "      flex-wrap:wrap;\n",
              "      gap: 12px;\n",
              "    }\n",
              "\n",
              "    .colab-df-convert {\n",
              "      background-color: #E8F0FE;\n",
              "      border: none;\n",
              "      border-radius: 50%;\n",
              "      cursor: pointer;\n",
              "      display: none;\n",
              "      fill: #1967D2;\n",
              "      height: 32px;\n",
              "      padding: 0 0 0 0;\n",
              "      width: 32px;\n",
              "    }\n",
              "\n",
              "    .colab-df-convert:hover {\n",
              "      background-color: #E2EBFA;\n",
              "      box-shadow: 0px 1px 2px rgba(60, 64, 67, 0.3), 0px 1px 3px 1px rgba(60, 64, 67, 0.15);\n",
              "      fill: #174EA6;\n",
              "    }\n",
              "\n",
              "    [theme=dark] .colab-df-convert {\n",
              "      background-color: #3B4455;\n",
              "      fill: #D2E3FC;\n",
              "    }\n",
              "\n",
              "    [theme=dark] .colab-df-convert:hover {\n",
              "      background-color: #434B5C;\n",
              "      box-shadow: 0px 1px 3px 1px rgba(0, 0, 0, 0.15);\n",
              "      filter: drop-shadow(0px 1px 2px rgba(0, 0, 0, 0.3));\n",
              "      fill: #FFFFFF;\n",
              "    }\n",
              "  </style>\n",
              "\n",
              "      <script>\n",
              "        const buttonEl =\n",
              "          document.querySelector('#df-0f8eab5b-b6ae-4a31-8b4b-f8d970205745 button.colab-df-convert');\n",
              "        buttonEl.style.display =\n",
              "          google.colab.kernel.accessAllowed ? 'block' : 'none';\n",
              "\n",
              "        async function convertToInteractive(key) {\n",
              "          const element = document.querySelector('#df-0f8eab5b-b6ae-4a31-8b4b-f8d970205745');\n",
              "          const dataTable =\n",
              "            await google.colab.kernel.invokeFunction('convertToInteractive',\n",
              "                                                     [key], {});\n",
              "          if (!dataTable) return;\n",
              "\n",
              "          const docLinkHtml = 'Like what you see? Visit the ' +\n",
              "            '<a target=\"_blank\" href=https://colab.research.google.com/notebooks/data_table.ipynb>data table notebook</a>'\n",
              "            + ' to learn more about interactive tables.';\n",
              "          element.innerHTML = '';\n",
              "          dataTable['output_type'] = 'display_data';\n",
              "          await google.colab.output.renderOutput(dataTable, element);\n",
              "          const docLink = document.createElement('div');\n",
              "          docLink.innerHTML = docLinkHtml;\n",
              "          element.appendChild(docLink);\n",
              "        }\n",
              "      </script>\n",
              "    </div>\n",
              "  </div>\n",
              "  "
            ]
          },
          "metadata": {},
          "execution_count": 81
        }
      ]
    },
    {
      "cell_type": "code",
      "source": [
        "train.dtypes"
      ],
      "metadata": {
        "colab": {
          "base_uri": "https://localhost:8080/"
        },
        "id": "24IqEg-B_1SU",
        "outputId": "1c96afbf-08e4-4b39-d2e9-5cdf954ae961"
      },
      "execution_count": null,
      "outputs": [
        {
          "output_type": "execute_result",
          "data": {
            "text/plain": [
              "AI_id        object\n",
              "digit_1      object\n",
              "digit_2       int64\n",
              "digit_3       int64\n",
              "text_obj     object\n",
              "text_mthd    object\n",
              "text_deal    object\n",
              "dtype: object"
            ]
          },
          "metadata": {},
          "execution_count": 82
        }
      ]
    },
    {
      "cell_type": "code",
      "source": [
        "test.dtypes"
      ],
      "metadata": {
        "colab": {
          "base_uri": "https://localhost:8080/"
        },
        "id": "nGrmhoKpAhiV",
        "outputId": "577a7975-8ad9-4554-cc7b-1e04a1d99f16"
      },
      "execution_count": null,
      "outputs": [
        {
          "output_type": "execute_result",
          "data": {
            "text/plain": [
              "AI_id         object\n",
              "digit_1      float64\n",
              "digit_2      float64\n",
              "digit_3      float64\n",
              "text_obj      object\n",
              "text_mthd     object\n",
              "text_deal     object\n",
              "dtype: object"
            ]
          },
          "metadata": {},
          "execution_count": 83
        }
      ]
    },
    {
      "cell_type": "code",
      "source": [
        "# A, B, D가 상대적으로 매우 부족\n",
        "train_count = train.groupby(by=[\"digit_1\"]).count()\n",
        "train_count[\"AI_id\"]"
      ],
      "metadata": {
        "colab": {
          "base_uri": "https://localhost:8080/"
        },
        "id": "hWUiZqrtlcWP",
        "outputId": "8d725c3d-ef74-4ded-88be-f9c8e7dcac3d"
      },
      "execution_count": null,
      "outputs": [
        {
          "output_type": "execute_result",
          "data": {
            "text/plain": [
              "digit_1\n",
              "A      1064\n",
              "B       424\n",
              "C    105192\n",
              "D       756\n",
              "E      2255\n",
              "F     35050\n",
              "G    246472\n",
              "H     98038\n",
              "I    187425\n",
              "J     10862\n",
              "K     10378\n",
              "L     40140\n",
              "M     28434\n",
              "N     17701\n",
              "O      2965\n",
              "P     46610\n",
              "Q     36087\n",
              "R     29751\n",
              "S    100396\n",
              "Name: AI_id, dtype: int64"
            ]
          },
          "metadata": {},
          "execution_count": 17
        }
      ]
    },
    {
      "cell_type": "code",
      "source": [
        "train.groupby(by=[\"digit_2\"]).count()[\"AI_id\"]"
      ],
      "metadata": {
        "colab": {
          "base_uri": "https://localhost:8080/"
        },
        "id": "yPlwitQ5ffvR",
        "outputId": "ff57845a-1139-4105-a07e-5a9ec78f3487"
      },
      "execution_count": null,
      "outputs": [
        {
          "output_type": "execute_result",
          "data": {
            "text/plain": [
              "digit_2\n",
              "1       827\n",
              "2       121\n",
              "3       116\n",
              "5         1\n",
              "6         7\n",
              "      ...  \n",
              "90     4504\n",
              "91    25247\n",
              "94    23625\n",
              "95    20561\n",
              "96    56210\n",
              "Name: AI_id, Length: 74, dtype: int64"
            ]
          },
          "metadata": {},
          "execution_count": 18
        }
      ]
    },
    {
      "cell_type": "code",
      "source": [
        "train.groupby(by=[\"digit_3\"]).count()[\"AI_id\"]"
      ],
      "metadata": {
        "colab": {
          "base_uri": "https://localhost:8080/"
        },
        "id": "-hZK0paXfrCz",
        "outputId": "05b610cb-43c1-4f15-af94-04e076a79017"
      },
      "execution_count": null,
      "outputs": [
        {
          "output_type": "execute_result",
          "data": {
            "text/plain": [
              "digit_3\n",
              "11       396\n",
              "12       254\n",
              "14       177\n",
              "20       121\n",
              "31        13\n",
              "       ...  \n",
              "951     1508\n",
              "952    12142\n",
              "953     6911\n",
              "961    43040\n",
              "969    13170\n",
              "Name: AI_id, Length: 225, dtype: int64"
            ]
          },
          "metadata": {},
          "execution_count": 19
        }
      ]
    },
    {
      "cell_type": "code",
      "source": [
        "# digit은 classification을 위한 것이므로 연속형 변수 dtype인 int, float를 범주형 변수를 위한 dtype인 str으로 변경\n",
        "\n",
        "train.loc[:,'digit_2'] = train.loc[:,'digit_2'].astype(str)\n",
        "train.loc[:,'digit_3'] = train.loc[:,'digit_3'].astype(str)\n",
        "test.loc[:,'digit_1'] = test.loc[:,'digit_1'].astype(str)\n",
        "test.loc[:,'digit_2'] = test.loc[:,'digit_2'].astype(str)\n",
        "test.loc[:,'digit_3'] = test.loc[:,'digit_3'].astype(str)"
      ],
      "metadata": {
        "id": "iaSxFEK5Aib9"
      },
      "execution_count": null,
      "outputs": []
    },
    {
      "cell_type": "code",
      "source": [
        "train.dtypes"
      ],
      "metadata": {
        "colab": {
          "base_uri": "https://localhost:8080/"
        },
        "id": "owwbQjsGcA25",
        "outputId": "45d7d827-6927-477b-92b2-f6b63ccb88e8"
      },
      "execution_count": null,
      "outputs": [
        {
          "output_type": "execute_result",
          "data": {
            "text/plain": [
              "AI_id        object\n",
              "digit_1      object\n",
              "digit_2      object\n",
              "digit_3      object\n",
              "text_obj     object\n",
              "text_mthd    object\n",
              "text_deal    object\n",
              "dtype: object"
            ]
          },
          "metadata": {},
          "execution_count": 85
        }
      ]
    },
    {
      "cell_type": "code",
      "source": [
        "test.dtypes"
      ],
      "metadata": {
        "colab": {
          "base_uri": "https://localhost:8080/"
        },
        "id": "vtm8XJm7cBoJ",
        "outputId": "82ea693d-357a-4d7f-bb9d-5eebc843581f"
      },
      "execution_count": null,
      "outputs": [
        {
          "output_type": "execute_result",
          "data": {
            "text/plain": [
              "AI_id        object\n",
              "digit_1      object\n",
              "digit_2      object\n",
              "digit_3      object\n",
              "text_obj     object\n",
              "text_mthd    object\n",
              "text_deal    object\n",
              "dtype: object"
            ]
          },
          "metadata": {},
          "execution_count": 86
        }
      ]
    },
    {
      "cell_type": "code",
      "source": [
        "len(train)"
      ],
      "metadata": {
        "colab": {
          "base_uri": "https://localhost:8080/"
        },
        "id": "Mxd1MXJLCxZd",
        "outputId": "64c8ba4f-5875-47e0-857f-863f2c66099c"
      },
      "execution_count": null,
      "outputs": [
        {
          "output_type": "execute_result",
          "data": {
            "text/plain": [
              "1000000"
            ]
          },
          "metadata": {},
          "execution_count": 87
        }
      ]
    },
    {
      "cell_type": "markdown",
      "source": [
        "# Data\n",
        "### input\n",
        "* text_obj: 사업 대상, 무엇을 가지고/원재료, 영업장소 등\n",
        "* text_mthd: 사업 방법, 어떤 방법으로/주요 영업, 생산활동\n",
        "* text_deal: 사업 취급품목, 생산, 제공하였는가/최종 재화, 용역\n",
        "\n",
        "### output\n",
        "* digit_1: 대분류 코드\n",
        "* digit_2: 중분류 코드 (데이터는 1 ~ 8인데 산업 분류표에는 01 ~ 08로 되어있음)\n",
        "* digit_3: 소분류 코드 (중분류 코드 + n)\n",
        "* 소분류 코드만 있으면 대, 중분류 판별 가능\n",
        "\n",
        "### Cases\n",
        "1. \n",
        "  * input에서 각각 column의 의미가 분명하지 않다고 가정하고 하나의 text로 만들기\n",
        "  * output에서 코드를 합쳐서(대분류+소분류) 하나의 코드를 예측하기 -> submission에서 다시 대중소분류 나누기\n",
        "  * 모델 하나로 해결되어 간단함.\n",
        "  * 각 변수의 의미가 반영되지 않음\n",
        "  * input 모두가 결측치인 경우가 아니면 행이 제거되지 않음"
      ],
      "metadata": {
        "id": "ATciD_vxBCed"
      }
    },
    {
      "cell_type": "markdown",
      "source": [
        "# Case 1. one-to-one classification (one text one label)"
      ],
      "metadata": {
        "id": "HAM9rGsJXF4h"
      }
    },
    {
      "cell_type": "code",
      "source": [
        "# NaN은 덧셈이 불가능하므로 빈 문자열로 교체\n",
        "\n",
        "train = train.fillna('')\n",
        "test = test.fillna('')"
      ],
      "metadata": {
        "id": "jlbF4h1F_LpB"
      },
      "execution_count": null,
      "outputs": []
    },
    {
      "cell_type": "code",
      "source": [
        "# 변수 합치기\n",
        "\n",
        "train.loc[:,\"label\"] = train.loc[:,\"digit_1\"] + train.loc[:,\"digit_3\"]\n",
        "train.loc[:,\"text\"] = train.loc[:,\"text_obj\"] + train.loc[:,\"text_mthd\"] + train.loc[:,\"text_deal\"]\n",
        "test.loc[:,\"text\"] = test.loc[:,\"text_obj\"] + test.loc[:,\"text_mthd\"] + test.loc[:,\"text_deal\"]"
      ],
      "metadata": {
        "id": "FXO8pGCNN8fC"
      },
      "execution_count": null,
      "outputs": []
    },
    {
      "cell_type": "code",
      "source": [
        "columns = [\"AI_id\", \"text\", \"label\"]\n",
        "train = train.loc[:,columns]\n",
        "train.sample(5)"
      ],
      "metadata": {
        "colab": {
          "base_uri": "https://localhost:8080/",
          "height": 206
        },
        "id": "S5Djnv92eA_F",
        "outputId": "f2bb7aca-95f0-4655-89a2-64fb2a2e4a1f"
      },
      "execution_count": null,
      "outputs": [
        {
          "output_type": "execute_result",
          "data": {
            "text/plain": [
              "             AI_id                             text label\n",
              "933871  id_0933872            부동산에서계약및중개를통해부동산중개서비스  L682\n",
              "431390  id_0431391                        철절삭가공각종부품  C259\n",
              "383637  id_0383638       보험회사에서사고 및재산손해에 대해보험업무를 수행  K651\n",
              "223802  id_0223803  중학교중학교 교육을 통해고등학교 진학을 위한 교육 서비스  P852\n",
              "417613  id_0417614                음식점에서접객시설을갖추고한식제공  I561"
            ],
            "text/html": [
              "\n",
              "  <div id=\"df-692c1e35-4efe-4cb0-963d-05e42767de01\">\n",
              "    <div class=\"colab-df-container\">\n",
              "      <div>\n",
              "<style scoped>\n",
              "    .dataframe tbody tr th:only-of-type {\n",
              "        vertical-align: middle;\n",
              "    }\n",
              "\n",
              "    .dataframe tbody tr th {\n",
              "        vertical-align: top;\n",
              "    }\n",
              "\n",
              "    .dataframe thead th {\n",
              "        text-align: right;\n",
              "    }\n",
              "</style>\n",
              "<table border=\"1\" class=\"dataframe\">\n",
              "  <thead>\n",
              "    <tr style=\"text-align: right;\">\n",
              "      <th></th>\n",
              "      <th>AI_id</th>\n",
              "      <th>text</th>\n",
              "      <th>label</th>\n",
              "    </tr>\n",
              "  </thead>\n",
              "  <tbody>\n",
              "    <tr>\n",
              "      <th>933871</th>\n",
              "      <td>id_0933872</td>\n",
              "      <td>부동산에서계약및중개를통해부동산중개서비스</td>\n",
              "      <td>L682</td>\n",
              "    </tr>\n",
              "    <tr>\n",
              "      <th>431390</th>\n",
              "      <td>id_0431391</td>\n",
              "      <td>철절삭가공각종부품</td>\n",
              "      <td>C259</td>\n",
              "    </tr>\n",
              "    <tr>\n",
              "      <th>383637</th>\n",
              "      <td>id_0383638</td>\n",
              "      <td>보험회사에서사고 및재산손해에 대해보험업무를 수행</td>\n",
              "      <td>K651</td>\n",
              "    </tr>\n",
              "    <tr>\n",
              "      <th>223802</th>\n",
              "      <td>id_0223803</td>\n",
              "      <td>중학교중학교 교육을 통해고등학교 진학을 위한 교육 서비스</td>\n",
              "      <td>P852</td>\n",
              "    </tr>\n",
              "    <tr>\n",
              "      <th>417613</th>\n",
              "      <td>id_0417614</td>\n",
              "      <td>음식점에서접객시설을갖추고한식제공</td>\n",
              "      <td>I561</td>\n",
              "    </tr>\n",
              "  </tbody>\n",
              "</table>\n",
              "</div>\n",
              "      <button class=\"colab-df-convert\" onclick=\"convertToInteractive('df-692c1e35-4efe-4cb0-963d-05e42767de01')\"\n",
              "              title=\"Convert this dataframe to an interactive table.\"\n",
              "              style=\"display:none;\">\n",
              "        \n",
              "  <svg xmlns=\"http://www.w3.org/2000/svg\" height=\"24px\"viewBox=\"0 0 24 24\"\n",
              "       width=\"24px\">\n",
              "    <path d=\"M0 0h24v24H0V0z\" fill=\"none\"/>\n",
              "    <path d=\"M18.56 5.44l.94 2.06.94-2.06 2.06-.94-2.06-.94-.94-2.06-.94 2.06-2.06.94zm-11 1L8.5 8.5l.94-2.06 2.06-.94-2.06-.94L8.5 2.5l-.94 2.06-2.06.94zm10 10l.94 2.06.94-2.06 2.06-.94-2.06-.94-.94-2.06-.94 2.06-2.06.94z\"/><path d=\"M17.41 7.96l-1.37-1.37c-.4-.4-.92-.59-1.43-.59-.52 0-1.04.2-1.43.59L10.3 9.45l-7.72 7.72c-.78.78-.78 2.05 0 2.83L4 21.41c.39.39.9.59 1.41.59.51 0 1.02-.2 1.41-.59l7.78-7.78 2.81-2.81c.8-.78.8-2.07 0-2.86zM5.41 20L4 18.59l7.72-7.72 1.47 1.35L5.41 20z\"/>\n",
              "  </svg>\n",
              "      </button>\n",
              "      \n",
              "  <style>\n",
              "    .colab-df-container {\n",
              "      display:flex;\n",
              "      flex-wrap:wrap;\n",
              "      gap: 12px;\n",
              "    }\n",
              "\n",
              "    .colab-df-convert {\n",
              "      background-color: #E8F0FE;\n",
              "      border: none;\n",
              "      border-radius: 50%;\n",
              "      cursor: pointer;\n",
              "      display: none;\n",
              "      fill: #1967D2;\n",
              "      height: 32px;\n",
              "      padding: 0 0 0 0;\n",
              "      width: 32px;\n",
              "    }\n",
              "\n",
              "    .colab-df-convert:hover {\n",
              "      background-color: #E2EBFA;\n",
              "      box-shadow: 0px 1px 2px rgba(60, 64, 67, 0.3), 0px 1px 3px 1px rgba(60, 64, 67, 0.15);\n",
              "      fill: #174EA6;\n",
              "    }\n",
              "\n",
              "    [theme=dark] .colab-df-convert {\n",
              "      background-color: #3B4455;\n",
              "      fill: #D2E3FC;\n",
              "    }\n",
              "\n",
              "    [theme=dark] .colab-df-convert:hover {\n",
              "      background-color: #434B5C;\n",
              "      box-shadow: 0px 1px 3px 1px rgba(0, 0, 0, 0.15);\n",
              "      filter: drop-shadow(0px 1px 2px rgba(0, 0, 0, 0.3));\n",
              "      fill: #FFFFFF;\n",
              "    }\n",
              "  </style>\n",
              "\n",
              "      <script>\n",
              "        const buttonEl =\n",
              "          document.querySelector('#df-692c1e35-4efe-4cb0-963d-05e42767de01 button.colab-df-convert');\n",
              "        buttonEl.style.display =\n",
              "          google.colab.kernel.accessAllowed ? 'block' : 'none';\n",
              "\n",
              "        async function convertToInteractive(key) {\n",
              "          const element = document.querySelector('#df-692c1e35-4efe-4cb0-963d-05e42767de01');\n",
              "          const dataTable =\n",
              "            await google.colab.kernel.invokeFunction('convertToInteractive',\n",
              "                                                     [key], {});\n",
              "          if (!dataTable) return;\n",
              "\n",
              "          const docLinkHtml = 'Like what you see? Visit the ' +\n",
              "            '<a target=\"_blank\" href=https://colab.research.google.com/notebooks/data_table.ipynb>data table notebook</a>'\n",
              "            + ' to learn more about interactive tables.';\n",
              "          element.innerHTML = '';\n",
              "          dataTable['output_type'] = 'display_data';\n",
              "          await google.colab.output.renderOutput(dataTable, element);\n",
              "          const docLink = document.createElement('div');\n",
              "          docLink.innerHTML = docLinkHtml;\n",
              "          element.appendChild(docLink);\n",
              "        }\n",
              "      </script>\n",
              "    </div>\n",
              "  </div>\n",
              "  "
            ]
          },
          "metadata": {},
          "execution_count": 170
        }
      ]
    },
    {
      "cell_type": "code",
      "source": [
        "train_count = train.groupby(by=[\"label\"]).count()\n",
        "train_count[\"AI_id\"]"
      ],
      "metadata": {
        "colab": {
          "base_uri": "https://localhost:8080/"
        },
        "id": "np_2Q23-lEN4",
        "outputId": "fdeadf21-4e87-4101-d919-bfd0ebb77fc4"
      },
      "execution_count": null,
      "outputs": [
        {
          "output_type": "execute_result",
          "data": {
            "text/plain": [
              "label\n",
              "A11       396\n",
              "A12       254\n",
              "A14       177\n",
              "A20       121\n",
              "A31        13\n",
              "        ...  \n",
              "S951     1508\n",
              "S952    12142\n",
              "S953     6911\n",
              "S961    43040\n",
              "S969    13170\n",
              "Name: AI_id, Length: 225, dtype: int64"
            ]
          },
          "metadata": {},
          "execution_count": 101
        }
      ]
    },
    {
      "cell_type": "code",
      "source": [
        "train['text'] = train['text'].str.replace(\"[^a-zA-Z가-힣]\",\"\", regex=True)"
      ],
      "metadata": {
        "id": "uUlVnnd-eWQ3"
      },
      "execution_count": null,
      "outputs": []
    },
    {
      "cell_type": "code",
      "source": [
        "train['text'] = train['text'].str.replace('^ +', \"\", regex=True)"
      ],
      "metadata": {
        "id": "ZysrF1J1fbvg"
      },
      "execution_count": null,
      "outputs": []
    },
    {
      "cell_type": "code",
      "source": [
        "# text는 합친 것이므로 text_obj, text_mthd, text_deal 중 하나라도 있으면 사용 가능\n",
        "# text_obj, text_mthd, text_deal가 모두 빈 문자열인 경우는 train dataset에 없었다.\n",
        "\n",
        "train[train[\"text\"]==\"\"]"
      ],
      "metadata": {
        "colab": {
          "base_uri": "https://localhost:8080/",
          "height": 50
        },
        "id": "x6nbcB6b3e7j",
        "outputId": "f9311ced-809a-444f-e042-ba8c09d6c507"
      },
      "execution_count": null,
      "outputs": [
        {
          "output_type": "execute_result",
          "data": {
            "text/plain": [
              "Empty DataFrame\n",
              "Columns: [AI_id, text, label]\n",
              "Index: []"
            ],
            "text/html": [
              "\n",
              "  <div id=\"df-cc4ce423-fcc2-4589-8c46-a079e9ef8b9a\">\n",
              "    <div class=\"colab-df-container\">\n",
              "      <div>\n",
              "<style scoped>\n",
              "    .dataframe tbody tr th:only-of-type {\n",
              "        vertical-align: middle;\n",
              "    }\n",
              "\n",
              "    .dataframe tbody tr th {\n",
              "        vertical-align: top;\n",
              "    }\n",
              "\n",
              "    .dataframe thead th {\n",
              "        text-align: right;\n",
              "    }\n",
              "</style>\n",
              "<table border=\"1\" class=\"dataframe\">\n",
              "  <thead>\n",
              "    <tr style=\"text-align: right;\">\n",
              "      <th></th>\n",
              "      <th>AI_id</th>\n",
              "      <th>text</th>\n",
              "      <th>label</th>\n",
              "    </tr>\n",
              "  </thead>\n",
              "  <tbody>\n",
              "  </tbody>\n",
              "</table>\n",
              "</div>\n",
              "      <button class=\"colab-df-convert\" onclick=\"convertToInteractive('df-cc4ce423-fcc2-4589-8c46-a079e9ef8b9a')\"\n",
              "              title=\"Convert this dataframe to an interactive table.\"\n",
              "              style=\"display:none;\">\n",
              "        \n",
              "  <svg xmlns=\"http://www.w3.org/2000/svg\" height=\"24px\"viewBox=\"0 0 24 24\"\n",
              "       width=\"24px\">\n",
              "    <path d=\"M0 0h24v24H0V0z\" fill=\"none\"/>\n",
              "    <path d=\"M18.56 5.44l.94 2.06.94-2.06 2.06-.94-2.06-.94-.94-2.06-.94 2.06-2.06.94zm-11 1L8.5 8.5l.94-2.06 2.06-.94-2.06-.94L8.5 2.5l-.94 2.06-2.06.94zm10 10l.94 2.06.94-2.06 2.06-.94-2.06-.94-.94-2.06-.94 2.06-2.06.94z\"/><path d=\"M17.41 7.96l-1.37-1.37c-.4-.4-.92-.59-1.43-.59-.52 0-1.04.2-1.43.59L10.3 9.45l-7.72 7.72c-.78.78-.78 2.05 0 2.83L4 21.41c.39.39.9.59 1.41.59.51 0 1.02-.2 1.41-.59l7.78-7.78 2.81-2.81c.8-.78.8-2.07 0-2.86zM5.41 20L4 18.59l7.72-7.72 1.47 1.35L5.41 20z\"/>\n",
              "  </svg>\n",
              "      </button>\n",
              "      \n",
              "  <style>\n",
              "    .colab-df-container {\n",
              "      display:flex;\n",
              "      flex-wrap:wrap;\n",
              "      gap: 12px;\n",
              "    }\n",
              "\n",
              "    .colab-df-convert {\n",
              "      background-color: #E8F0FE;\n",
              "      border: none;\n",
              "      border-radius: 50%;\n",
              "      cursor: pointer;\n",
              "      display: none;\n",
              "      fill: #1967D2;\n",
              "      height: 32px;\n",
              "      padding: 0 0 0 0;\n",
              "      width: 32px;\n",
              "    }\n",
              "\n",
              "    .colab-df-convert:hover {\n",
              "      background-color: #E2EBFA;\n",
              "      box-shadow: 0px 1px 2px rgba(60, 64, 67, 0.3), 0px 1px 3px 1px rgba(60, 64, 67, 0.15);\n",
              "      fill: #174EA6;\n",
              "    }\n",
              "\n",
              "    [theme=dark] .colab-df-convert {\n",
              "      background-color: #3B4455;\n",
              "      fill: #D2E3FC;\n",
              "    }\n",
              "\n",
              "    [theme=dark] .colab-df-convert:hover {\n",
              "      background-color: #434B5C;\n",
              "      box-shadow: 0px 1px 3px 1px rgba(0, 0, 0, 0.15);\n",
              "      filter: drop-shadow(0px 1px 2px rgba(0, 0, 0, 0.3));\n",
              "      fill: #FFFFFF;\n",
              "    }\n",
              "  </style>\n",
              "\n",
              "      <script>\n",
              "        const buttonEl =\n",
              "          document.querySelector('#df-cc4ce423-fcc2-4589-8c46-a079e9ef8b9a button.colab-df-convert');\n",
              "        buttonEl.style.display =\n",
              "          google.colab.kernel.accessAllowed ? 'block' : 'none';\n",
              "\n",
              "        async function convertToInteractive(key) {\n",
              "          const element = document.querySelector('#df-cc4ce423-fcc2-4589-8c46-a079e9ef8b9a');\n",
              "          const dataTable =\n",
              "            await google.colab.kernel.invokeFunction('convertToInteractive',\n",
              "                                                     [key], {});\n",
              "          if (!dataTable) return;\n",
              "\n",
              "          const docLinkHtml = 'Like what you see? Visit the ' +\n",
              "            '<a target=\"_blank\" href=https://colab.research.google.com/notebooks/data_table.ipynb>data table notebook</a>'\n",
              "            + ' to learn more about interactive tables.';\n",
              "          element.innerHTML = '';\n",
              "          dataTable['output_type'] = 'display_data';\n",
              "          await google.colab.output.renderOutput(dataTable, element);\n",
              "          const docLink = document.createElement('div');\n",
              "          docLink.innerHTML = docLinkHtml;\n",
              "          element.appendChild(docLink);\n",
              "        }\n",
              "      </script>\n",
              "    </div>\n",
              "  </div>\n",
              "  "
            ]
          },
          "metadata": {},
          "execution_count": 176
        }
      ]
    },
    {
      "cell_type": "code",
      "source": [
        "len(train)"
      ],
      "metadata": {
        "colab": {
          "base_uri": "https://localhost:8080/"
        },
        "id": "VIt35PAlfg36",
        "outputId": "aa1f9a37-c9ad-4d18-c853-804d2f93a990"
      },
      "execution_count": null,
      "outputs": [
        {
          "output_type": "execute_result",
          "data": {
            "text/plain": [
              "1000000"
            ]
          },
          "metadata": {},
          "execution_count": 174
        }
      ]
    },
    {
      "cell_type": "code",
      "source": [
        "# TODO : label 정리하고 label encoder 만들기\n",
        "len(train[\"label\"].unique())"
      ],
      "metadata": {
        "colab": {
          "base_uri": "https://localhost:8080/"
        },
        "id": "8-46Fqifgipo",
        "outputId": "b2ef09b5-3f06-415b-ce13-c97ea8429643"
      },
      "execution_count": null,
      "outputs": [
        {
          "output_type": "execute_result",
          "data": {
            "text/plain": [
              "224"
            ]
          },
          "metadata": {},
          "execution_count": 59
        }
      ]
    },
    {
      "cell_type": "code",
      "source": [
        " sorted(train[\"label\"].unique())"
      ],
      "metadata": {
        "colab": {
          "base_uri": "https://localhost:8080/"
        },
        "id": "xzB3PdTEgmyx",
        "outputId": "25a904a9-afb3-4cc8-cc5e-85f7c017232f"
      },
      "execution_count": null,
      "outputs": [
        {
          "output_type": "execute_result",
          "data": {
            "text/plain": [
              "['A11',\n",
              " 'A12',\n",
              " 'A14',\n",
              " 'A20',\n",
              " 'A31',\n",
              " 'A32',\n",
              " 'B51',\n",
              " 'B61',\n",
              " 'B62',\n",
              " 'B71',\n",
              " 'B72',\n",
              " 'B80',\n",
              " 'C101',\n",
              " 'C102',\n",
              " 'C103',\n",
              " 'C104',\n",
              " 'C105',\n",
              " 'C106',\n",
              " 'C107',\n",
              " 'C108',\n",
              " 'C111',\n",
              " 'C112',\n",
              " 'C120',\n",
              " 'C131',\n",
              " 'C132',\n",
              " 'C133',\n",
              " 'C134',\n",
              " 'C139',\n",
              " 'C141',\n",
              " 'C142',\n",
              " 'C143',\n",
              " 'C144',\n",
              " 'C151',\n",
              " 'C152',\n",
              " 'C161',\n",
              " 'C162',\n",
              " 'C163',\n",
              " 'C171',\n",
              " 'C172',\n",
              " 'C179',\n",
              " 'C181',\n",
              " 'C182',\n",
              " 'C191',\n",
              " 'C192',\n",
              " 'C201',\n",
              " 'C202',\n",
              " 'C203',\n",
              " 'C204',\n",
              " 'C205',\n",
              " 'C211',\n",
              " 'C212',\n",
              " 'C213',\n",
              " 'C221',\n",
              " 'C222',\n",
              " 'C231',\n",
              " 'C232',\n",
              " 'C233',\n",
              " 'C239',\n",
              " 'C241',\n",
              " 'C242',\n",
              " 'C243',\n",
              " 'C251',\n",
              " 'C252',\n",
              " 'C259',\n",
              " 'C261',\n",
              " 'C262',\n",
              " 'C263',\n",
              " 'C264',\n",
              " 'C265',\n",
              " 'C266',\n",
              " 'C271',\n",
              " 'C272',\n",
              " 'C273',\n",
              " 'C274',\n",
              " 'C281',\n",
              " 'C282',\n",
              " 'C283',\n",
              " 'C284',\n",
              " 'C285',\n",
              " 'C289',\n",
              " 'C291',\n",
              " 'C292',\n",
              " 'C301',\n",
              " 'C302',\n",
              " 'C303',\n",
              " 'C304',\n",
              " 'C311',\n",
              " 'C312',\n",
              " 'C313',\n",
              " 'C319',\n",
              " 'C320',\n",
              " 'C331',\n",
              " 'C332',\n",
              " 'C333',\n",
              " 'C334',\n",
              " 'C339',\n",
              " 'C340',\n",
              " 'D351',\n",
              " 'D352',\n",
              " 'D353',\n",
              " 'E360',\n",
              " 'E370',\n",
              " 'E381',\n",
              " 'E382',\n",
              " 'E383',\n",
              " 'E390',\n",
              " 'F411',\n",
              " 'F412',\n",
              " 'F421',\n",
              " 'F422',\n",
              " 'F423',\n",
              " 'F424',\n",
              " 'F425',\n",
              " 'F426',\n",
              " 'G451',\n",
              " 'G452',\n",
              " 'G453',\n",
              " 'G461',\n",
              " 'G462',\n",
              " 'G463',\n",
              " 'G464',\n",
              " 'G465',\n",
              " 'G466',\n",
              " 'G467',\n",
              " 'G468',\n",
              " 'G471',\n",
              " 'G472',\n",
              " 'G473',\n",
              " 'G474',\n",
              " 'G475',\n",
              " 'G476',\n",
              " 'G477',\n",
              " 'G478',\n",
              " 'G479',\n",
              " 'H491',\n",
              " 'H492',\n",
              " 'H493',\n",
              " 'H494',\n",
              " 'H495',\n",
              " 'H501',\n",
              " 'H502',\n",
              " 'H511',\n",
              " 'H512',\n",
              " 'H521',\n",
              " 'H529',\n",
              " 'I551',\n",
              " 'I559',\n",
              " 'I561',\n",
              " 'I562',\n",
              " 'J581',\n",
              " 'J582',\n",
              " 'J591',\n",
              " 'J592',\n",
              " 'J601',\n",
              " 'J602',\n",
              " 'J611',\n",
              " 'J612',\n",
              " 'J620',\n",
              " 'J631',\n",
              " 'J639',\n",
              " 'K641',\n",
              " 'K642',\n",
              " 'K649',\n",
              " 'K651',\n",
              " 'K652',\n",
              " 'K653',\n",
              " 'K661',\n",
              " 'K662',\n",
              " 'L681',\n",
              " 'L682',\n",
              " 'M701',\n",
              " 'M702',\n",
              " 'M711',\n",
              " 'M712',\n",
              " 'M713',\n",
              " 'M714',\n",
              " 'M715',\n",
              " 'M716',\n",
              " 'M721',\n",
              " 'M729',\n",
              " 'M731',\n",
              " 'M732',\n",
              " 'M733',\n",
              " 'M739',\n",
              " 'N741',\n",
              " 'N742',\n",
              " 'N743',\n",
              " 'N751',\n",
              " 'N752',\n",
              " 'N753',\n",
              " 'N759',\n",
              " 'N761',\n",
              " 'N762',\n",
              " 'N763',\n",
              " 'N764',\n",
              " 'O841',\n",
              " 'O842',\n",
              " 'O843',\n",
              " 'O844',\n",
              " 'O845',\n",
              " 'P851',\n",
              " 'P852',\n",
              " 'P853',\n",
              " 'P854',\n",
              " 'P855',\n",
              " 'P856',\n",
              " 'P857',\n",
              " 'Q861',\n",
              " 'Q862',\n",
              " 'Q863',\n",
              " 'Q869',\n",
              " 'Q871',\n",
              " 'Q872',\n",
              " 'R901',\n",
              " 'R902',\n",
              " 'R911',\n",
              " 'R912',\n",
              " 'S941',\n",
              " 'S942',\n",
              " 'S949',\n",
              " 'S951',\n",
              " 'S952',\n",
              " 'S953',\n",
              " 'S961',\n",
              " 'S969']"
            ]
          },
          "metadata": {},
          "execution_count": 177
        }
      ]
    },
    {
      "cell_type": "code",
      "source": [
        "# from sklearn.preprocessing import LabelEncoder\n",
        "\n",
        "# encoder = LabelEncoder()\n",
        "# encoder.fit(train[\"label\"])\n",
        "# X_train_encoded = encoder.transform(train[\"label\"])\n",
        "# X_train_encoded\n",
        "\n",
        "# for label in np.unique(test[\"label\"]):\n",
        "#     if label not in encoder.classes_:\n",
        "#         encoder.classes_ = np.append(encoder.classes_, label) \n",
        "# X_test_encoded = encoder.transform(test[\"label\"])"
      ],
      "metadata": {
        "colab": {
          "base_uri": "https://localhost:8080/"
        },
        "id": "-boHYeRCj3uR",
        "outputId": "61f889d0-c632-4eec-9c54-d2c0a1ea00df"
      },
      "execution_count": null,
      "outputs": [
        {
          "output_type": "execute_result",
          "data": {
            "text/plain": [
              "array([220, 125, 122, ..., 127, 204, 146])"
            ]
          },
          "metadata": {},
          "execution_count": 70
        }
      ]
    },
    {
      "cell_type": "code",
      "source": [
        "# class IndustryDataset(torch.utils.data.Dataset):\n",
        "#   def __init__(self, dataset, is_train=True):\n",
        "#     self.dataset = dataset\n",
        "#     self.text = self.dataset[\"text\"]\n",
        "#     self.is_train = is_train\n",
        "#     if is_train:\n",
        "#       self.labels = self.dataset[\"label\"]\n",
        "\n",
        "#   def __getitem__(self, idx):\n",
        "#     text = self.text[idx]\n",
        "#     item = tokenizer(\n",
        "#         text,\n",
        "#         max_length = 144,\n",
        "#         padding = \"max_length\",\n",
        "#         truncation=True,\n",
        "#         return_tensors = \"pt\",\n",
        "#         add_special_tokens=True,\n",
        "#         return_token_type_ids=False\n",
        "#         )\n",
        "#     if self.is_train:\n",
        "#       labels = self.labels[idx]\n",
        "#       item['labels'] = torch.tensor(labels)\n",
        "#     item[\"input_ids\"] = item[\"input_ids\"].squeeze(0)\n",
        "#     item[\"attention_mask\"] = item[\"attention_mask\"].squeeze(0)\n",
        "#     return item\n",
        "\n",
        "#   def __len__(self):\n",
        "#     return len(self.dataset)"
      ],
      "metadata": {
        "id": "ArUQ9EbSoAHr"
      },
      "execution_count": null,
      "outputs": []
    }
  ]
}