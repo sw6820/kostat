{
  "nbformat": 4,
  "nbformat_minor": 0,
  "metadata": {
    "colab": {
      "name": "kostat_EDA.ipynb",
      "private_outputs": true,
      "provenance": [],
      "authorship_tag": "ABX9TyOhAtSc666s7asyyCj2J10l",
      "include_colab_link": true
    },
    "kernelspec": {
      "name": "python3",
      "display_name": "Python 3"
    },
    "language_info": {
      "name": "python"
    }
  },
  "cells": [
    {
      "cell_type": "markdown",
      "metadata": {
        "id": "view-in-github",
        "colab_type": "text"
      },
      "source": [
        "<a href=\"https://colab.research.google.com/github/sw6820/kostat/blob/main/kostat_EDA.ipynb\" target=\"_parent\"><img src=\"https://colab.research.google.com/assets/colab-badge.svg\" alt=\"Open In Colab\"/></a>"
      ]
    },
    {
      "cell_type": "code",
      "execution_count": null,
      "metadata": {
        "id": "P-PhoVdMLBuh"
      },
      "outputs": [],
      "source": [
        "from google.colab import drive\n",
        "drive.mount('/content/drive')"
      ]
    },
    {
      "cell_type": "code",
      "source": [
        "import numpy as np\n",
        "import pandas as pd\n",
        "\n",
        "import matplotlib\n",
        "%matplotlib inline\n",
        "\n",
        "import matplotlib.pyplot as plt \n",
        "\n",
        "import re"
      ],
      "metadata": {
        "id": "YvdT2431LJef"
      },
      "execution_count": null,
      "outputs": []
    },
    {
      "cell_type": "code",
      "source": [
        "df_kor = pd.read_excel('/content/drive/MyDrive/stat/한국표준산업분류(10차)_국문.xlsx', )\n",
        "df_kor"
      ],
      "metadata": {
        "id": "Wn0kibUXLWfr"
      },
      "execution_count": null,
      "outputs": []
    },
    {
      "cell_type": "code",
      "source": [
        "df_eng = pd.read_excel('/content/drive/MyDrive/stat/한국표준산업분류(10차)_영문.xlsx')\n",
        "df_eng"
      ],
      "metadata": {
        "id": "Rd9tnviCLh3_"
      },
      "execution_count": null,
      "outputs": []
    },
    {
      "cell_type": "code",
      "source": [
        "train = pd.read_csv('/content/drive/MyDrive/stat/1. 실습용자료.txt', sep='|', encoding='cp949')\n",
        "train"
      ],
      "metadata": {
        "id": "Ac6VEtIDLqBJ"
      },
      "execution_count": null,
      "outputs": []
    },
    {
      "cell_type": "code",
      "source": [
        "test = pd.read_csv('/content/drive/MyDrive/stat/2. 모델개발용자료.txt', sep='|', encoding='cp949')\n",
        "test"
      ],
      "metadata": {
        "id": "SqPNfoPk7GDD"
      },
      "execution_count": null,
      "outputs": []
    },
    {
      "cell_type": "code",
      "source": [
        "for df in [train, test]:  \n",
        "  print(df.info())\n",
        "  print(df.describe())"
      ],
      "metadata": {
        "id": "suspsI-q7xU-"
      },
      "execution_count": null,
      "outputs": []
    },
    {
      "cell_type": "code",
      "source": [
        "for col in train.columns[4:]:\n",
        "  train_len_mean = np.mean(train[col].str.len())\n",
        "  train_len_max = np.max(train[col].str.len())\n",
        "  train_len_min = np.min(train[col].str.len())\n",
        "  print(f'the length of train {col} - (min, mean, max) : ({train_len_min}, {train_len_mean}, {train_len_max})')"
      ],
      "metadata": {
        "id": "ZLP3EROh93sM"
      },
      "execution_count": null,
      "outputs": []
    },
    {
      "cell_type": "code",
      "source": [
        "plt.figure(figsize=(20,12))\n",
        "plt.suptitle(\"Histogram: the lengths\", fontsize=40)\n",
        "col_name = train.columns[4:]\n",
        "for idx, col in enumerate(col_name):\n",
        "  length = [len(str(x)) for x in df[col]]\n",
        "  plt.subplot(3, 1, idx+1)\n",
        "  plt.title(col, fontsize=20)\n",
        "  plt.hist(length, alpha=0.5, color='orange')\n",
        "\n",
        "plt.show()"
      ],
      "metadata": {
        "id": "ziKr0yTeAyh2"
      },
      "execution_count": null,
      "outputs": []
    },
    {
      "cell_type": "code",
      "source": [
        "for col in test.columns[4:]:\n",
        "  test_len_mean = np.mean(test[col].str.len())\n",
        "  test_len_max = np.max(test[col].str.len())\n",
        "  test_len_min = np.min(test[col].str.len())\n",
        "  print(f'the length of test {col} - (min, mean, max) : ({test_len_min}, {test_len_mean}, {test_len_max})')"
      ],
      "metadata": {
        "id": "FanrhT8k_m6O"
      },
      "execution_count": null,
      "outputs": []
    },
    {
      "cell_type": "code",
      "source": [
        "plt.figure(figsize=(20,12))\n",
        "plt.suptitle(\"Histogram: the lengths\", fontsize=40)\n",
        "col_name = test.columns[4:]\n",
        "for idx, col in enumerate(col_name):\n",
        "  length = [len(str(x)) for x in df[col]]\n",
        "  plt.subplot(3, 1, idx+1)\n",
        "  plt.title(col, fontsize=20)\n",
        "  plt.hist(length, alpha=0.5, color='orange')\n",
        "\n",
        "plt.show()"
      ],
      "metadata": {
        "id": "3TTAlrRtBGon"
      },
      "execution_count": null,
      "outputs": []
    },
    {
      "cell_type": "code",
      "source": [
        "char_dict = {'consonant, vowel' : r'[ㄱ-ㅎㅏ-ㅣ]', 'chinese characters' : r'[一-龥㐀-䶵豈-龎]', \\\n",
        "             'numbers' : r'[0-9]', 'english characters' : r'[a-zA-Z]', \\\n",
        "             'japanese characters' : r'[ぁ-ゔァ-ヴー々〆〤]',\\\n",
        "             'special_characters' : r'[^0-9a-zA-Z가-힣一-龥㐀-䶵豈-龎ぁ-ゔァ-ヴー々〆〤ㄱ-ㅎㅏ-ㅣ\\t\\n ]'}"
      ],
      "metadata": {
        "id": "dElgDLdPDYzn"
      },
      "execution_count": null,
      "outputs": []
    },
    {
      "cell_type": "code",
      "source": [
        "def characters(df, s, characters, regex):\n",
        "  for col in df.columns[s:]:\n",
        "    p = re.compile(regex)\n",
        "    find_char = df[col].str.findall(p)\n",
        "    print(f'{characters} : {col} : {find_char.apply(lambda x: len(str(x))).sum()}')"
      ],
      "metadata": {
        "id": "9AUkxrXRCrp8"
      },
      "execution_count": null,
      "outputs": []
    },
    {
      "cell_type": "code",
      "source": [
        "for key, val in char_dict.items():\n",
        "  characters(train, 4, key, val)\n",
        "  print('--------------------------------------------------')"
      ],
      "metadata": {
        "id": "dE1THuMUF3QT"
      },
      "execution_count": null,
      "outputs": []
    },
    {
      "cell_type": "code",
      "source": [
        "special_characters = set()\n",
        "p=re.compile(r'[^0-9a-zA-Z가-힣一-龥㐀-䶵豈-龎ぁ-ゔァ-ヴー々〆〤ㄱ-ㅎㅏ-ㅣ\\t\\n ]')\n",
        "for col in train.columns[4:]:\n",
        "  special = pd.DataFrame(train[col].str.findall(p))\n",
        "  special.dropna(inplace=True)\n",
        "  special.applymap(lambda x: special_characters.update(x))\n",
        "print(f'special {len(special_characters)} characters : ', special_characters)  "
      ],
      "metadata": {
        "id": "5ip76jNfGAQD"
      },
      "execution_count": null,
      "outputs": []
    },
    {
      "cell_type": "code",
      "source": [
        "special_characters = [*special_characters]\n",
        "for c in special_characters:\n",
        "  print(c[1:] if '\\\\' in c else c)\n",
        "  if c=='\\\\': continue\n",
        "  try:\n",
        "    p=re.compile(r'['+c+']')\n",
        "  except:    \n",
        "    p=re.compile(r'[\\\\'+c+']')\n",
        "  for col in train.columns[4:]:\n",
        "    print(f'special characters : {col} : {train[col].apply(lambda x: len(str(x))).sum()}')"
      ],
      "metadata": {
        "id": "nYoaV0UXIREm"
      },
      "execution_count": null,
      "outputs": []
    },
    {
      "cell_type": "code",
      "source": [
        ""
      ],
      "metadata": {
        "id": "iJijH9WcJTzw"
      },
      "execution_count": null,
      "outputs": []
    }
  ]
}